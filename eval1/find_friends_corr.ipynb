{
 "cells": [
  {
   "cell_type": "markdown",
   "metadata": {},
   "source": [
    "## Exercice #1 : Trouve de nouveaux ami.e.s !\n",
    "\n",
    "### Description du problème\n",
    "\n",
    "Le but de l'exercice est d'implémenter la fonctionnalité permettant d'obtenir les ami.e.s communs de deux utilisateurs sur un réseau social tel que Facebook, dans un cadre MapReduce. \n",
    "\n",
    "La notion d'ami dans un réseau social est en général bidirectionnelle (si `A` est un ami de `B` alors `B` est un ami de `A`) et on se limite ici à la recherche des amis communs de deux utilisateurs qui sont déjà amis. Cela pourra par exemple servir à proposer dans un deuxième temps à l'utilisateur `A` des amis de `B` qu'ils n'ont pas encore en commun (et réciproquement).\n",
    "\n",
    "L'approche classique la plus directe pour trouver les amis communs de deux utilisateurs est de calculer l'intersection des listes d'amis des deux utilisateurs, ce qui demande de rassembler ces listes au même endroit (i.e. sur une même machine) pour pouvoir effectuer le traitement. Pour chaque utilisateur du réseau social, il faudrait faire cela avec chacun de ses amis et relancer le calcul régulièrement car les listes d'amis évoluent rapidement. Dans le cas d'un très gros réseau social tel que Facebook, dont les données sont réparties sur de multiples serveurs, la localisation et les transferts des données que cela implique seraient très coûteux et les temps de réponse pour obtenir l'ensemble des calculs seraient prohibitifs.\n",
    "\n",
    "\n",
    "Le but est donc ici de définir des traitements appliqués aux données de chaque utilisateur qui soient indépendants les uns des autres (donc distribuables ou parallélisables), et dont les résultats seront rassemblés ensuite pour pouvoir calculer les intersections de listes d'amis de chaque paires d'utilisateurs amis. Ce type de flux de traitements correspond exactement à celui du modèle MapReduce que nous allons donc utilisé pour l'implémentation.\n",
    "\n",
    "Le principe est expliqué sur l'exemple suivant :\n",
    "\n",
    "- soit `A` un utilisateur et `[B, C, D, E]` sa liste d'amis;\n",
    "- soit `B` un autre utilisateur (ami de `A`) et `[A, C, E]` sa liste d'amis;\n",
    "\n",
    "La liste d'amis communs à `A` et `B` pourra être obtenue en faisant l'intersection entre les listes `[B, C, D, E]` et `[A, C, E]`. Le principe est de mettre en relation ces deux listes en les associant à une même clé, ici le couple d'utilisateur `(A, B)`. \n",
    "\n",
    "Dans le cadre MapReduce, les données d'un utilisateur `A` (l'utilisateur lui même, associé à sa liste d'amis) seront traitées par un même `mapper` qui en sortie associera donc la liste des amis de `A` à chaque couple `(A, *X*)` (ou `(*X*, A)` suivant les cas, cf remarque ci-après), avec `*X*` un des amis de `A`. Ces couples `(A, *X*)` constitueront donc des clés intermédiaires du flux de traitement MapReduce (en sortie des `mapper`) et la liste d'amis de `A` associée constituera une valeur intermédiaire.\n",
    "\n",
    "Pour l'exemple donné ci-dessus cela donnerait pour le `mapper` s'occupant des données de `A` :\n",
    "- `(A, B)` --> `[B, C, D, E]`\n",
    "- `(A, C)` --> `[B, C, D, E]`\n",
    "- `(A, D)` --> `[B, C, D, E]`\n",
    "- `(A, E)` --> `[B, C, D, E]`\n",
    "\n",
    "Et pour le `mapper` s'occupant des données de `B` :\n",
    "- `(A, B)` --> `[A, C, E]`\n",
    "- `(B, C)` --> `[A, C, E]`\n",
    "- `(B, E)` --> `[A, C, E]`\n",
    "\n",
    "**Remarque** : notez que les couples d'utilisateurs constituant les clés intermédiaires (en sorties des `mapper`) devront systématiquement être triés (par ordre alphabétique) afin d'obtenir une même clé `(A, B)` pour le mapper s'occupant de `A` et pour le `mapper` s'occupant de son ami `B` (et non pas `(A, B)` dans un cas et `(B, A)` dans l'autre, ce qui constituerait deux clés différentes).\n",
    "\n",
    "La partie `partitionner` de MapReduce se chargera ensuite de rassembler les listes d'utilisateurs associées à une même clé intermédiare et les `reducer` calculeront pour finir l'intersection des listes associées à chaque clé intermédiaire. Dans notre cas, il y aura exactement deux listes rassemblées par clé intermédiaire au niveau du `partitionner` : pour une clé `(A, B)` le `partitionner` rassemblera la liste d'amis de `A` et la liste d'amis de `B`. \n",
    "\n",
    "### Mise en oeuvre\n",
    "\n",
    "La fonction `map_reduce()` écrite lors du TD sur MapReduce est importée dans la cellule ci-dessous depuis le fichier `map_reduce.py` fourni (qui contient également la fonction `partitionner()`).\n",
    "\n",
    "Le fichier `friends.txt` donne sur chaque ligne le nom d'un utilisateur (premier nom) suivi de la liste de ses ami.e.s, le tout séparé par des espaces. La fonction `read_friends()` donnée ci-dessous permet de récupérer ces informations sous forme d'un dictionnaire avec comme clés les utilisateurs et comme valeurs les listes d'ami.e.s associée. Cette fonction prendra en paramètre le nom du fichier contenant les utilisateurs et leur liste d'ami.e.s."
   ]
  },
  {
   "cell_type": "code",
   "execution_count": 14,
   "metadata": {},
   "outputs": [
    {
     "name": "stdout",
     "output_type": "stream",
     "text": [
      "{'Therese': ['Vincent', 'Loevane', 'Rim', 'Sarra', 'Pauline', 'Oriane', 'Bleuenn', 'Emilien', 'Clemence', 'Clement', 'Mathis'], 'Sarra': ['Elisa', 'Clara_m', 'Mathis', 'Annaelle', 'Vincent', 'Sterenn', 'Loevane', 'Rim', 'Therese', 'Maelys', 'Oriane', 'Bleuenn'], 'Marie': ['Marion', 'Hugo', 'Clara_f', 'Bleuenn', 'Clemence', 'Jules', 'Annaelle', 'Sterenn', 'Loevane'], 'Elisa': ['Lucie', 'Clement', 'Jules', 'Clara_m', 'Sterenn', 'Floriane', 'Guillemette', 'Rim', 'Sarra'], 'Marion': ['Clemence', 'Floriane', 'Guillemette', 'Fatima_ezzahrae', 'Marie', 'Sterenn', 'Loevane', 'Anatole', 'Nicolas', 'Margaux', 'Maelys', 'Lucie', 'Pauline', 'Bleuenn'], 'Oriane': ['Sarra', 'Clara_f', 'Therese', 'Maelys', 'Bleuenn', 'Clemence', 'Clara_m', 'Fatima_ezzahrae', 'Annaelle', 'Floriane', 'Anatole', 'Rim'], 'Julianne': ['Mathis', 'Vincent', 'Rim', 'Nicolas', 'Sterenn', 'Maelys', 'Bleuenn'], 'Bleuenn': ['Marion', 'Marie', 'Sarra', 'Hugo', 'Therese', 'Lucie', 'Oriane', 'Clemence', 'Annaelle', 'Julianne', 'Fatima_ezzahrae'], 'Pauline': ['Mathis', 'Floriane', 'Marion', 'Therese', 'Margaux', 'Clement', 'Jules'], 'Jules': ['Marie', 'Nicolas', 'Maelys', 'Pauline', 'Emilien', 'Elisa', 'Annaelle', 'Loevane', 'Floriane', 'Anatole'], 'Fatima_ezzahrae': ['Hugo', 'Lucie', 'Oriane', 'Bleuenn', 'Floriane', 'Marion', 'Nicolas'], 'Annaelle': ['Bleuenn', 'Mathis', 'Vincent', 'Jules', 'Sterenn', 'Marie', 'Sarra', 'Maelys', 'Oriane'], 'Clemence': ['Clara_f', 'Therese', 'Oriane', 'Bleuenn', 'Clara_m', 'Loevane', 'Marion', 'Marie'], 'Sterenn': ['Marie', 'Sarra', 'Margaux', 'Elisa', 'Annaelle', 'Julianne', 'Vincent', 'Marion', 'Guillemette'], 'Nicolas': ['Jules', 'Julianne', 'Fatima_ezzahrae', 'Vincent', 'Floriane', 'Marion', 'Guillemette'], 'Clara_f': ['Marie', 'Hugo', 'Margaux', 'Maelys', 'Oriane', 'Emilien', 'Clemence'], 'Anatole': ['Maelys', 'Lucie', 'Oriane', 'Emilien', 'Clement', 'Jules', 'Mathis', 'Vincent', 'Marion'], 'Loevane': ['Clemence', 'Jules', 'Marion', 'Guillemette', 'Marie', 'Sarra', 'Hugo', 'Therese', 'Clement'], 'Emilien': ['Anatole', 'Hugo', 'Clara_f', 'Therese', 'Clement', 'Jules', 'Clara_m'], 'Rim': ['Oriane', 'Therese', 'Elisa', 'Julianne', 'Sarra', 'Margaux'], 'Lucie': ['Anatole', 'Bleuenn', 'Elisa', 'Vincent', 'Floriane', 'Marion', 'Fatima_ezzahrae'], 'Clara_m': ['Sarra', 'Hugo', 'Oriane', 'Emilien', 'Elisa', 'Clemence', 'Mathis'], 'Floriane': ['Lucie', 'Pauline', 'Oriane', 'Elisa', 'Clement', 'Jules', 'Fatima_ezzahrae', 'Marion', 'Guillemette', 'Nicolas'], 'Margaux': ['Pauline', 'Vincent', 'Marion', 'Rim', 'Sterenn', 'Clara_f'], 'Clement': ['Vincent', 'Loevane', 'Floriane', 'Anatole', 'Therese', 'Maelys', 'Pauline', 'Emilien', 'Elisa'], 'Maelys': ['Anatole', 'Marion', 'Sarra', 'Clara_f', 'Oriane', 'Mathis', 'Annaelle', 'Clement', 'Jules', 'Julianne'], 'Mathis': ['Clara_m', 'Julianne', 'Annaelle', 'Anatole', 'Guillemette', 'Sarra', 'Hugo', 'Therese', 'Maelys', 'Pauline'], 'Hugo': ['Mathis', 'Vincent', 'Loevane', 'Clara_m', 'Fatima_ezzahrae', 'Marie', 'Clara_f', 'Bleuenn', 'Emilien'], 'Vincent': ['Clement', 'Julianne', 'Annaelle', 'Sterenn', 'Anatole', 'Guillemette', 'Nicolas', 'Sarra', 'Hugo', 'Therese', 'Margaux', 'Lucie'], 'Guillemette': ['Elisa', 'Mathis', 'Vincent', 'Floriane', 'Sterenn', 'Loevane', 'Marion', 'Nicolas']}\n"
     ]
    }
   ],
   "source": [
    "from map_reduce import map_reduce\n",
    "\n",
    "def read_friends(filename):\n",
    "    friends = {}\n",
    "    with open(filename, 'rt', encoding='utf8') as ifile :\n",
    "        for line in ifile.readlines():\n",
    "            all = line.strip().split()\n",
    "            friends[all[0]] = all[1:]\n",
    "    return friends\n",
    "\n",
    "friends = read_friends(\"friends.txt\")\n",
    "print(friends)"
   ]
  },
  {
   "cell_type": "markdown",
   "metadata": {},
   "source": [
    "#### Partie `mapper`\n",
    "\n",
    "**Question 1.1**\n",
    "\n",
    "Ecrire une fonction `mapper_friends()` qui prendra en entrée un tuple `(clé d'entrée, valeur d'entrée)` avec comme clé le nom d'un utilisateur, et comme valeur la liste des amis de cet utilisateur, et qui renverra une liste de tuples `(clé ìntermédiaire, valeur intermédiaire)` avec comme clés les tuples `(utilisateur, ami)` (pour chaque ami de l'utilisateur) et comme valeur la liste des amis de l'utilisateur. Les tuples `(utilisateur, ami)` fournis comme clé intermédiaires en sortie du mapper devront systématiquement être triés par ordre alphabétique.\n",
    "\n",
    "Tester le résultat obtenu pour les exemples des utilisateur `A` et `B` (et leur liste d'ami.e.s repectives) donnés ci-dessus."
   ]
  },
  {
   "cell_type": "code",
   "execution_count": 15,
   "metadata": {},
   "outputs": [
    {
     "name": "stdout",
     "output_type": "stream",
     "text": [
      "[(('A', 'B'), ['B', 'C', 'D', 'E']), (('A', 'C'), ['B', 'C', 'D', 'E']), (('A', 'D'), ['B', 'C', 'D', 'E']), (('A', 'E'), ['B', 'C', 'D', 'E'])]\n",
      "[(('A', 'B'), ['A', 'C', 'E']), (('B', 'C'), ['A', 'C', 'E']), (('B', 'E'), ['A', 'C', 'E'])]\n"
     ]
    }
   ],
   "source": [
    "def mapper_friends(cle_val):\n",
    "    user, friends = cle_val\n",
    "    return [(tuple(sorted((user,f))), friends) for f in friends]\n",
    "\n",
    "print(mapper_friends((\"A\", [\"B\", \"C\", \"D\", \"E\"])))\n",
    "print(mapper_friends((\"B\", [\"A\", \"C\", \"E\"])))"
   ]
  },
  {
   "cell_type": "markdown",
   "metadata": {},
   "source": [
    "#### Partie `reducer`\n",
    "\n",
    "On souhaite écrire un `reducer` générique qui permette de calculer l'intersection de plusieurs listes (deux listes ou plus) associées à une clé.\n",
    "\n",
    "Le reducer prendra en entrée un tuple `(clé intermédiaire, [liste de valeurs intermédiaires])` avec dans notre cas, comme clé intermédiaire un tuple `(utilisateur1, utilisateur2)` et comme liste de valeurs intermédiaires une liste de deux listes : la liste d'amis de l'`utilisateur1` et la liste d'amis de l'`utilisateur2`.\n",
    "\n",
    "**Question 1.2**\n",
    "\n",
    "Ecrire une fonction `interset_2_lists()` qui prend en entrée deux listes et renvoie en sortie une liste résultat de l'intersection des deux listes d'entrée.\n",
    "\n",
    "Tester sur les listes `l1` et `l2` fournies ci-dessous."
   ]
  },
  {
   "cell_type": "code",
   "execution_count": 16,
   "metadata": {},
   "outputs": [
    {
     "data": {
      "text/plain": [
       "['a', 'c', 'd']"
      ]
     },
     "execution_count": 16,
     "metadata": {},
     "output_type": "execute_result"
    }
   ],
   "source": [
    "def intersect_2_lists(l1, l2):\n",
    "    return list(set.intersection(set(l1), set(l2)))\n",
    "\n",
    "l1 = ['a', 'b', 'c', 'd', 'e', 'f']\n",
    "l2 = ['z', 'd', 'm', 'a', 'c']\n",
    "\n",
    "intersect_2_lists(l1, l2)"
   ]
  },
  {
   "cell_type": "markdown",
   "metadata": {},
   "source": [
    "**Question 1.3**\n",
    "\n",
    "Ecrire une instruction utilisant la fonction `reduce()` du module `functools` et la fonction `interset_2_lists()` permettant de calculer l'intersection d'un nombre quelconque de listes.\n",
    "\n",
    "Tester avec l'intersection des quatre listes `l1`, `l2` (fournies ci-dessus), `l3` et `l4` (fournies ci-dessous)."
   ]
  },
  {
   "cell_type": "code",
   "execution_count": 17,
   "metadata": {},
   "outputs": [
    {
     "data": {
      "text/plain": [
       "['a', 'd']"
      ]
     },
     "execution_count": 17,
     "metadata": {},
     "output_type": "execute_result"
    }
   ],
   "source": [
    "from functools import reduce\n",
    "l3 = ['o', 'd', 'a', 'r']\n",
    "l4 = ['d', 't', 'x', 'a', 'c']\n",
    "\n",
    "reduce(intersect_2_lists, [l1, l2, l3, l4])"
   ]
  },
  {
   "cell_type": "markdown",
   "metadata": {},
   "source": [
    "**Question 1.4**\n",
    "\n",
    "Ecrire une fonction `reducer_intersect()` qui prend en entrée un tuple `(clé , [liste de listes])` et qui renvoie en sortie un tuple `(clé de sortie, liste de sortie)` avec la clé de sortie égale à la clé d'entrée et la liste de sortie correspondant à l'intersection des listes de la liste d'entrée (deuxième élément du tuple d'entrée).\n",
    "\n",
    "Tester sur la liste des listes `l1`, `l2`, `l3` et `l4` fournies ci-dessus."
   ]
  },
  {
   "cell_type": "code",
   "execution_count": 18,
   "metadata": {},
   "outputs": [
    {
     "data": {
      "text/plain": [
       "[(('u1', 'u2'), ['a', 'd'])]"
      ]
     },
     "execution_count": 18,
     "metadata": {},
     "output_type": "execute_result"
    }
   ],
   "source": [
    "def reducer_intersect(cle_val):\n",
    "    cle, list_of_lists = cle_val\n",
    "    return [(cle, list(reduce(intersect_2_lists,list_of_lists)))]\n",
    "\n",
    "reducer_intersect((('u1', 'u2'), [l1, l2, l3, l4]))"
   ]
  },
  {
   "cell_type": "markdown",
   "metadata": {},
   "source": [
    "**Question 1.5**\n",
    "\n",
    "Utiliser les fonctions `map_reduce()`, `mapper_friend()` et `reducer_intersect()` pour afficher les listes d'amis communs de chaque paire d'ami.e.s du fichier `friends.txt` comme dans l'exemple ci-dessous (début de l'affichage) :\n",
    "\n",
    "`('Anatole', 'Clement') --> ['Emilien', 'Vincent', 'Maelys']`<br>\n",
    "`('Anatole', 'Emilien') --> ['Clement', 'Jules']`<br>\n",
    "`('Anatole', 'Jules') --> ['Emilien', 'Maelys']`<br>\n",
    "`('Anatole', 'Lucie') --> ['Marion', 'Vincent']`<br>\n",
    "`('Anatole', 'Maelys') --> ['Marion', 'Oriane', 'Jules', 'Clement', 'Mathis']`<br>\n",
    "`...`\n",
    "\n",
    "Sur chaque ligne la paire d'ami.e.s est à gauche de la flèche `-->` et la liste des ami.e.s communs de ces deux ami.e.s est à droite de la flèche. Les résultats seront affichés triés par ordre alphabétique des paires d'ami.e.s."
   ]
  },
  {
   "cell_type": "code",
   "execution_count": 19,
   "metadata": {},
   "outputs": [
    {
     "name": "stdout",
     "output_type": "stream",
     "text": [
      "('Anatole', 'Clement') --> ['Emilien', 'Vincent', 'Maelys']\n",
      "('Anatole', 'Emilien') --> ['Clement', 'Jules']\n",
      "('Anatole', 'Jules') --> ['Emilien', 'Maelys']\n",
      "('Anatole', 'Lucie') --> ['Marion', 'Vincent']\n",
      "('Anatole', 'Maelys') --> ['Marion', 'Oriane', 'Jules', 'Clement', 'Mathis']\n",
      "('Anatole', 'Marion') --> ['Lucie', 'Maelys']\n",
      "('Anatole', 'Mathis') --> ['Maelys']\n",
      "('Anatole', 'Oriane') --> ['Maelys']\n",
      "('Anatole', 'Vincent') --> ['Clement', 'Lucie']\n",
      "('Annaelle', 'Bleuenn') --> ['Oriane', 'Marie', 'Sarra']\n",
      "('Annaelle', 'Jules') --> ['Maelys', 'Marie']\n",
      "('Annaelle', 'Maelys') --> ['Oriane', 'Jules', 'Sarra', 'Mathis']\n",
      "('Annaelle', 'Marie') --> ['Sterenn', 'Jules', 'Bleuenn']\n",
      "('Annaelle', 'Mathis') --> ['Maelys', 'Sarra']\n",
      "('Annaelle', 'Oriane') --> ['Maelys', 'Sarra', 'Bleuenn']\n",
      "('Annaelle', 'Sarra') --> ['Oriane', 'Maelys', 'Sterenn', 'Vincent', 'Bleuenn', 'Mathis']\n",
      "('Annaelle', 'Sterenn') --> ['Vincent', 'Marie', 'Sarra']\n",
      "('Annaelle', 'Vincent') --> ['Sterenn', 'Sarra']\n",
      "('Bleuenn', 'Clemence') --> ['Marion', 'Oriane', 'Marie', 'Therese']\n",
      "('Bleuenn', 'Fatima_ezzahrae') --> ['Marion', 'Oriane', 'Hugo', 'Lucie']\n",
      "('Bleuenn', 'Hugo') --> ['Fatima_ezzahrae', 'Marie']\n",
      "('Bleuenn', 'Julianne') --> []\n",
      "('Bleuenn', 'Lucie') --> ['Marion', 'Fatima_ezzahrae']\n",
      "('Bleuenn', 'Marie') --> ['Annaelle', 'Marion', 'Hugo', 'Clemence']\n",
      "('Bleuenn', 'Marion') --> ['Lucie', 'Fatima_ezzahrae', 'Marie', 'Clemence']\n",
      "('Bleuenn', 'Oriane') --> ['Sarra', 'Therese', 'Fatima_ezzahrae', 'Clemence', 'Annaelle']\n",
      "('Bleuenn', 'Sarra') --> ['Annaelle', 'Oriane', 'Therese']\n",
      "('Bleuenn', 'Therese') --> ['Oriane', 'Sarra', 'Clemence']\n",
      "('Clara_f', 'Clemence') --> ['Oriane', 'Marie']\n",
      "('Clara_f', 'Emilien') --> ['Hugo']\n",
      "('Clara_f', 'Hugo') --> ['Emilien', 'Marie']\n",
      "('Clara_f', 'Maelys') --> ['Oriane']\n",
      "('Clara_f', 'Margaux') --> []\n",
      "('Clara_f', 'Marie') --> ['Hugo', 'Clemence']\n",
      "('Clara_f', 'Oriane') --> ['Maelys', 'Clemence']\n",
      "('Clara_m', 'Clemence') --> ['Oriane']\n",
      "('Clara_m', 'Elisa') --> ['Sarra']\n",
      "('Clara_m', 'Emilien') --> ['Hugo']\n",
      "('Clara_m', 'Hugo') --> ['Emilien', 'Mathis']\n",
      "('Clara_m', 'Mathis') --> ['Sarra', 'Hugo']\n",
      "('Clara_m', 'Oriane') --> ['Sarra', 'Clemence']\n",
      "('Clara_m', 'Sarra') --> ['Oriane', 'Mathis', 'Elisa']\n",
      "('Clemence', 'Loevane') --> ['Marion', 'Marie', 'Therese']\n",
      "('Clemence', 'Marie') --> ['Clara_f', 'Marion', 'Bleuenn', 'Loevane']\n",
      "('Clemence', 'Marion') --> ['Marie', 'Bleuenn', 'Loevane']\n",
      "('Clemence', 'Oriane') --> ['Clara_f', 'Bleuenn', 'Therese', 'Clara_m']\n",
      "('Clemence', 'Therese') --> ['Oriane', 'Bleuenn', 'Loevane']\n",
      "('Clement', 'Elisa') --> ['Floriane']\n",
      "('Clement', 'Emilien') --> ['Anatole', 'Therese']\n",
      "('Clement', 'Floriane') --> ['Elisa', 'Pauline']\n",
      "('Clement', 'Loevane') --> ['Therese']\n",
      "('Clement', 'Maelys') --> ['Anatole']\n",
      "('Clement', 'Pauline') --> ['Floriane', 'Therese']\n",
      "('Clement', 'Therese') --> ['Emilien', 'Vincent', 'Pauline', 'Loevane']\n",
      "('Clement', 'Vincent') --> ['Anatole', 'Therese']\n",
      "('Elisa', 'Floriane') --> ['Clement', 'Jules', 'Guillemette', 'Lucie']\n",
      "('Elisa', 'Guillemette') --> ['Sterenn', 'Floriane']\n",
      "('Elisa', 'Jules') --> ['Floriane']\n",
      "('Elisa', 'Lucie') --> ['Floriane']\n",
      "('Elisa', 'Rim') --> ['Sarra']\n",
      "('Elisa', 'Sarra') --> ['Sterenn', 'Rim', 'Clara_m']\n",
      "('Elisa', 'Sterenn') --> ['Guillemette', 'Sarra']\n",
      "('Emilien', 'Hugo') --> ['Clara_f', 'Clara_m']\n",
      "('Emilien', 'Jules') --> ['Anatole']\n",
      "('Emilien', 'Therese') --> ['Clement']\n",
      "('Fatima_ezzahrae', 'Floriane') --> ['Nicolas', 'Marion', 'Oriane', 'Lucie']\n",
      "('Fatima_ezzahrae', 'Hugo') --> ['Bleuenn']\n",
      "('Fatima_ezzahrae', 'Lucie') --> ['Marion', 'Floriane', 'Bleuenn']\n",
      "('Fatima_ezzahrae', 'Marion') --> ['Nicolas', 'Lucie', 'Floriane', 'Bleuenn']\n",
      "('Fatima_ezzahrae', 'Nicolas') --> ['Marion', 'Floriane']\n",
      "('Fatima_ezzahrae', 'Oriane') --> ['Floriane', 'Bleuenn']\n",
      "('Floriane', 'Guillemette') --> ['Nicolas', 'Marion', 'Elisa']\n",
      "('Floriane', 'Jules') --> ['Nicolas', 'Elisa', 'Pauline']\n",
      "('Floriane', 'Lucie') --> ['Marion', 'Fatima_ezzahrae', 'Elisa']\n",
      "('Floriane', 'Marion') --> ['Pauline', 'Lucie', 'Fatima_ezzahrae', 'Guillemette', 'Nicolas']\n",
      "('Floriane', 'Nicolas') --> ['Marion', 'Jules', 'Fatima_ezzahrae', 'Guillemette']\n",
      "('Floriane', 'Oriane') --> ['Fatima_ezzahrae']\n",
      "('Floriane', 'Pauline') --> ['Clement', 'Marion', 'Jules']\n",
      "('Guillemette', 'Loevane') --> ['Marion']\n",
      "('Guillemette', 'Marion') --> ['Sterenn', 'Floriane', 'Nicolas', 'Loevane']\n",
      "('Guillemette', 'Mathis') --> []\n",
      "('Guillemette', 'Nicolas') --> ['Marion', 'Floriane', 'Vincent']\n",
      "('Guillemette', 'Sterenn') --> ['Marion', 'Vincent', 'Elisa']\n",
      "('Guillemette', 'Vincent') --> ['Sterenn', 'Nicolas']\n",
      "('Hugo', 'Loevane') --> ['Marie']\n",
      "('Hugo', 'Marie') --> ['Clara_f', 'Bleuenn', 'Loevane']\n",
      "('Hugo', 'Mathis') --> ['Clara_m']\n",
      "('Hugo', 'Vincent') --> []\n",
      "('Jules', 'Loevane') --> ['Marie']\n",
      "('Jules', 'Maelys') --> ['Annaelle', 'Anatole']\n",
      "('Jules', 'Marie') --> ['Annaelle', 'Loevane']\n",
      "('Jules', 'Nicolas') --> ['Floriane']\n",
      "('Jules', 'Pauline') --> ['Floriane']\n",
      "('Julianne', 'Maelys') --> ['Mathis']\n",
      "('Julianne', 'Mathis') --> ['Maelys']\n",
      "('Julianne', 'Nicolas') --> ['Vincent']\n",
      "('Julianne', 'Rim') --> []\n",
      "('Julianne', 'Sterenn') --> ['Vincent']\n",
      "('Julianne', 'Vincent') --> ['Sterenn', 'Nicolas']\n",
      "('Loevane', 'Marie') --> ['Hugo', 'Marion', 'Jules', 'Clemence']\n",
      "('Loevane', 'Marion') --> ['Marie', 'Guillemette', 'Clemence']\n",
      "('Loevane', 'Sarra') --> ['Therese']\n",
      "('Loevane', 'Therese') --> ['Clement', 'Sarra', 'Clemence']\n",
      "('Lucie', 'Marion') --> ['Floriane', 'Fatima_ezzahrae', 'Anatole', 'Bleuenn']\n",
      "('Lucie', 'Vincent') --> ['Anatole']\n",
      "('Maelys', 'Marion') --> ['Anatole']\n",
      "('Maelys', 'Mathis') --> ['Annaelle', 'Anatole', 'Julianne', 'Sarra']\n",
      "('Maelys', 'Oriane') --> ['Annaelle', 'Clara_f', 'Anatole', 'Sarra']\n",
      "('Maelys', 'Sarra') --> ['Annaelle', 'Oriane', 'Mathis']\n",
      "('Margaux', 'Marion') --> ['Sterenn', 'Pauline']\n",
      "('Margaux', 'Pauline') --> ['Marion']\n",
      "('Margaux', 'Rim') --> []\n",
      "('Margaux', 'Sterenn') --> ['Marion', 'Vincent']\n",
      "('Margaux', 'Vincent') --> ['Sterenn']\n",
      "('Marie', 'Marion') --> ['Sterenn', 'Clemence', 'Bleuenn', 'Loevane']\n",
      "('Marie', 'Sterenn') --> ['Annaelle', 'Marion']\n",
      "('Marion', 'Nicolas') --> ['Floriane', 'Fatima_ezzahrae', 'Guillemette']\n",
      "('Marion', 'Pauline') --> ['Margaux', 'Floriane']\n",
      "('Marion', 'Sterenn') --> ['Margaux', 'Marie', 'Guillemette']\n",
      "('Mathis', 'Pauline') --> ['Therese']\n",
      "('Mathis', 'Sarra') --> ['Annaelle', 'Maelys', 'Therese', 'Clara_m']\n",
      "('Mathis', 'Therese') --> ['Sarra', 'Pauline']\n",
      "('Nicolas', 'Vincent') --> ['Julianne', 'Guillemette']\n",
      "('Oriane', 'Rim') --> ['Sarra', 'Therese']\n",
      "('Oriane', 'Sarra') --> ['Clara_m', 'Maelys', 'Therese', 'Bleuenn', 'Annaelle', 'Rim']\n",
      "('Oriane', 'Therese') --> ['Rim', 'Sarra', 'Bleuenn', 'Clemence']\n",
      "('Pauline', 'Therese') --> ['Clement', 'Mathis']\n",
      "('Rim', 'Sarra') --> ['Oriane', 'Elisa', 'Therese']\n",
      "('Rim', 'Therese') --> ['Oriane', 'Sarra']\n",
      "('Sarra', 'Sterenn') --> ['Annaelle', 'Elisa', 'Vincent']\n",
      "('Sarra', 'Therese') --> ['Oriane', 'Loevane', 'Vincent', 'Bleuenn', 'Rim', 'Mathis']\n",
      "('Sarra', 'Vincent') --> ['Sterenn', 'Annaelle', 'Therese']\n",
      "('Sterenn', 'Vincent') --> ['Margaux', 'Sarra', 'Julianne', 'Guillemette', 'Annaelle']\n",
      "('Therese', 'Vincent') --> ['Clement', 'Sarra']\n"
     ]
    }
   ],
   "source": [
    "for pair, frs in sorted(map_reduce(friends.items(), mapper_friends, reducer_intersect)):\n",
    "    print(f\"{pair} --> {frs}\")"
   ]
  }
 ],
 "metadata": {
  "kernelspec": {
   "display_name": "base",
   "language": "python",
   "name": "python3"
  },
  "language_info": {
   "codemirror_mode": {
    "name": "ipython",
    "version": 3
   },
   "file_extension": ".py",
   "mimetype": "text/x-python",
   "name": "python",
   "nbconvert_exporter": "python",
   "pygments_lexer": "ipython3",
   "version": "3.9.16"
  },
  "orig_nbformat": 4
 },
 "nbformat": 4,
 "nbformat_minor": 2
}
