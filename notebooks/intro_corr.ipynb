{
 "cells": [
  {
   "cell_type": "markdown",
   "metadata": {},
   "source": [
    "# Introduction\n",
    "\n",
    "Dans ce notebook qui accompagne le cours d'introduction, vous verrez quelques illustrations directes des concepts vu en cours (codage de l'information, mémoire, _threads_, processeurs et coeurs, ...).\n",
    "\n",
    "## Partie 1. Codage de l'information\n",
    "\n",
    "**Question.** En Python, quel est le résultat de l'opération `1.2 - 1.0` ? Comment cela s'explique-t-il ?"
   ]
  },
  {
   "cell_type": "code",
   "execution_count": 1,
   "metadata": {},
   "outputs": [
    {
     "data": {
      "text/plain": [
       "0.19999999999999996"
      ]
     },
     "execution_count": 1,
     "metadata": {},
     "output_type": "execute_result"
    }
   ],
   "source": [
    "1.2 - 1.0"
   ]
  },
  {
   "cell_type": "markdown",
   "metadata": {},
   "source": [
    "**Question.** Quelle place occuperont en mémoire les données associées au tenseur Python suivant ? Vérifiez à l'aide de `x.nbytes`."
   ]
  },
  {
   "cell_type": "code",
   "execution_count": 2,
   "metadata": {},
   "outputs": [
    {
     "data": {
      "text/plain": [
       "4000000"
      ]
     },
     "execution_count": 2,
     "metadata": {},
     "output_type": "execute_result"
    }
   ],
   "source": [
    "import numpy as np\n",
    "x = np.ones((1000, 1000), dtype=np.float32)\n",
    "\n",
    "x.nbytes"
   ]
  },
  {
   "cell_type": "code",
   "execution_count": 3,
   "metadata": {},
   "outputs": [
    {
     "data": {
      "text/plain": [
       "4000000"
      ]
     },
     "execution_count": 3,
     "metadata": {},
     "output_type": "execute_result"
    }
   ],
   "source": [
    "1000 * 1000 * 4"
   ]
  },
  {
   "cell_type": "markdown",
   "metadata": {},
   "source": [
    "**Question.** Même question avec le tenseur suivant :"
   ]
  },
  {
   "cell_type": "code",
   "execution_count": 4,
   "metadata": {},
   "outputs": [
    {
     "data": {
      "text/plain": [
       "8000000"
      ]
     },
     "execution_count": 4,
     "metadata": {},
     "output_type": "execute_result"
    }
   ],
   "source": [
    "np.ones((1000, 1000), dtype=np.float64).nbytes"
   ]
  },
  {
   "cell_type": "markdown",
   "metadata": {},
   "source": [
    "## Partie 2. La mémoire\n",
    "\n",
    "**Question.** De quelle quantité de mémoire (RAM) dispose votre ordinateur ?"
   ]
  },
  {
   "cell_type": "markdown",
   "metadata": {},
   "source": [
    "_VOTRE REPONSE ICI_"
   ]
  },
  {
   "cell_type": "markdown",
   "metadata": {},
   "source": [
    "**Question.** À l'aide de la fonction `np.arange`, créez un tenseur `numpy` qui soit d'une taille telle qu'il nécessite un espace mémoire environ égal à 1.5 fois votre RAM. Ajoutez lui 1. Qu'observez-vous ? Pourquoi ?"
   ]
  },
  {
   "cell_type": "code",
   "execution_count": 5,
   "metadata": {},
   "outputs": [],
   "source": [
    "x = np.arange(int(32 * 1024 * 1024 * 1024  * 1.5 / 4), dtype=np.int32) + 1"
   ]
  },
  {
   "cell_type": "markdown",
   "metadata": {},
   "source": [
    "**Question.** Observez l'espace mémoire occupé par votre programme Python (Gestionnaire des tâches sous Windows, Moniteur d'activité sous MacOS, `top -o MEM` dans un terminal sous Linux). Cela correspond-il aux valeurs prévues ?"
   ]
  },
  {
   "cell_type": "markdown",
   "metadata": {},
   "source": [
    "_VOTRE REPONSE ICI_"
   ]
  },
  {
   "cell_type": "markdown",
   "metadata": {},
   "source": [
    "**Question.** Libérez la mémoire occupée par la variable créée à la cellule précédente. Vérifiez que la mémoire a bien été libérée et que votre programme n'occupe plus maintenant qu'un espace mémoire limité."
   ]
  },
  {
   "cell_type": "code",
   "execution_count": 6,
   "metadata": {},
   "outputs": [],
   "source": [
    "del x"
   ]
  },
  {
   "cell_type": "markdown",
   "metadata": {},
   "source": [
    "**Question.** Répétez les opérations précédentes avec cette fois un tenseur qui n'occupe que la moitié (environ) de votre RAM. Quelle différence observez-vous ?"
   ]
  },
  {
   "cell_type": "code",
   "execution_count": 7,
   "metadata": {},
   "outputs": [],
   "source": [
    "x = np.arange(int(32 * 1024 * 1024 * 1024  * 0.5 / 4), dtype=np.int32) + 1"
   ]
  },
  {
   "cell_type": "markdown",
   "metadata": {},
   "source": [
    "## Partie 3. Calcul multi-coeurs, Process et Threads\n",
    "\n",
    "**Question.** Dans le code ci-dessous, le `with` permet de créer un thread par élément de la liste pour exécuter les calculs induits par `add_one` de manière indépendante sur chaque élément. Pourquoi utilise-t-on un `ThreadPoolExecutor` plutôt qu'un `ProcessPoolExecutor` (qui existe aussi) ?"
   ]
  },
  {
   "cell_type": "code",
   "execution_count": 8,
   "metadata": {},
   "outputs": [
    {
     "name": "stdout",
     "output_type": "stream",
     "text": [
      "2\n",
      "6\n",
      "8\n"
     ]
    }
   ],
   "source": [
    "from concurrent.futures import ThreadPoolExecutor\n",
    "\n",
    "def add_one(x):\n",
    "    return x + 1\n",
    "\n",
    "ma_liste = [1, 5, 7]\n",
    "\n",
    "with ThreadPoolExecutor() as executor:\n",
    "    results = executor.map(add_one, ma_liste)\n",
    "\n",
    "for r in results:\n",
    "    print(r)\n"
   ]
  },
  {
   "cell_type": "markdown",
   "metadata": {},
   "source": [
    "**Question.** Regardez le code ci-dessous. Que fait la fonction `add_one_and_sleep` ?"
   ]
  },
  {
   "cell_type": "code",
   "execution_count": 9,
   "metadata": {},
   "outputs": [],
   "source": [
    "import time\n",
    "\n",
    "def add_one_and_sleep(x):\n",
    "    time.sleep(1)\n",
    "    return x + 1"
   ]
  },
  {
   "cell_type": "markdown",
   "metadata": {},
   "source": [
    "**Question.** Combien votre CPU a-t-il de coeurs ? Combien de temps, au minimum, prendra l'exécution du code ci-dessous ?"
   ]
  },
  {
   "cell_type": "code",
   "execution_count": 10,
   "metadata": {},
   "outputs": [
    {
     "name": "stdout",
     "output_type": "stream",
     "text": [
      "1\n",
      "2\n",
      "3\n",
      "4\n",
      "5\n",
      "6\n",
      "7\n",
      "8\n",
      "9\n",
      "10\n",
      "CPU times: user 1.27 ms, sys: 875 µs, total: 2.15 ms\n",
      "Wall time: 5.02 s\n"
     ]
    }
   ],
   "source": [
    "%%time\n",
    "\n",
    "n = 10\n",
    "ma_liste = list(range(n))\n",
    "\n",
    "with ThreadPoolExecutor(max_workers=2) as executor:\n",
    "    results = executor.map(add_one_and_sleep, ma_liste)\n",
    "\n",
    "for r in results:\n",
    "    print(r)"
   ]
  },
  {
   "cell_type": "markdown",
   "metadata": {},
   "source": [
    "**Question.** Est-il pertinent d'augmenter `max_workers` qui définit le nombre de threads qui seront créés pour traiter toutes les opérations à effectuer ? Jusqu'à quelle valeur ? Testez."
   ]
  },
  {
   "cell_type": "code",
   "execution_count": 11,
   "metadata": {},
   "outputs": [
    {
     "name": "stdout",
     "output_type": "stream",
     "text": [
      "1\n",
      "2\n",
      "3\n",
      "4\n",
      "5\n",
      "6\n",
      "7\n",
      "8\n",
      "9\n",
      "10\n",
      "CPU times: user 2.55 ms, sys: 1.99 ms, total: 4.54 ms\n",
      "Wall time: 1.01 s\n"
     ]
    }
   ],
   "source": [
    "%%time\n",
    "\n",
    "n = 10\n",
    "ma_liste = list(range(n))\n",
    "\n",
    "with ThreadPoolExecutor(max_workers=10) as executor:\n",
    "    results = executor.map(add_one_and_sleep, ma_liste)\n",
    "\n",
    "for r in results:\n",
    "    print(r)"
   ]
  }
 ],
 "metadata": {
  "kernelspec": {
   "display_name": "py3.10_ml",
   "language": "python",
   "name": "python3"
  },
  "language_info": {
   "codemirror_mode": {
    "name": "ipython",
    "version": 3
   },
   "file_extension": ".py",
   "mimetype": "text/x-python",
   "name": "python",
   "nbconvert_exporter": "python",
   "pygments_lexer": "ipython3",
   "version": "3.10.12"
  },
  "orig_nbformat": 4
 },
 "nbformat": 4,
 "nbformat_minor": 2
}
