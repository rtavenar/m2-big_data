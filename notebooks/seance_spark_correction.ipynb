{
  "nbformat": 4,
  "nbformat_minor": 0,
  "metadata": {
    "colab": {
      "provenance": []
    },
    "kernelspec": {
      "name": "python3",
      "display_name": "Python 3"
    },
    "language_info": {
      "name": "python"
    }
  },
  "cells": [
    {
      "cell_type": "markdown",
      "source": [
        "# Prise en main de PySpark\n",
        "\n",
        "## Installation et configuration\n",
        "\n",
        "**Question 1**\n",
        "\n",
        "Exécutez la cellule ci-dessous pour lancer l'installation de PySpark"
      ],
      "metadata": {
        "id": "U9znJKoILnuz"
      }
    },
    {
      "cell_type": "code",
      "execution_count": 1,
      "metadata": {
        "colab": {
          "base_uri": "https://localhost:8080/"
        },
        "id": "plP3ERha07Az",
        "outputId": "6821b016-db9b-4e94-d762-06014044b17e"
      },
      "outputs": [
        {
          "output_type": "stream",
          "name": "stdout",
          "text": [
            "Collecting pyspark\n",
            "  Downloading pyspark-3.5.0.tar.gz (316.9 MB)\n",
            "\u001b[2K     \u001b[90m━━━━━━━━━━━━━━━━━━━━━━━━━━━━━━━━━━━━━━━━\u001b[0m \u001b[32m316.9/316.9 MB\u001b[0m \u001b[31m2.9 MB/s\u001b[0m eta \u001b[36m0:00:00\u001b[0m\n",
            "\u001b[?25h  Preparing metadata (setup.py) ... \u001b[?25l\u001b[?25hdone\n",
            "Requirement already satisfied: py4j==0.10.9.7 in /usr/local/lib/python3.10/dist-packages (from pyspark) (0.10.9.7)\n",
            "Building wheels for collected packages: pyspark\n",
            "  Building wheel for pyspark (setup.py) ... \u001b[?25l\u001b[?25hdone\n",
            "  Created wheel for pyspark: filename=pyspark-3.5.0-py2.py3-none-any.whl size=317425344 sha256=baf67e1eea1c0e0284d0b7cd3e2ae69ecd11c276e50462eb9277f214de19a071\n",
            "  Stored in directory: /root/.cache/pip/wheels/41/4e/10/c2cf2467f71c678cfc8a6b9ac9241e5e44a01940da8fbb17fc\n",
            "Successfully built pyspark\n",
            "Installing collected packages: pyspark\n",
            "Successfully installed pyspark-3.5.0\n"
          ]
        }
      ],
      "source": [
        "#install pyspark\n",
        "!pip install pyspark"
      ]
    },
    {
      "cell_type": "markdown",
      "source": [
        "**Question 2**\n",
        "\n",
        "Exécutez la cellule ci-dessous pour connaître le nombre de coeurs de calcul qui vous sont attribués dans Google Colab"
      ],
      "metadata": {
        "id": "zveiA1IRMKDK"
      }
    },
    {
      "cell_type": "code",
      "source": [
        "from os import cpu_count\n",
        "# get the number of logical cpu cores\n",
        "n_cores = cpu_count()\n",
        "# report the number of logical cpu cores\n",
        "print(f'Number of Logical CPU cores: {n_cores}')"
      ],
      "metadata": {
        "colab": {
          "base_uri": "https://localhost:8080/"
        },
        "id": "tpffJPYDNOu-",
        "outputId": "65274043-5c2e-4ba7-f18e-d2d5232e7b03"
      },
      "execution_count": 2,
      "outputs": [
        {
          "output_type": "stream",
          "name": "stdout",
          "text": [
            "Number of Logical CPU cores: 2\n"
          ]
        }
      ]
    },
    {
      "cell_type": "markdown",
      "source": [
        "**Question 3**\n",
        "\n",
        "Ci-dessous, créer une `SparkSession` pour une application nommée \"Test de PySpark\" et lancée en local avec le nombre de coeurs trouvé ci-dessus."
      ],
      "metadata": {
        "id": "jkSaS7doNVPT"
      }
    },
    {
      "cell_type": "code",
      "source": [
        "from pyspark.sql import SparkSession\n",
        "spark = SparkSession.builder.appName(\"Test RDD\").master('local[2]').getOrCreate()"
      ],
      "metadata": {
        "id": "8Rs5n3gR1QM0"
      },
      "execution_count": 3,
      "outputs": []
    },
    {
      "cell_type": "markdown",
      "source": [
        "## Quelques tests sur les RDDs\n",
        "\n",
        "### Transformations, actions et persistence\n",
        "\n",
        "**Question 4**\n",
        "\n",
        "Ci-dessous, créer deux RDDs (nommés `my_rdd1`et `my_rdd2`) à partir de deux listes Python de 6 éléments chacune.\n",
        "\n",
        "Afficher ces `RDD` avec `print()` ainsi que leur nombre de partitions."
      ],
      "metadata": {
        "id": "NJWc4fGbORcm"
      }
    },
    {
      "cell_type": "code",
      "source": [
        "sc = spark.sparkContext\n",
        "\n",
        "my_rdd1 = sc.parallelize(list(range(0,6)))\n",
        "my_rdd2 = sc.parallelize(list(range(6,12)))\n",
        "\n",
        "print(my_rdd1)\n",
        "print(my_rdd2)\n",
        "print(my_rdd1.getNumPartitions())\n",
        "print(my_rdd2.getNumPartitions())"
      ],
      "metadata": {
        "id": "TK6q1cLA2iFP",
        "colab": {
          "base_uri": "https://localhost:8080/"
        },
        "outputId": "a2f6be00-94fe-4702-e20a-4b6744b5247a"
      },
      "execution_count": 4,
      "outputs": [
        {
          "output_type": "stream",
          "name": "stdout",
          "text": [
            "ParallelCollectionRDD[0] at readRDDFromFile at PythonRDD.scala:289\n",
            "ParallelCollectionRDD[1] at readRDDFromFile at PythonRDD.scala:289\n",
            "2\n",
            "2\n"
          ]
        }
      ]
    },
    {
      "cell_type": "code",
      "source": [
        "import time\n",
        "from operator import add\n",
        "\n",
        "def carre_slow(x):\n",
        "  time.sleep(1)\n",
        "  return x**2\n"
      ],
      "metadata": {
        "id": "ARUky-JtOiJW"
      },
      "execution_count": 5,
      "outputs": []
    },
    {
      "cell_type": "markdown",
      "source": [
        "**Question 5**\n",
        "\n",
        "Executer la cellule de code ci-dessus, puis utiliser la méthode `map`des RDDs pour générer un nouveau RDD nommé `my_new_rdd1` contenant les carrés des valeurs de `my_rdd1`, en utilisant la fonction `carre_slow` définie ci-dessus.\n",
        "\n",
        "Mesurer le temps d'exécution et conclure : les traitements ont-ils réellement été exécutés à cet endroit ?\n",
        "\n",
        "Afficher le nouveau RDD généré et son nombre de partitions."
      ],
      "metadata": {
        "id": "TZg706wUPE-O"
      }
    },
    {
      "cell_type": "code",
      "source": [
        "%%time\n",
        "my_new_rdd1 = my_rdd1.map(carre_slow)\n",
        "print(my_new_rdd1)\n",
        "print(my_new_rdd1.getNumPartitions())"
      ],
      "metadata": {
        "colab": {
          "base_uri": "https://localhost:8080/"
        },
        "id": "2qoZARjj3sye",
        "outputId": "84e70ee6-a094-4ace-c07c-c8a3b0ef0e8b"
      },
      "execution_count": 6,
      "outputs": [
        {
          "output_type": "stream",
          "name": "stdout",
          "text": [
            "PythonRDD[2] at RDD at PythonRDD.scala:53\n",
            "2\n",
            "CPU times: user 4.43 ms, sys: 1.27 ms, total: 5.7 ms\n",
            "Wall time: 25.3 ms\n"
          ]
        }
      ]
    },
    {
      "cell_type": "markdown",
      "source": [
        "**Question 6**\n",
        "\n",
        "En mesurant le temps d'exécution, utiliser la méthode `collect` pour récupérer et afficher le contenu du RDD `my_new_rdd1` dans le *driver program* (programme principal, ici celui du Notebook).\n",
        "\n",
        "Conclure quant aux traitements lancés au moment de l'appel à `collect` et à la nature de cette méthode : est-ce une transformation ou une action ?"
      ],
      "metadata": {
        "id": "wepCWsf1X6c1"
      }
    },
    {
      "cell_type": "code",
      "source": [
        "%%time\n",
        "my_new_rdd1.collect()"
      ],
      "metadata": {
        "colab": {
          "base_uri": "https://localhost:8080/"
        },
        "id": "gKbV1ueg5lxb",
        "outputId": "fab10107-9632-4874-be46-731b88c54ef1"
      },
      "execution_count": 7,
      "outputs": [
        {
          "output_type": "stream",
          "name": "stdout",
          "text": [
            "CPU times: user 27.9 ms, sys: 5.93 ms, total: 33.9 ms\n",
            "Wall time: 5.12 s\n"
          ]
        },
        {
          "output_type": "execute_result",
          "data": {
            "text/plain": [
              "[0, 1, 4, 9, 16, 25]"
            ]
          },
          "metadata": {},
          "execution_count": 7
        }
      ]
    },
    {
      "cell_type": "markdown",
      "source": [
        "**Question 7**\n",
        "\n",
        "En mesurant les temps d'exécution, calculer à l'aide de la méthode `reduce`la somme des carrés contenus dans `my_new_rdd1` (on pourra utiliser la fonction `add` du module `operator` importée ci-dessus).\n",
        "\n",
        "Qu'observez-vous au niveau du temps d'exécution ?"
      ],
      "metadata": {
        "id": "JNz-N_3wY_qN"
      }
    },
    {
      "cell_type": "code",
      "source": [
        "%%time\n",
        "my_new_rdd1.reduce(add)"
      ],
      "metadata": {
        "colab": {
          "base_uri": "https://localhost:8080/"
        },
        "id": "n0CxZjeu50CX",
        "outputId": "69c6c571-4707-4b9b-86dd-5b2c139421f1"
      },
      "execution_count": 8,
      "outputs": [
        {
          "output_type": "stream",
          "name": "stdout",
          "text": [
            "CPU times: user 25.4 ms, sys: 4.89 ms, total: 30.3 ms\n",
            "Wall time: 3.77 s\n"
          ]
        },
        {
          "output_type": "execute_result",
          "data": {
            "text/plain": [
              "55"
            ]
          },
          "metadata": {},
          "execution_count": 8
        }
      ]
    },
    {
      "cell_type": "markdown",
      "source": [
        "**Question 8**\n",
        "\n",
        "De la même manière, générer un nouveau RDD nommé `my_new_rdd2` contenant les carrés des valeurs de `my_rdd2`, en utilisant la fonction `carre_slow` puis appeler la méthode `persist` sur ce nouveau RDD.\n",
        "\n",
        "Dans la seconde cellule, en mesurant le temps d'exécution, afficher le contenu de `my_new_rdd2` en utilisant la méthode `collect`."
      ],
      "metadata": {
        "id": "V7dR2GsRkPaY"
      }
    },
    {
      "cell_type": "code",
      "source": [
        "my_new_rdd2 = my_rdd2.map(carre_slow)\n",
        "my_new_rdd2.persist()\n"
      ],
      "metadata": {
        "colab": {
          "base_uri": "https://localhost:8080/"
        },
        "id": "Cldsy-Al8Klb",
        "outputId": "5ef22564-7b6d-414c-b2af-9e9d206a61c4"
      },
      "execution_count": 9,
      "outputs": [
        {
          "output_type": "execute_result",
          "data": {
            "text/plain": [
              "PythonRDD[4] at RDD at PythonRDD.scala:53"
            ]
          },
          "metadata": {},
          "execution_count": 9
        }
      ]
    },
    {
      "cell_type": "code",
      "source": [
        "%%time\n",
        "my_new_rdd2.collect()"
      ],
      "metadata": {
        "colab": {
          "base_uri": "https://localhost:8080/"
        },
        "id": "WUJXXoMQlI1X",
        "outputId": "66c4d944-71c0-4a14-e61f-fd26020f69f2"
      },
      "execution_count": 10,
      "outputs": [
        {
          "output_type": "stream",
          "name": "stdout",
          "text": [
            "CPU times: user 25.6 ms, sys: 1.51 ms, total: 27.1 ms\n",
            "Wall time: 4.11 s\n"
          ]
        },
        {
          "output_type": "execute_result",
          "data": {
            "text/plain": [
              "[36, 49, 64, 81, 100, 121]"
            ]
          },
          "metadata": {},
          "execution_count": 10
        }
      ]
    },
    {
      "cell_type": "markdown",
      "source": [
        "**Question 9**\n",
        "\n",
        "En mesurant les temps d'exécution, calculer à l'aide de la méthode `reduce`la somme des carrés contenus dans `my_new_rdd2`.\n",
        "\n",
        "Qu'observez-vous cette fois-ci au niveau du temps d'exécution ?\n",
        "\n",
        "Conclure : à votre avis, à quoi sert la méthode `persist` appelée ci-dessus sur `my_new_rdd2` ? Vérifier en consultant la [documentation en ligne](https://spark.apache.org/docs/latest/api/python/reference/api/pyspark.RDD.persist.html#pyspark.RDD.persist)."
      ],
      "metadata": {
        "id": "G_5olg3Ym1zD"
      }
    },
    {
      "cell_type": "code",
      "source": [
        "%%time\n",
        "my_new_rdd2.reduce(add)"
      ],
      "metadata": {
        "colab": {
          "base_uri": "https://localhost:8080/"
        },
        "id": "ilvG6AtV8Sya",
        "outputId": "7d281ccd-7751-4f4a-aa86-966da359578c"
      },
      "execution_count": 11,
      "outputs": [
        {
          "output_type": "stream",
          "name": "stdout",
          "text": [
            "CPU times: user 7.7 ms, sys: 650 µs, total: 8.35 ms\n",
            "Wall time: 337 ms\n"
          ]
        },
        {
          "output_type": "execute_result",
          "data": {
            "text/plain": [
              "451"
            ]
          },
          "metadata": {},
          "execution_count": 11
        }
      ]
    },
    {
      "cell_type": "markdown",
      "source": [
        "## Utilisation de Spark SQL\n",
        "\n",
        "### Lecture et mise en forme des données\n",
        "\n",
        "*Remarque : lors des différentes transformations de votre DataFrame il est conseillé d'afficher le résultat de vos traitements avant de remplacer la DataFrame*"
      ],
      "metadata": {
        "id": "S7lEzeDAplJm"
      }
    },
    {
      "cell_type": "markdown",
      "source": [
        "**Question 10**\n",
        "\n",
        "Charger le fichier `cereal.csv` dans une DataFrame Spark SQL nommée `sdf1` (une description des données peut être trouvée [ici](https://www.kaggle.com/datasets/crawford/80-cereals/)).\n",
        "\n",
        "Vérifier que vous récupérer bien les en-têtes de colonne. Dans le cas contraire, adapter l'appel utilisé pour la lecture des données du fichier.\n",
        "\n",
        "Afficher le nombre de lignes contenus dans cette DataFrame, son nombre de partitions (en passant par le RDD sous-jacent) et ses 50 premières lignes."
      ],
      "metadata": {
        "id": "hpvoUoJWuyWS"
      }
    },
    {
      "cell_type": "code",
      "source": [
        "sdf1 = spark.read.csv(\"./cereal.csv\", header=True, inferSchema=True)\n",
        "print(sdf1.count())\n",
        "print(sdf1.rdd.getNumPartitions())\n",
        "sdf1.show(50)"
      ],
      "metadata": {
        "colab": {
          "base_uri": "https://localhost:8080/"
        },
        "id": "0L1qqO9FrBpr",
        "outputId": "d0043309-227b-4af9-ef93-685f5ae0986c"
      },
      "execution_count": 51,
      "outputs": [
        {
          "output_type": "stream",
          "name": "stdout",
          "text": [
            "77\n",
            "1\n",
            "+--------------------+---+----+--------+-------+---+------+-----+-----+------+------+--------+-----+------+----+---------+\n",
            "|                name|mfr|type|calories|protein|fat|sodium|fiber|carbo|sugars|potass|vitamins|shelf|weight|cups|   rating|\n",
            "+--------------------+---+----+--------+-------+---+------+-----+-----+------+------+--------+-----+------+----+---------+\n",
            "|           100% Bran|  N|   C|      70|      4|  1|   130| 10.0|  5.0|     6|   280|      25|    3|   1.0|0.33|68.402973|\n",
            "|   100% Natural Bran|  Q|   C|     120|      3|  5|    15|  2.0|  8.0|     8|   135|       0|    3|   1.0| 1.0|33.983679|\n",
            "|            All-Bran|  K|   C|      70|      4|  1|   260|  9.0|  7.0|     5|   320|      25|    3|   1.0|0.33|59.425505|\n",
            "|All-Bran with Ext...|  K|   C|      50|      4|  0|   140| 14.0|  8.0|     0|   330|      25|    3|   1.0| 0.5|93.704912|\n",
            "|      Almond Delight|  R|   C|     110|      2|  2|   200|  1.0| 14.0|     8|    -1|      25|    3|   1.0|0.75|34.384843|\n",
            "|Apple Cinnamon Ch...|  G|   C|     110|      2|  2|   180|  1.5| 10.5|    10|    70|      25|    1|   1.0|0.75|29.509541|\n",
            "|         Apple Jacks|  K|   C|     110|      2|  0|   125|  1.0| 11.0|    14|    30|      25|    2|   1.0| 1.0|33.174094|\n",
            "|             Basic 4|  G|   C|     130|      3|  2|   210|  2.0| 18.0|     8|   100|      25|    3|  1.33|0.75|37.038562|\n",
            "|           Bran Chex|  R|   C|      90|      2|  1|   200|  4.0| 15.0|     6|   125|      25|    1|   1.0|0.67|49.120253|\n",
            "|         Bran Flakes|  P|   C|      90|      3|  0|   210|  5.0| 13.0|     5|   190|      25|    3|   1.0|0.67|53.313813|\n",
            "|        Cap'n'Crunch|  Q|   C|     120|      1|  2|   220|  0.0| 12.0|    12|    35|      25|    2|   1.0|0.75|18.042851|\n",
            "|            Cheerios|  G|   C|     110|      6|  2|   290|  2.0| 17.0|     1|   105|      25|    1|   1.0|1.25|50.764999|\n",
            "|Cinnamon Toast Cr...|  G|   C|     120|      1|  3|   210|  0.0| 13.0|     9|    45|      25|    2|   1.0|0.75|19.823573|\n",
            "|            Clusters|  G|   C|     110|      3|  2|   140|  2.0| 13.0|     7|   105|      25|    3|   1.0| 0.5|40.400208|\n",
            "|         Cocoa Puffs|  G|   C|     110|      1|  1|   180|  0.0| 12.0|    13|    55|      25|    2|   1.0| 1.0|22.736446|\n",
            "|           Corn Chex|  R|   C|     110|      2|  0|   280|  0.0| 22.0|     3|    25|      25|    1|   1.0| 1.0|41.445019|\n",
            "|         Corn Flakes|  K|   C|     100|      2|  0|   290|  1.0| 21.0|     2|    35|      25|    1|   1.0| 1.0|45.863324|\n",
            "|           Corn Pops|  K|   C|     110|      1|  0|    90|  1.0| 13.0|    12|    20|      25|    2|   1.0| 1.0|35.782791|\n",
            "|       Count Chocula|  G|   C|     110|      1|  1|   180|  0.0| 12.0|    13|    65|      25|    2|   1.0| 1.0|22.396513|\n",
            "|  Cracklin' Oat Bran|  K|   C|     110|      3|  3|   140|  4.0| 10.0|     7|   160|      25|    3|   1.0| 0.5|40.448772|\n",
            "|Cream of Wheat (Q...|  N|   H|     100|      3|  0|    80|  1.0| 21.0|     0|    -1|       0|    2|   1.0| 1.0|64.533816|\n",
            "|             Crispix|  K|   C|     110|      2|  0|   220|  1.0| 21.0|     3|    30|      25|    3|   1.0| 1.0|46.895644|\n",
            "|Crispy Wheat & Ra...|  G|   C|     100|      2|  1|   140|  2.0| 11.0|    10|   120|      25|    3|   1.0|0.75|36.176196|\n",
            "|         Double Chex|  R|   C|     100|      2|  0|   190|  1.0| 18.0|     5|    80|      25|    3|   1.0|0.75|44.330856|\n",
            "|         Froot Loops|  K|   C|     110|      2|  1|   125|  1.0| 11.0|    13|    30|      25|    2|   1.0| 1.0|32.207582|\n",
            "|      Frosted Flakes|  K|   C|     110|      1|  0|   200|  1.0| 14.0|    11|    25|      25|    1|   1.0|0.75|31.435973|\n",
            "| Frosted Mini-Wheats|  K|   C|     100|      3|  0|     0|  3.0| 14.0|     7|   100|      25|    2|   1.0| 0.8|58.345141|\n",
            "|Fruit & Fibre Dat...|  P|   C|     120|      3|  2|   160|  5.0| 12.0|    10|   200|      25|    3|  1.25|0.67|40.917047|\n",
            "|       Fruitful Bran|  K|   C|     120|      3|  0|   240|  5.0| 14.0|    12|   190|      25|    3|  1.33|0.67|41.015492|\n",
            "|      Fruity Pebbles|  P|   C|     110|      1|  1|   135|  0.0| 13.0|    12|    25|      25|    2|   1.0|0.75|28.025765|\n",
            "|        Golden Crisp|  P|   C|     100|      2|  0|    45|  0.0| 11.0|    15|    40|      25|    1|   1.0|0.88|35.252444|\n",
            "|      Golden Grahams|  G|   C|     110|      1|  1|   280|  0.0| 15.0|     9|    45|      25|    2|   1.0|0.75|23.804043|\n",
            "|   Grape Nuts Flakes|  P|   C|     100|      3|  1|   140|  3.0| 15.0|     5|    85|      25|    3|   1.0|0.88|52.076897|\n",
            "|          Grape-Nuts|  P|   C|     110|      3|  0|   170|  3.0| 17.0|     3|    90|      25|    3|   1.0|0.25|53.371007|\n",
            "|  Great Grains Pecan|  P|   C|     120|      3|  3|    75|  3.0| 13.0|     4|   100|      25|    3|   1.0|0.33|45.811716|\n",
            "|    Honey Graham Ohs|  Q|   C|     120|      1|  2|   220|  1.0| 12.0|    11|    45|      25|    2|   1.0| 1.0|21.871292|\n",
            "|  Honey Nut Cheerios|  G|   C|     110|      3|  1|   250|  1.5| 11.5|    10|    90|      25|    1|   1.0|0.75|31.072217|\n",
            "|          Honey-comb|  P|   C|     110|      1|  0|   180|  0.0| 14.0|    11|    35|      25|    1|   1.0|1.33|28.742414|\n",
            "|Just Right Crunch...|  K|   C|     110|      2|  1|   170|  1.0| 17.0|     6|    60|     100|    3|   1.0| 1.0|36.523683|\n",
            "|Just Right Fruit ...|  K|   C|     140|      3|  1|   170|  2.0| 20.0|     9|    95|     100|    3|   1.3|0.75|36.471512|\n",
            "|                 Kix|  G|   C|     110|      2|  1|   260|  0.0| 21.0|     3|    40|      25|    2|   1.0| 1.5|39.241114|\n",
            "|                Life|  Q|   C|     100|      4|  2|   150|  2.0| 12.0|     6|    95|      25|    2|   1.0|0.67|45.328074|\n",
            "|        Lucky Charms|  G|   C|     110|      2|  1|   180|  0.0| 12.0|    12|    55|      25|    2|   1.0| 1.0|26.734515|\n",
            "|               Maypo|  A|   H|     100|      4|  1|     0|  0.0| 16.0|     3|    95|      25|    2|   1.0| 1.0|54.850917|\n",
            "|Muesli Raisins; D...|  R|   C|     150|      4|  3|    95|  3.0| 16.0|    11|   170|      25|    3|   1.0| 1.0|37.136863|\n",
            "|Muesli Raisins; P...|  R|   C|     150|      4|  3|   150|  3.0| 16.0|    11|   170|      25|    3|   1.0| 1.0|34.139765|\n",
            "|Mueslix Crispy Blend|  K|   C|     160|      3|  2|   150|  3.0| 17.0|    13|   160|      25|    3|   1.5|0.67|30.313351|\n",
            "|Multi-Grain Cheerios|  G|   C|     100|      2|  1|   220|  2.0| 15.0|     6|    90|      25|    1|   1.0| 1.0|40.105965|\n",
            "|    Nut&Honey Crunch|  K|   C|     120|      2|  1|   190|  0.0| 15.0|     9|    40|      25|    2|   1.0|0.67|29.924285|\n",
            "|Nutri-Grain Almon...|  K|   C|     140|      3|  2|   220|  3.0| 21.0|     7|   130|      25|    3|  1.33|0.67| 40.69232|\n",
            "+--------------------+---+----+--------+-------+---+------+-----+-----+------+------+--------+-----+------+----+---------+\n",
            "only showing top 50 rows\n",
            "\n"
          ]
        }
      ]
    },
    {
      "cell_type": "markdown",
      "source": [
        "**Question 11**\n",
        "\n",
        "Afficher le schéma de la DataFrame et vérifier que vous obtenez les bons types. Dans le cas contraire, adapter l'appel utilisé pour la lecture des données du fichier afin d'inférer automatiquement le schéma."
      ],
      "metadata": {
        "id": "VW__0W1Yh7at"
      }
    },
    {
      "cell_type": "code",
      "source": [
        "sdf1.printSchema()"
      ],
      "metadata": {
        "colab": {
          "base_uri": "https://localhost:8080/"
        },
        "id": "OwVhsN48rxLL",
        "outputId": "79eacca6-4581-42cf-b92c-32961e848281"
      },
      "execution_count": 52,
      "outputs": [
        {
          "output_type": "stream",
          "name": "stdout",
          "text": [
            "root\n",
            " |-- name: string (nullable = true)\n",
            " |-- mfr: string (nullable = true)\n",
            " |-- type: string (nullable = true)\n",
            " |-- calories: integer (nullable = true)\n",
            " |-- protein: integer (nullable = true)\n",
            " |-- fat: integer (nullable = true)\n",
            " |-- sodium: integer (nullable = true)\n",
            " |-- fiber: double (nullable = true)\n",
            " |-- carbo: double (nullable = true)\n",
            " |-- sugars: integer (nullable = true)\n",
            " |-- potass: integer (nullable = true)\n",
            " |-- vitamins: integer (nullable = true)\n",
            " |-- shelf: integer (nullable = true)\n",
            " |-- weight: double (nullable = true)\n",
            " |-- cups: double (nullable = true)\n",
            " |-- rating: double (nullable = true)\n",
            "\n"
          ]
        }
      ]
    },
    {
      "cell_type": "markdown",
      "source": [
        "**Question 12**\n",
        "\n",
        "En une seule instruction, supprimer la colonne intitulée `\"shelf\"` puis renommer l'ensemble des colonnes restant (en utilisant une des méthodes `toDF` ou `withColumnRenamed`) avec, dans l'ordre, les intitulés suivants :\n",
        "\n",
        "```python\n",
        "\"Nom\", \"Fabricant\",\"Type\", \"Calories\",\"Protéines\", \"Graisse\",\"Sodium\",\"Fibres\",\\\n",
        "\"Glucides\",\"Sucre\",\"Potassium\", \"Vitamines\", \"Poids\",\"Volume\",\"Evaluation\"\n",
        "```\n",
        "\n",
        "Afficher la nouvelle DataFrame obtenue."
      ],
      "metadata": {
        "id": "H9RGUTLkjOuA"
      }
    },
    {
      "cell_type": "code",
      "source": [
        "sdf1 = sdf1.drop(\"shelf\").toDF(\"Nom\", \"Fabricant\",\"Type\", \"Calories\",\"Protéines\",\n",
        "                 \"Graisse\",\"Sodium\",\"Fibres\",\"Glucides\",\"Sucre\",\n",
        "                 \"Potassium\", \"Vitamines\", \"Poids\",\"Volume\",\"Evaluation\")\n",
        "sdf1.show()"
      ],
      "metadata": {
        "colab": {
          "base_uri": "https://localhost:8080/"
        },
        "id": "jD0bmbJUjhpP",
        "outputId": "41952a8c-0caf-4a2d-ed19-34547194def7"
      },
      "execution_count": 53,
      "outputs": [
        {
          "output_type": "stream",
          "name": "stdout",
          "text": [
            "+--------------------+---------+----+--------+---------+-------+------+------+--------+-----+---------+---------+-----+------+----------+\n",
            "|                 Nom|Fabricant|Type|Calories|Protéines|Graisse|Sodium|Fibres|Glucides|Sucre|Potassium|Vitamines|Poids|Volume|Evaluation|\n",
            "+--------------------+---------+----+--------+---------+-------+------+------+--------+-----+---------+---------+-----+------+----------+\n",
            "|           100% Bran|        N|   C|      70|        4|      1|   130|  10.0|     5.0|    6|      280|       25|  1.0|  0.33| 68.402973|\n",
            "|   100% Natural Bran|        Q|   C|     120|        3|      5|    15|   2.0|     8.0|    8|      135|        0|  1.0|   1.0| 33.983679|\n",
            "|            All-Bran|        K|   C|      70|        4|      1|   260|   9.0|     7.0|    5|      320|       25|  1.0|  0.33| 59.425505|\n",
            "|All-Bran with Ext...|        K|   C|      50|        4|      0|   140|  14.0|     8.0|    0|      330|       25|  1.0|   0.5| 93.704912|\n",
            "|      Almond Delight|        R|   C|     110|        2|      2|   200|   1.0|    14.0|    8|       -1|       25|  1.0|  0.75| 34.384843|\n",
            "|Apple Cinnamon Ch...|        G|   C|     110|        2|      2|   180|   1.5|    10.5|   10|       70|       25|  1.0|  0.75| 29.509541|\n",
            "|         Apple Jacks|        K|   C|     110|        2|      0|   125|   1.0|    11.0|   14|       30|       25|  1.0|   1.0| 33.174094|\n",
            "|             Basic 4|        G|   C|     130|        3|      2|   210|   2.0|    18.0|    8|      100|       25| 1.33|  0.75| 37.038562|\n",
            "|           Bran Chex|        R|   C|      90|        2|      1|   200|   4.0|    15.0|    6|      125|       25|  1.0|  0.67| 49.120253|\n",
            "|         Bran Flakes|        P|   C|      90|        3|      0|   210|   5.0|    13.0|    5|      190|       25|  1.0|  0.67| 53.313813|\n",
            "|        Cap'n'Crunch|        Q|   C|     120|        1|      2|   220|   0.0|    12.0|   12|       35|       25|  1.0|  0.75| 18.042851|\n",
            "|            Cheerios|        G|   C|     110|        6|      2|   290|   2.0|    17.0|    1|      105|       25|  1.0|  1.25| 50.764999|\n",
            "|Cinnamon Toast Cr...|        G|   C|     120|        1|      3|   210|   0.0|    13.0|    9|       45|       25|  1.0|  0.75| 19.823573|\n",
            "|            Clusters|        G|   C|     110|        3|      2|   140|   2.0|    13.0|    7|      105|       25|  1.0|   0.5| 40.400208|\n",
            "|         Cocoa Puffs|        G|   C|     110|        1|      1|   180|   0.0|    12.0|   13|       55|       25|  1.0|   1.0| 22.736446|\n",
            "|           Corn Chex|        R|   C|     110|        2|      0|   280|   0.0|    22.0|    3|       25|       25|  1.0|   1.0| 41.445019|\n",
            "|         Corn Flakes|        K|   C|     100|        2|      0|   290|   1.0|    21.0|    2|       35|       25|  1.0|   1.0| 45.863324|\n",
            "|           Corn Pops|        K|   C|     110|        1|      0|    90|   1.0|    13.0|   12|       20|       25|  1.0|   1.0| 35.782791|\n",
            "|       Count Chocula|        G|   C|     110|        1|      1|   180|   0.0|    12.0|   13|       65|       25|  1.0|   1.0| 22.396513|\n",
            "|  Cracklin' Oat Bran|        K|   C|     110|        3|      3|   140|   4.0|    10.0|    7|      160|       25|  1.0|   0.5| 40.448772|\n",
            "+--------------------+---------+----+--------+---------+-------+------+------+--------+-----+---------+---------+-----+------+----------+\n",
            "only showing top 20 rows\n",
            "\n"
          ]
        }
      ]
    },
    {
      "cell_type": "markdown",
      "source": [
        "**Question 13**\n",
        "\n",
        "En utilisant les dictionnaires `dic_fabricant` et `dic_type` ci-dessous, remplacer à l'aide de la méthode `replace` les valeurs des colonnes `Fabricant` et `Type` par les nouvelles valeurs associées."
      ],
      "metadata": {
        "id": "2vK6Sf_ApjDh"
      }
    },
    {
      "cell_type": "code",
      "source": [
        "dic_fabricant = {\"A\":\"American Home Food Products\",\n",
        "    \"G\" : \"General Mills\",\n",
        "    \"K\" : \"Kelloggs\",\n",
        "    \"N\" : \"Nabisco\",\n",
        "    \"P\" : \"Post\",\n",
        "    \"Q\" : \"Quaker Oats\",\n",
        "    \"R\" : \"Ralston Purina\"}\n",
        "\n",
        "dic_type = {\"C\" : \"froid\", \"H\" : \"chaud\"}\n",
        "\n",
        "sdf1 = sdf1.replace(dic_fabricant, subset=[\"Fabricant\"]).replace(dic_type, subset =[\"Type\"])\n",
        "\n",
        "sdf1.show(50)\n",
        ""
      ],
      "metadata": {
        "colab": {
          "base_uri": "https://localhost:8080/"
        },
        "id": "JJ-zDArBpVh0",
        "outputId": "6956a1cc-2ef4-49e0-c404-f00401b6930a"
      },
      "execution_count": 54,
      "outputs": [
        {
          "output_type": "stream",
          "name": "stdout",
          "text": [
            "+--------------------+--------------------+-----+--------+---------+-------+------+------+--------+-----+---------+---------+-----+------+----------+\n",
            "|                 Nom|           Fabricant| Type|Calories|Protéines|Graisse|Sodium|Fibres|Glucides|Sucre|Potassium|Vitamines|Poids|Volume|Evaluation|\n",
            "+--------------------+--------------------+-----+--------+---------+-------+------+------+--------+-----+---------+---------+-----+------+----------+\n",
            "|           100% Bran|             Nabisco|froid|      70|        4|      1|   130|  10.0|     5.0|    6|      280|       25|  1.0|  0.33| 68.402973|\n",
            "|   100% Natural Bran|         Quaker Oats|froid|     120|        3|      5|    15|   2.0|     8.0|    8|      135|        0|  1.0|   1.0| 33.983679|\n",
            "|            All-Bran|            Kelloggs|froid|      70|        4|      1|   260|   9.0|     7.0|    5|      320|       25|  1.0|  0.33| 59.425505|\n",
            "|All-Bran with Ext...|            Kelloggs|froid|      50|        4|      0|   140|  14.0|     8.0|    0|      330|       25|  1.0|   0.5| 93.704912|\n",
            "|      Almond Delight|      Ralston Purina|froid|     110|        2|      2|   200|   1.0|    14.0|    8|       -1|       25|  1.0|  0.75| 34.384843|\n",
            "|Apple Cinnamon Ch...|       General Mills|froid|     110|        2|      2|   180|   1.5|    10.5|   10|       70|       25|  1.0|  0.75| 29.509541|\n",
            "|         Apple Jacks|            Kelloggs|froid|     110|        2|      0|   125|   1.0|    11.0|   14|       30|       25|  1.0|   1.0| 33.174094|\n",
            "|             Basic 4|       General Mills|froid|     130|        3|      2|   210|   2.0|    18.0|    8|      100|       25| 1.33|  0.75| 37.038562|\n",
            "|           Bran Chex|      Ralston Purina|froid|      90|        2|      1|   200|   4.0|    15.0|    6|      125|       25|  1.0|  0.67| 49.120253|\n",
            "|         Bran Flakes|                Post|froid|      90|        3|      0|   210|   5.0|    13.0|    5|      190|       25|  1.0|  0.67| 53.313813|\n",
            "|        Cap'n'Crunch|         Quaker Oats|froid|     120|        1|      2|   220|   0.0|    12.0|   12|       35|       25|  1.0|  0.75| 18.042851|\n",
            "|            Cheerios|       General Mills|froid|     110|        6|      2|   290|   2.0|    17.0|    1|      105|       25|  1.0|  1.25| 50.764999|\n",
            "|Cinnamon Toast Cr...|       General Mills|froid|     120|        1|      3|   210|   0.0|    13.0|    9|       45|       25|  1.0|  0.75| 19.823573|\n",
            "|            Clusters|       General Mills|froid|     110|        3|      2|   140|   2.0|    13.0|    7|      105|       25|  1.0|   0.5| 40.400208|\n",
            "|         Cocoa Puffs|       General Mills|froid|     110|        1|      1|   180|   0.0|    12.0|   13|       55|       25|  1.0|   1.0| 22.736446|\n",
            "|           Corn Chex|      Ralston Purina|froid|     110|        2|      0|   280|   0.0|    22.0|    3|       25|       25|  1.0|   1.0| 41.445019|\n",
            "|         Corn Flakes|            Kelloggs|froid|     100|        2|      0|   290|   1.0|    21.0|    2|       35|       25|  1.0|   1.0| 45.863324|\n",
            "|           Corn Pops|            Kelloggs|froid|     110|        1|      0|    90|   1.0|    13.0|   12|       20|       25|  1.0|   1.0| 35.782791|\n",
            "|       Count Chocula|       General Mills|froid|     110|        1|      1|   180|   0.0|    12.0|   13|       65|       25|  1.0|   1.0| 22.396513|\n",
            "|  Cracklin' Oat Bran|            Kelloggs|froid|     110|        3|      3|   140|   4.0|    10.0|    7|      160|       25|  1.0|   0.5| 40.448772|\n",
            "|Cream of Wheat (Q...|             Nabisco|chaud|     100|        3|      0|    80|   1.0|    21.0|    0|       -1|        0|  1.0|   1.0| 64.533816|\n",
            "|             Crispix|            Kelloggs|froid|     110|        2|      0|   220|   1.0|    21.0|    3|       30|       25|  1.0|   1.0| 46.895644|\n",
            "|Crispy Wheat & Ra...|       General Mills|froid|     100|        2|      1|   140|   2.0|    11.0|   10|      120|       25|  1.0|  0.75| 36.176196|\n",
            "|         Double Chex|      Ralston Purina|froid|     100|        2|      0|   190|   1.0|    18.0|    5|       80|       25|  1.0|  0.75| 44.330856|\n",
            "|         Froot Loops|            Kelloggs|froid|     110|        2|      1|   125|   1.0|    11.0|   13|       30|       25|  1.0|   1.0| 32.207582|\n",
            "|      Frosted Flakes|            Kelloggs|froid|     110|        1|      0|   200|   1.0|    14.0|   11|       25|       25|  1.0|  0.75| 31.435973|\n",
            "| Frosted Mini-Wheats|            Kelloggs|froid|     100|        3|      0|     0|   3.0|    14.0|    7|      100|       25|  1.0|   0.8| 58.345141|\n",
            "|Fruit & Fibre Dat...|                Post|froid|     120|        3|      2|   160|   5.0|    12.0|   10|      200|       25| 1.25|  0.67| 40.917047|\n",
            "|       Fruitful Bran|            Kelloggs|froid|     120|        3|      0|   240|   5.0|    14.0|   12|      190|       25| 1.33|  0.67| 41.015492|\n",
            "|      Fruity Pebbles|                Post|froid|     110|        1|      1|   135|   0.0|    13.0|   12|       25|       25|  1.0|  0.75| 28.025765|\n",
            "|        Golden Crisp|                Post|froid|     100|        2|      0|    45|   0.0|    11.0|   15|       40|       25|  1.0|  0.88| 35.252444|\n",
            "|      Golden Grahams|       General Mills|froid|     110|        1|      1|   280|   0.0|    15.0|    9|       45|       25|  1.0|  0.75| 23.804043|\n",
            "|   Grape Nuts Flakes|                Post|froid|     100|        3|      1|   140|   3.0|    15.0|    5|       85|       25|  1.0|  0.88| 52.076897|\n",
            "|          Grape-Nuts|                Post|froid|     110|        3|      0|   170|   3.0|    17.0|    3|       90|       25|  1.0|  0.25| 53.371007|\n",
            "|  Great Grains Pecan|                Post|froid|     120|        3|      3|    75|   3.0|    13.0|    4|      100|       25|  1.0|  0.33| 45.811716|\n",
            "|    Honey Graham Ohs|         Quaker Oats|froid|     120|        1|      2|   220|   1.0|    12.0|   11|       45|       25|  1.0|   1.0| 21.871292|\n",
            "|  Honey Nut Cheerios|       General Mills|froid|     110|        3|      1|   250|   1.5|    11.5|   10|       90|       25|  1.0|  0.75| 31.072217|\n",
            "|          Honey-comb|                Post|froid|     110|        1|      0|   180|   0.0|    14.0|   11|       35|       25|  1.0|  1.33| 28.742414|\n",
            "|Just Right Crunch...|            Kelloggs|froid|     110|        2|      1|   170|   1.0|    17.0|    6|       60|      100|  1.0|   1.0| 36.523683|\n",
            "|Just Right Fruit ...|            Kelloggs|froid|     140|        3|      1|   170|   2.0|    20.0|    9|       95|      100|  1.3|  0.75| 36.471512|\n",
            "|                 Kix|       General Mills|froid|     110|        2|      1|   260|   0.0|    21.0|    3|       40|       25|  1.0|   1.5| 39.241114|\n",
            "|                Life|         Quaker Oats|froid|     100|        4|      2|   150|   2.0|    12.0|    6|       95|       25|  1.0|  0.67| 45.328074|\n",
            "|        Lucky Charms|       General Mills|froid|     110|        2|      1|   180|   0.0|    12.0|   12|       55|       25|  1.0|   1.0| 26.734515|\n",
            "|               Maypo|American Home Foo...|chaud|     100|        4|      1|     0|   0.0|    16.0|    3|       95|       25|  1.0|   1.0| 54.850917|\n",
            "|Muesli Raisins; D...|      Ralston Purina|froid|     150|        4|      3|    95|   3.0|    16.0|   11|      170|       25|  1.0|   1.0| 37.136863|\n",
            "|Muesli Raisins; P...|      Ralston Purina|froid|     150|        4|      3|   150|   3.0|    16.0|   11|      170|       25|  1.0|   1.0| 34.139765|\n",
            "|Mueslix Crispy Blend|            Kelloggs|froid|     160|        3|      2|   150|   3.0|    17.0|   13|      160|       25|  1.5|  0.67| 30.313351|\n",
            "|Multi-Grain Cheerios|       General Mills|froid|     100|        2|      1|   220|   2.0|    15.0|    6|       90|       25|  1.0|   1.0| 40.105965|\n",
            "|    Nut&Honey Crunch|            Kelloggs|froid|     120|        2|      1|   190|   0.0|    15.0|    9|       40|       25|  1.0|  0.67| 29.924285|\n",
            "|Nutri-Grain Almon...|            Kelloggs|froid|     140|        3|      2|   220|   3.0|    21.0|    7|      130|       25| 1.33|  0.67|  40.69232|\n",
            "+--------------------+--------------------+-----+--------+---------+-------+------+------+--------+-----+---------+---------+-----+------+----------+\n",
            "only showing top 50 rows\n",
            "\n"
          ]
        }
      ]
    },
    {
      "cell_type": "markdown",
      "source": [
        "**Question 14**\n",
        "\n",
        "En utilisant la méthode `withColumns`, convertir les poids donnés en *ounces* (onces) en grammes (1 once = 28,35 grammes) et les volumes donnés en *cups* (tasses) en litres (1 tasse = 0,25 litres)."
      ],
      "metadata": {
        "id": "Hpf2LPDKwKz6"
      }
    },
    {
      "cell_type": "code",
      "source": [
        "sdf1.withColumns({\"Poids\": sdf1.Poids*28.35, \"Volume\": sdf1.Volume*0.25}).show()"
      ],
      "metadata": {
        "colab": {
          "base_uri": "https://localhost:8080/"
        },
        "id": "GHKPXANPxKHy",
        "outputId": "3b461a25-dd67-4dac-aa72-58f66c563caf"
      },
      "execution_count": 55,
      "outputs": [
        {
          "output_type": "stream",
          "name": "stdout",
          "text": [
            "+--------------------+--------------+-----+--------+---------+-------+------+------+--------+-----+---------+---------+-------+------+----------+\n",
            "|                 Nom|     Fabricant| Type|Calories|Protéines|Graisse|Sodium|Fibres|Glucides|Sucre|Potassium|Vitamines|  Poids|Volume|Evaluation|\n",
            "+--------------------+--------------+-----+--------+---------+-------+------+------+--------+-----+---------+---------+-------+------+----------+\n",
            "|           100% Bran|       Nabisco|froid|      70|        4|      1|   130|  10.0|     5.0|    6|      280|       25|  28.35|0.0825| 68.402973|\n",
            "|   100% Natural Bran|   Quaker Oats|froid|     120|        3|      5|    15|   2.0|     8.0|    8|      135|        0|  28.35|  0.25| 33.983679|\n",
            "|            All-Bran|      Kelloggs|froid|      70|        4|      1|   260|   9.0|     7.0|    5|      320|       25|  28.35|0.0825| 59.425505|\n",
            "|All-Bran with Ext...|      Kelloggs|froid|      50|        4|      0|   140|  14.0|     8.0|    0|      330|       25|  28.35| 0.125| 93.704912|\n",
            "|      Almond Delight|Ralston Purina|froid|     110|        2|      2|   200|   1.0|    14.0|    8|       -1|       25|  28.35|0.1875| 34.384843|\n",
            "|Apple Cinnamon Ch...| General Mills|froid|     110|        2|      2|   180|   1.5|    10.5|   10|       70|       25|  28.35|0.1875| 29.509541|\n",
            "|         Apple Jacks|      Kelloggs|froid|     110|        2|      0|   125|   1.0|    11.0|   14|       30|       25|  28.35|  0.25| 33.174094|\n",
            "|             Basic 4| General Mills|froid|     130|        3|      2|   210|   2.0|    18.0|    8|      100|       25|37.7055|0.1875| 37.038562|\n",
            "|           Bran Chex|Ralston Purina|froid|      90|        2|      1|   200|   4.0|    15.0|    6|      125|       25|  28.35|0.1675| 49.120253|\n",
            "|         Bran Flakes|          Post|froid|      90|        3|      0|   210|   5.0|    13.0|    5|      190|       25|  28.35|0.1675| 53.313813|\n",
            "|        Cap'n'Crunch|   Quaker Oats|froid|     120|        1|      2|   220|   0.0|    12.0|   12|       35|       25|  28.35|0.1875| 18.042851|\n",
            "|            Cheerios| General Mills|froid|     110|        6|      2|   290|   2.0|    17.0|    1|      105|       25|  28.35|0.3125| 50.764999|\n",
            "|Cinnamon Toast Cr...| General Mills|froid|     120|        1|      3|   210|   0.0|    13.0|    9|       45|       25|  28.35|0.1875| 19.823573|\n",
            "|            Clusters| General Mills|froid|     110|        3|      2|   140|   2.0|    13.0|    7|      105|       25|  28.35| 0.125| 40.400208|\n",
            "|         Cocoa Puffs| General Mills|froid|     110|        1|      1|   180|   0.0|    12.0|   13|       55|       25|  28.35|  0.25| 22.736446|\n",
            "|           Corn Chex|Ralston Purina|froid|     110|        2|      0|   280|   0.0|    22.0|    3|       25|       25|  28.35|  0.25| 41.445019|\n",
            "|         Corn Flakes|      Kelloggs|froid|     100|        2|      0|   290|   1.0|    21.0|    2|       35|       25|  28.35|  0.25| 45.863324|\n",
            "|           Corn Pops|      Kelloggs|froid|     110|        1|      0|    90|   1.0|    13.0|   12|       20|       25|  28.35|  0.25| 35.782791|\n",
            "|       Count Chocula| General Mills|froid|     110|        1|      1|   180|   0.0|    12.0|   13|       65|       25|  28.35|  0.25| 22.396513|\n",
            "|  Cracklin' Oat Bran|      Kelloggs|froid|     110|        3|      3|   140|   4.0|    10.0|    7|      160|       25|  28.35| 0.125| 40.448772|\n",
            "+--------------------+--------------+-----+--------+---------+-------+------+------+--------+-----+---------+---------+-------+------+----------+\n",
            "only showing top 20 rows\n",
            "\n"
          ]
        }
      ]
    },
    {
      "cell_type": "markdown",
      "source": [
        "### Re-partitionnement et écriture des nouvelles données\n",
        "\n",
        "**Question 15**\n",
        "\n",
        "A l'aide de la méthode `repartitionByRange` re-partitionner la DataFrame `sdf1` en 2 partitions en fonction du fabricant.\n",
        "\n",
        "Afficher le nombre de partitions de la nouvelles DataFrame `sdf1` et ses 50 premières lignes. Comparer à l'affichage obtenu à la question précdente."
      ],
      "metadata": {
        "id": "dNQfecVF8ogt"
      }
    },
    {
      "cell_type": "code",
      "source": [
        "sdf1 = sdf1.repartitionByRange(2, \"Fabricant\")\n",
        "print(sdf1.rdd.getNumPartitions())\n",
        "sdf1.show(50)"
      ],
      "metadata": {
        "colab": {
          "base_uri": "https://localhost:8080/"
        },
        "id": "KPJmDJHe6W9o",
        "outputId": "498839fe-b811-4d12-8991-bd992b48a953"
      },
      "execution_count": 56,
      "outputs": [
        {
          "output_type": "stream",
          "name": "stdout",
          "text": [
            "2\n",
            "+--------------------+--------------------+-----+--------+---------+-------+------+------+--------+-----+---------+---------+-----+------+----------+\n",
            "|                 Nom|           Fabricant| Type|Calories|Protéines|Graisse|Sodium|Fibres|Glucides|Sucre|Potassium|Vitamines|Poids|Volume|Evaluation|\n",
            "+--------------------+--------------------+-----+--------+---------+-------+------+------+--------+-----+---------+---------+-----+------+----------+\n",
            "|            All-Bran|            Kelloggs|froid|      70|        4|      1|   260|   9.0|     7.0|    5|      320|       25|  1.0|  0.33| 59.425505|\n",
            "|All-Bran with Ext...|            Kelloggs|froid|      50|        4|      0|   140|  14.0|     8.0|    0|      330|       25|  1.0|   0.5| 93.704912|\n",
            "|Apple Cinnamon Ch...|       General Mills|froid|     110|        2|      2|   180|   1.5|    10.5|   10|       70|       25|  1.0|  0.75| 29.509541|\n",
            "|         Apple Jacks|            Kelloggs|froid|     110|        2|      0|   125|   1.0|    11.0|   14|       30|       25|  1.0|   1.0| 33.174094|\n",
            "|             Basic 4|       General Mills|froid|     130|        3|      2|   210|   2.0|    18.0|    8|      100|       25| 1.33|  0.75| 37.038562|\n",
            "|            Cheerios|       General Mills|froid|     110|        6|      2|   290|   2.0|    17.0|    1|      105|       25|  1.0|  1.25| 50.764999|\n",
            "|Cinnamon Toast Cr...|       General Mills|froid|     120|        1|      3|   210|   0.0|    13.0|    9|       45|       25|  1.0|  0.75| 19.823573|\n",
            "|            Clusters|       General Mills|froid|     110|        3|      2|   140|   2.0|    13.0|    7|      105|       25|  1.0|   0.5| 40.400208|\n",
            "|         Cocoa Puffs|       General Mills|froid|     110|        1|      1|   180|   0.0|    12.0|   13|       55|       25|  1.0|   1.0| 22.736446|\n",
            "|         Corn Flakes|            Kelloggs|froid|     100|        2|      0|   290|   1.0|    21.0|    2|       35|       25|  1.0|   1.0| 45.863324|\n",
            "|           Corn Pops|            Kelloggs|froid|     110|        1|      0|    90|   1.0|    13.0|   12|       20|       25|  1.0|   1.0| 35.782791|\n",
            "|       Count Chocula|       General Mills|froid|     110|        1|      1|   180|   0.0|    12.0|   13|       65|       25|  1.0|   1.0| 22.396513|\n",
            "|  Cracklin' Oat Bran|            Kelloggs|froid|     110|        3|      3|   140|   4.0|    10.0|    7|      160|       25|  1.0|   0.5| 40.448772|\n",
            "|             Crispix|            Kelloggs|froid|     110|        2|      0|   220|   1.0|    21.0|    3|       30|       25|  1.0|   1.0| 46.895644|\n",
            "|Crispy Wheat & Ra...|       General Mills|froid|     100|        2|      1|   140|   2.0|    11.0|   10|      120|       25|  1.0|  0.75| 36.176196|\n",
            "|         Froot Loops|            Kelloggs|froid|     110|        2|      1|   125|   1.0|    11.0|   13|       30|       25|  1.0|   1.0| 32.207582|\n",
            "|      Frosted Flakes|            Kelloggs|froid|     110|        1|      0|   200|   1.0|    14.0|   11|       25|       25|  1.0|  0.75| 31.435973|\n",
            "| Frosted Mini-Wheats|            Kelloggs|froid|     100|        3|      0|     0|   3.0|    14.0|    7|      100|       25|  1.0|   0.8| 58.345141|\n",
            "|       Fruitful Bran|            Kelloggs|froid|     120|        3|      0|   240|   5.0|    14.0|   12|      190|       25| 1.33|  0.67| 41.015492|\n",
            "|      Golden Grahams|       General Mills|froid|     110|        1|      1|   280|   0.0|    15.0|    9|       45|       25|  1.0|  0.75| 23.804043|\n",
            "|  Honey Nut Cheerios|       General Mills|froid|     110|        3|      1|   250|   1.5|    11.5|   10|       90|       25|  1.0|  0.75| 31.072217|\n",
            "|Just Right Crunch...|            Kelloggs|froid|     110|        2|      1|   170|   1.0|    17.0|    6|       60|      100|  1.0|   1.0| 36.523683|\n",
            "|Just Right Fruit ...|            Kelloggs|froid|     140|        3|      1|   170|   2.0|    20.0|    9|       95|      100|  1.3|  0.75| 36.471512|\n",
            "|                 Kix|       General Mills|froid|     110|        2|      1|   260|   0.0|    21.0|    3|       40|       25|  1.0|   1.5| 39.241114|\n",
            "|        Lucky Charms|       General Mills|froid|     110|        2|      1|   180|   0.0|    12.0|   12|       55|       25|  1.0|   1.0| 26.734515|\n",
            "|               Maypo|American Home Foo...|chaud|     100|        4|      1|     0|   0.0|    16.0|    3|       95|       25|  1.0|   1.0| 54.850917|\n",
            "|Mueslix Crispy Blend|            Kelloggs|froid|     160|        3|      2|   150|   3.0|    17.0|   13|      160|       25|  1.5|  0.67| 30.313351|\n",
            "|Multi-Grain Cheerios|       General Mills|froid|     100|        2|      1|   220|   2.0|    15.0|    6|       90|       25|  1.0|   1.0| 40.105965|\n",
            "|    Nut&Honey Crunch|            Kelloggs|froid|     120|        2|      1|   190|   0.0|    15.0|    9|       40|       25|  1.0|  0.67| 29.924285|\n",
            "|Nutri-Grain Almon...|            Kelloggs|froid|     140|        3|      2|   220|   3.0|    21.0|    7|      130|       25| 1.33|  0.67|  40.69232|\n",
            "|   Nutri-grain Wheat|            Kelloggs|froid|      90|        3|      0|   170|   3.0|    18.0|    2|       90|       25|  1.0|   1.0| 59.642837|\n",
            "|Oatmeal Raisin Crisp|       General Mills|froid|     130|        3|      2|   170|   1.5|    13.5|   10|      120|       25| 1.25|   0.5| 30.450843|\n",
            "|          Product 19|            Kelloggs|froid|     100|        3|      0|   320|   1.0|    20.0|    3|       45|      100|  1.0|   1.0|  41.50354|\n",
            "|         Raisin Bran|            Kelloggs|froid|     120|        3|      1|   210|   5.0|    14.0|   12|      240|       25| 1.33|  0.75| 39.259197|\n",
            "|     Raisin Nut Bran|       General Mills|froid|     100|        3|      2|   140|   2.5|    10.5|    8|      140|       25|  1.0|   0.5|   39.7034|\n",
            "|      Raisin Squares|            Kelloggs|froid|      90|        2|      0|     0|   2.0|    15.0|    6|      110|       25|  1.0|   0.5| 55.333142|\n",
            "|       Rice Krispies|            Kelloggs|froid|     110|        2|      0|   290|   0.0|    22.0|    3|       35|       25|  1.0|   1.0| 40.560159|\n",
            "|              Smacks|            Kelloggs|froid|     110|        2|      1|    70|   1.0|     9.0|   15|       40|       25|  1.0|  0.75| 31.230054|\n",
            "|           Special K|            Kelloggs|froid|     110|        6|      0|   230|   1.0|    16.0|    3|       55|       25|  1.0|   1.0| 53.131324|\n",
            "|   Total Corn Flakes|       General Mills|froid|     110|        2|      1|   200|   0.0|    21.0|    3|       35|      100|  1.0|   1.0| 38.839746|\n",
            "|   Total Raisin Bran|       General Mills|froid|     140|        3|      1|   190|   4.0|    15.0|   14|      230|      100|  1.5|   1.0| 28.592785|\n",
            "|   Total Whole Grain|       General Mills|froid|     100|        3|      1|   200|   3.0|    16.0|    3|      110|      100|  1.0|   1.0| 46.658844|\n",
            "|             Triples|       General Mills|froid|     110|        2|      1|   250|   0.0|    21.0|    3|       60|       25|  1.0|  0.75| 39.106174|\n",
            "|                Trix|       General Mills|froid|     110|        1|      1|   140|   0.0|    13.0|   12|       25|       25|  1.0|   1.0| 27.753301|\n",
            "|            Wheaties|       General Mills|froid|     100|        3|      1|   200|   3.0|    17.0|    3|      110|       25|  1.0|   1.0| 51.592193|\n",
            "| Wheaties Honey Gold|       General Mills|froid|     110|        2|      1|   200|   1.0|    16.0|    8|       60|       25|  1.0|  0.75| 36.187559|\n",
            "|           100% Bran|             Nabisco|froid|      70|        4|      1|   130|  10.0|     5.0|    6|      280|       25|  1.0|  0.33| 68.402973|\n",
            "|   100% Natural Bran|         Quaker Oats|froid|     120|        3|      5|    15|   2.0|     8.0|    8|      135|        0|  1.0|   1.0| 33.983679|\n",
            "|      Almond Delight|      Ralston Purina|froid|     110|        2|      2|   200|   1.0|    14.0|    8|       -1|       25|  1.0|  0.75| 34.384843|\n",
            "|           Bran Chex|      Ralston Purina|froid|      90|        2|      1|   200|   4.0|    15.0|    6|      125|       25|  1.0|  0.67| 49.120253|\n",
            "+--------------------+--------------------+-----+--------+---------+-------+------+------+--------+-----+---------+---------+-----+------+----------+\n",
            "only showing top 50 rows\n",
            "\n"
          ]
        }
      ]
    },
    {
      "cell_type": "markdown",
      "source": [
        "**Question 16**\n",
        "\n",
        "Ecrire la nouvelles Dataframe re-partitionnée `sdf1` dans un répertoire `./cereal_french` au format `csv` avec les en-têtes. Observer le résutat obtenu.\n",
        "\n",
        "*Remarque : Spark utilise par défaut le système de nommage de fichier de Hadoop*\n",
        "\n",
        "D'après le contenu de chaque fichier obtenu, comment ont été faites les partitions de `sdf1` ?"
      ],
      "metadata": {
        "id": "M53r1ndA9JLT"
      }
    },
    {
      "cell_type": "code",
      "source": [
        "sdf1.write.csv('cereal_french', header=True)"
      ],
      "metadata": {
        "id": "c3I0oJke6_30"
      },
      "execution_count": 57,
      "outputs": []
    },
    {
      "cell_type": "markdown",
      "source": [
        "### Filtrage, tri, groupements et agrégation.\n",
        "\n",
        "**Question 17**\n",
        "\n",
        "Afficher les lignes correspondant aux céréales avec des glucides strictement inférieurs à 10 grammes (on excluera également les valeurs négatives de glucides qui correspondent à des informations non renseignées). Ordonner les résultats suivant les glucides."
      ],
      "metadata": {
        "id": "k_n08rGx-iR_"
      }
    },
    {
      "cell_type": "code",
      "source": [
        "sdf1.filter((sdf1.Glucides < 10) & (sdf1.Glucides >= 0)).orderBy(sdf1.Glucides).show()"
      ],
      "metadata": {
        "colab": {
          "base_uri": "https://localhost:8080/"
        },
        "id": "bL4tpLUEymlo",
        "outputId": "ec6d9a8a-0c63-4717-d02f-c7eab396c328"
      },
      "execution_count": 39,
      "outputs": [
        {
          "output_type": "stream",
          "name": "stdout",
          "text": [
            "+--------------------+-----------+-----+--------+---------+-------+------+------+--------+-----+---------+---------+-----+------+----------+\n",
            "|                 Nom|  Fabricant| Type|Calories|Protéines|Graisse|Sodium|Fibres|Glucides|Sucre|Potassium|Vitamines|Poids|Volume|Evaluation|\n",
            "+--------------------+-----------+-----+--------+---------+-------+------+------+--------+-----+---------+---------+-----+------+----------+\n",
            "|           100% Bran|    Nabisco|froid|      70|        4|      1|   130|  10.0|     5.0|    6|      280|       25|  1.0|  0.33| 68.402973|\n",
            "|            All-Bran|   Kelloggs|froid|      70|        4|      1|   260|   9.0|     7.0|    5|      320|       25|  1.0|  0.33| 59.425505|\n",
            "|   100% Natural Bran|Quaker Oats|froid|     120|        3|      5|    15|   2.0|     8.0|    8|      135|        0|  1.0|   1.0| 33.983679|\n",
            "|All-Bran with Ext...|   Kelloggs|froid|      50|        4|      0|   140|  14.0|     8.0|    0|      330|       25|  1.0|   0.5| 93.704912|\n",
            "|              Smacks|   Kelloggs|froid|     110|        2|      1|    70|   1.0|     9.0|   15|       40|       25|  1.0|  0.75| 31.230054|\n",
            "+--------------------+-----------+-----+--------+---------+-------+------+------+--------+-----+---------+---------+-----+------+----------+\n",
            "\n"
          ]
        }
      ]
    },
    {
      "cell_type": "markdown",
      "source": [
        "**Question 18**\n",
        "\n",
        "Afficher le nombre de céréales par type (chaud/froid)."
      ],
      "metadata": {
        "id": "fnpejEt5BWtA"
      }
    },
    {
      "cell_type": "code",
      "source": [
        "sdf1.groupBy(\"Type\").count().show()"
      ],
      "metadata": {
        "colab": {
          "base_uri": "https://localhost:8080/"
        },
        "id": "H7aZ0PqIyTPV",
        "outputId": "06a3e23e-70ae-45bd-c65e-8c3b485b3c17"
      },
      "execution_count": 34,
      "outputs": [
        {
          "output_type": "stream",
          "name": "stdout",
          "text": [
            "+-----+-----+\n",
            "| Type|count|\n",
            "+-----+-----+\n",
            "|chaud|    3|\n",
            "|froid|   74|\n",
            "+-----+-----+\n",
            "\n"
          ]
        }
      ]
    },
    {
      "cell_type": "markdown",
      "source": [
        "**Question 19**\n",
        "\n",
        "Créer une nouvelle DataFrame `sdf2` contenant les moyennes des grandeurs numériques par fabricant et renommer les colonnes de cette DataFrame avec dans l'ordre :\n",
        "```\n",
        "\"Fabricant\",\"Calories\",\"Protéines\",\"Graisse\",\"Sodium\",\"Fibres\",\n",
        "\"Glucides\",\"Sucre\",\"Potassium\", \"Vitamines\", \"Poids\",\"Volume\",\"Evaluation\"\n",
        "```\n",
        "\n",
        "Afficher le nombre de partitions de cette DataFrame `sdf2` et son contenu."
      ],
      "metadata": {
        "id": "tr5akeClBr_J"
      }
    },
    {
      "cell_type": "code",
      "source": [
        "sdf2 = sdf1.groupBy(\"Fabricant\").mean().toDF(\"Fabricant\",\"Calories\",\"Protéines\",\n",
        "                 \"Graisse\",\"Sodium\",\"Fibres\",\"Glucides\",\"Sucre\",\n",
        "                 \"Potassium\", \"Vitamines\", \"Poids\",\"Volume\",\"Evaluation\")\n",
        "print(sdf2.rdd.getNumPartitions())\n",
        "sdf2.show()"
      ],
      "metadata": {
        "colab": {
          "base_uri": "https://localhost:8080/"
        },
        "id": "iiy-g7GByj_T",
        "outputId": "704dd92c-0b15-4fe0-c4cd-7310520ae866"
      },
      "execution_count": 59,
      "outputs": [
        {
          "output_type": "stream",
          "name": "stdout",
          "text": [
            "2\n",
            "+--------------------+------------------+------------------+-------------------+------------------+------------------+------------------+------------------+------------------+-----------------+------------------+------------------+-----------------+\n",
            "|           Fabricant|          Calories|         Protéines|            Graisse|            Sodium|            Fibres|          Glucides|             Sucre|         Potassium|        Vitamines|             Poids|            Volume|       Evaluation|\n",
            "+--------------------+------------------+------------------+-------------------+------------------+------------------+------------------+------------------+------------------+-----------------+------------------+------------------+-----------------+\n",
            "|            Kelloggs|108.69565217391305| 2.652173913043478| 0.6086956521739131| 174.7826086956522| 2.739130434782609|15.130434782608695| 7.565217391304348|103.04347826086956|34.78260869565217|1.0778260869565217|0.7960869565217392|44.03846234782609|\n",
            "|       General Mills|111.36363636363636|2.3181818181818183| 1.3636363636363635|200.45454545454547|1.2727272727272727|14.727272727272727| 7.954545454545454| 85.22727272727273|35.22727272727273| 1.049090909090909|             0.875|34.48585168181818|\n",
            "|American Home Foo...|             100.0|               4.0|                1.0|               0.0|               0.0|              16.0|               3.0|              95.0|             25.0|               1.0|               1.0|        54.850917|\n",
            "|             Nabisco| 86.66666666666667|2.8333333333333335|0.16666666666666666|              37.5|               4.0|              16.0|1.8333333333333333|120.66666666666667|8.333333333333334|0.9716666666666667|0.7783333333333333|67.96856716666666|\n",
            "|         Quaker Oats|              95.0|             2.625|               1.75|              92.5|            1.3375|              10.0|              5.25|            74.375|             12.5|             0.875|           0.82375|     42.915989875|\n",
            "|      Ralston Purina|             115.0|               2.5|               1.25|           198.125|             1.875|            17.625|             6.125|             89.25|             25.0|               1.0|           0.87125|     41.542997125|\n",
            "|                Post|108.88888888888889|2.4444444444444446| 0.8888888888888888|146.11111111111111|2.7777777777777777|13.222222222222221| 8.777777777777779|113.88888888888889|             25.0|1.0644444444444445|0.7144444444444444|41.70574411111111|\n",
            "+--------------------+------------------+------------------+-------------------+------------------+------------------+------------------+------------------+------------------+-----------------+------------------+------------------+-----------------+\n",
            "\n"
          ]
        }
      ]
    },
    {
      "cell_type": "markdown",
      "source": [
        "**Question 20**\n",
        "\n",
        "En utilisant la méthode `coalesce` rassembler la DataFrame `sdf2` en une seule partition puis l'écrire dans un répertoire `./fabricant_valeurs_moyennes` au format `csv` (avec les en-têtes). Observer le résutat obtenu."
      ],
      "metadata": {
        "id": "QDCyDBpzCt_v"
      }
    },
    {
      "cell_type": "code",
      "source": [
        "sdf2.coalesce(1).write.csv('./fabricant_valeurs_moyennes', header=True)"
      ],
      "metadata": {
        "id": "lc64sP3K1fmQ"
      },
      "execution_count": 62,
      "outputs": []
    },
    {
      "cell_type": "markdown",
      "source": [
        "**Question 21**\n",
        "\n",
        "Exécuter la cellule de code ci-dessous pour arrêter votre `SparkSession` (on suppose que votre objet `SparkSession` s'appelle `spark`)."
      ],
      "metadata": {
        "id": "C0mHv9KcEJgs"
      }
    },
    {
      "cell_type": "code",
      "source": [
        "spark.stop()"
      ],
      "metadata": {
        "id": "Brkf3nRIESUk"
      },
      "execution_count": 63,
      "outputs": []
    }
  ]
}