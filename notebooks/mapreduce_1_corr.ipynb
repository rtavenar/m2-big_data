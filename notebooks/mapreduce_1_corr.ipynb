{
 "cells": [
  {
   "attachments": {},
   "cell_type": "markdown",
   "metadata": {},
   "source": [
    "# MapReduce 1/2\n",
    "\n",
    "Dans cette séance vous allez utiliser les fonctions [`map()`](https://docs.python.org/fr/3/library/functions.html#map) et [`functools.reduce()`](https://docs.python.org/fr/3/library/functools.html#functools.reduce) de Python pour illustrer les concepts du modèle de programmation MapReduce.\n",
    "\n",
    "## Exercice #1 : similarité cosinus avec les fonctions `map` et `functools.reduce`\n",
    "\n",
    "Le but de cet exercice est de comprendre le fonctionnement des fonctions `map` et `functools.reduce` de Python et de les appliquer au calcul de la [similarité cosinus](https://fr.wikipedia.org/wiki/Similarit%C3%A9_cosinus) entre deux vecteurs.\n",
    "\n",
    "### Processus Map\n",
    "\n",
    "**Question 1.1**\n",
    "\n",
    "Ecrire et tester une fonction `carre_liste()` qui prend une liste de nombres en entrée et renvoie la liste des carrés de ces nombres en utilisant la fonction `carre()` fournie et une liste en compréhension. Afficher le résultat obtenu."
   ]
  },
  {
   "cell_type": "code",
   "execution_count": 13,
   "metadata": {},
   "outputs": [
    {
     "name": "stdout",
     "output_type": "stream",
     "text": [
      "[1, 4, 9, 16, 25, 36, 49, 64, 81]\n"
     ]
    }
   ],
   "source": [
    "def carre(x):\n",
    "    return x**2\n",
    "\n",
    "def carre_liste(la_liste):\n",
    "    return [carre(x) for x in la_liste]\n",
    "\n",
    "ma_liste1 = list(range(1,10))\n",
    "resultat_1_1 = carre_liste(ma_liste1)\n",
    "print(resultat_1_1)"
   ]
  },
  {
   "attachments": {},
   "cell_type": "markdown",
   "metadata": {},
   "source": [
    "**Question 1.2**\n",
    "\n",
    "Ecrire une instruction qui fait la même chose en utilisant la fonction `map()` de python. Afficher le résultat obtenu.\n",
    "\n",
    "*Indication : la fonction `map()` renvoie un itérateur et non une liste. On peut cependant obtenir la liste correspondante en applicant un \"cast\" à cet itérateur à l'aide de la fonction `list()`*"
   ]
  },
  {
   "cell_type": "code",
   "execution_count": 14,
   "metadata": {},
   "outputs": [
    {
     "name": "stdout",
     "output_type": "stream",
     "text": [
      "[1, 4, 9, 16, 25, 36, 49, 64, 81]\n"
     ]
    }
   ],
   "source": [
    "resultat_1_2 = map(carre, ma_liste1)   # itérateur\n",
    "\n",
    "liste_carres = list(resultat_1_2)    # liste correspondante\n",
    "print(liste_carres)"
   ]
  },
  {
   "attachments": {},
   "cell_type": "markdown",
   "metadata": {},
   "source": [
    "**Question 1.3**\n",
    "\n",
    "Ecrire une fonction `prod_listes()` qui prend en entrée 2 listes de nombres de même taille et qui renvoie une liste des produits 2 à 2 de ces nombres en utilisant la fonction `produit()` fournie et une liste en compréhension. Afficher le résultat obtenu.\n",
    "\n",
    "*Indication : pour une meilleure implémentation, penser à utiliser la fonction [`zip()`](https://docs.python.org/3/library/functions.html#zip) de Python*"
   ]
  },
  {
   "cell_type": "code",
   "execution_count": 15,
   "metadata": {},
   "outputs": [
    {
     "name": "stdout",
     "output_type": "stream",
     "text": [
      "[9, 16, 21, 24, 25, 24, 21, 16, 9]\n"
     ]
    }
   ],
   "source": [
    "def produit(x,y):\n",
    "    return x*y\n",
    "\n",
    "def prod_listes(liste1, liste2):\n",
    "    return [produit(x,y) for x,y in zip(liste1, liste2)]\n",
    "\n",
    "ma_liste2 = list(range(9,0,-1))\n",
    "\n",
    "resultat_1_3 = prod_listes(ma_liste1, ma_liste2)\n",
    "print(resultat_1_3)"
   ]
  },
  {
   "attachments": {},
   "cell_type": "markdown",
   "metadata": {},
   "source": [
    "**Question 1.4**\n",
    "\n",
    "Ecrire une instruction qui fait la même chose en utilisant la fonction `map()` de python. Afficher le résultat obtenu."
   ]
  },
  {
   "cell_type": "code",
   "execution_count": 16,
   "metadata": {},
   "outputs": [
    {
     "name": "stdout",
     "output_type": "stream",
     "text": [
      "[9, 16, 21, 24, 25, 24, 21, 16, 9]\n"
     ]
    }
   ],
   "source": [
    "resultat_1_4 = map(produit, ma_liste1, ma_liste2)\n",
    "print(list(resultat_1_4))"
   ]
  },
  {
   "attachments": {},
   "cell_type": "markdown",
   "metadata": {},
   "source": [
    "### Processus Map+Reduce\n",
    "\n",
    "**Question 1.5**\n",
    "\n",
    "Ecrire une fonction **recursive** `reduce_liste()` qui prend en premier paramètre le nom d'une fonction d'opération (telle que `addition` fournies ci-dessous, ou `produit` fournies ci-dessus) et en deuxième paramètre une liste de nombres, et qui permet d'appliquer l'opération de façon récursive à l'ensemble des nombres de la liste. \n",
    "\n",
    "Exemple : si `f()` est la fonction d'opération et `x1,x2,x3,x4` les éléments de la liste, l'appel de la fonction récursive sur cette liste doit renvoyer le résultat final suivant :\n",
    "\n",
    "`f(f(f(x1, x2), x3), x4)`\n",
    "\n",
    "On prendra soin de bien identifier le dernier calcul de la récursion (c.a.d celui qui arrête les appels récursifs).\n",
    "\n",
    "Tester cette fonction sur la liste de carrés obtenue à la question 1.2 et afficher le résultat."
   ]
  },
  {
   "cell_type": "code",
   "execution_count": 17,
   "metadata": {},
   "outputs": [
    {
     "name": "stdout",
     "output_type": "stream",
     "text": [
      "285\n"
     ]
    }
   ],
   "source": [
    "from functools import reduce\n",
    "\n",
    "def addition(x,y):\n",
    "    return x+y\n",
    "\n",
    "\n",
    "def reduce_liste(operation, la_liste):\n",
    "    return operation(reduce_liste(operation, la_liste[:-1]), la_liste[-1]) if len(la_liste)> 2 else operation(la_liste[0], la_liste[1])\n",
    "\n",
    "resultat_1_5 = reduce_liste(addition, liste_carres)\n",
    "print(resultat_1_5)"
   ]
  },
  {
   "attachments": {},
   "cell_type": "markdown",
   "metadata": {},
   "source": [
    "**Question 1.6**\n",
    "\n",
    "Ecrire une instruction unique imbriquant les fonctions `map()`, `reduce()` (du module `functools`), `carre()` et `addition()` (fournies ci-dessus) permettant de calculer la somme des carrés d'une liste. Afficher le résultat obtenu."
   ]
  },
  {
   "cell_type": "code",
   "execution_count": 18,
   "metadata": {},
   "outputs": [
    {
     "name": "stdout",
     "output_type": "stream",
     "text": [
      "285\n"
     ]
    }
   ],
   "source": [
    "from functools import reduce\n",
    "\n",
    "resultat = reduce(addition, map(carre, ma_liste1))\n",
    "print(resultat)"
   ]
  },
  {
   "attachments": {},
   "cell_type": "markdown",
   "metadata": {},
   "source": [
    "*Remarque : au lieu de définir nous même la fonction `addition()` on peut passer en premier paramètre à `reduce()` la fonction `add` du module `operator` de Python.*"
   ]
  },
  {
   "attachments": {},
   "cell_type": "markdown",
   "metadata": {},
   "source": [
    "**Question 1.6**\n",
    "\n",
    "Ecrire une instruction unique imbriquant les fonctions `map()`, `reduce()`, `produit()` (fournie ci-dessus) et la fonction `add()` du module `operator` permettant de calculer la somme des produits 2 à 2 des éléments de deux listes de même taille. Afficher le résultat obtenu."
   ]
  },
  {
   "cell_type": "code",
   "execution_count": 19,
   "metadata": {},
   "outputs": [
    {
     "name": "stdout",
     "output_type": "stream",
     "text": [
      "165\n"
     ]
    }
   ],
   "source": [
    "from operator import add\n",
    "\n",
    "resultat = reduce(add, map(produit, ma_liste1, ma_liste2))\n",
    "print(resultat)"
   ]
  },
  {
   "attachments": {},
   "cell_type": "markdown",
   "metadata": {},
   "source": [
    "*Remarque : comme pour l'addition, au lieu de définir la fonction `produit()` on peut utiliser la fonction `mul()` du module `operator`.*"
   ]
  },
  {
   "attachments": {},
   "cell_type": "markdown",
   "metadata": {},
   "source": [
    "**Question 1.7**\n",
    "\n",
    "Ecrire une fonction `sim_cos()` prenant en entrée deux listes de nombres de même taille représentant deux vecteurs, et qui calcule la similarité cosinus entre ces deux vecteurs."
   ]
  },
  {
   "cell_type": "code",
   "execution_count": 20,
   "metadata": {},
   "outputs": [
    {
     "name": "stdout",
     "output_type": "stream",
     "text": [
      "0.5789473684210527\n"
     ]
    }
   ],
   "source": [
    "from math import sqrt\n",
    "from operator import mul\n",
    "\n",
    "def sim_cos(v1, v2):\n",
    "    norm1 = reduce(add, map(carre,v1))\n",
    "    norm2 = reduce(add, map(carre,v2))\n",
    "    prod = reduce(add, map(mul, v1, v2))\n",
    "\n",
    "    return prod/sqrt(norm1*norm2)\n",
    "\n",
    "\n",
    "resultat = sim_cos(ma_liste1, ma_liste2)\n",
    "print(resultat)"
   ]
  },
  {
   "cell_type": "markdown",
   "metadata": {},
   "source": [
    "## Exercice #2 : wordcount avec les fonctions `map` et `functools.reduce`\n",
    "\n",
    "Le but de l'exercice est d'écrire un programme de comptage d'occurences de mots dans un corpus de texte (réparti en plusieurs fichiers) en utilisant les fonctions `map` et `functools.reduce` de Python. Les fichiers de texte seront générés automatiquement grâce au module `lorem` (génération de faux textes en latin).\n",
    "\n",
    "Le prétraitement des textes sera ici très basique : on passera le texte en minuscule et on retirera les points de ponctuattion."
   ]
  },
  {
   "cell_type": "code",
   "execution_count": 21,
   "metadata": {},
   "outputs": [
    {
     "name": "stdout",
     "output_type": "stream",
     "text": [
      "['data/wordcount/sample0.txt', 'data/wordcount/sample1.txt', 'data/wordcount/sample2.txt']\n"
     ]
    }
   ],
   "source": [
    "import lorem\n",
    "\n",
    "data_in = []\n",
    "\n",
    "# création des fichiers texte et de la liste de ces fichiers\n",
    "for i in range(3):\n",
    "    with open(f\"data/wordcount/sample{i}.txt\", \"w\", encoding='utf-8') as f:\n",
    "        for j in range(2):\n",
    "            f.write(lorem.text())\n",
    "    data_in.append(f\"data/wordcount/sample{i}.txt\")\n",
    "\n",
    "print(data_in)"
   ]
  },
  {
   "cell_type": "markdown",
   "metadata": {},
   "source": [
    "**Question 2.1**\n",
    "\n",
    "Ecrire une fonction `tokenise()` qui prend en entrée un texte, qui pré-traite ce texte et renvoie une liste des mots du texte. Tester sur un des fichiers texte créés."
   ]
  },
  {
   "cell_type": "code",
   "execution_count": 22,
   "metadata": {},
   "outputs": [
    {
     "name": "stdout",
     "output_type": "stream",
     "text": [
      "['quaerat', 'eius', 'velit', 'numquam', 'est', 'ipsum', 'adipisci', 'tempora', 'consectetur', 'non', 'numquam', 'quiquia', 'quiquia', 'neque', 'eius', 'non', 'sit', 'modi', 'adipisci', 'sed', 'neque', 'amet', 'magnam', 'adipisci', 'non', 'quiquia', 'aliquam', 'non', 'velit', 'quaerat', 'est', 'numquam', 'quiquia', 'labore', 'dolor', 'quisquam', 'dolor', 'ut', 'quisquam', 'adipisci', 'etincidunt', 'non', 'aliquam', 'quisquam', 'dolor', 'velit', 'dolor', 'quiquia', 'non', 'labore', 'magnam', 'quiquia', 'velit', 'tempora', 'neque', 'modi', 'non', 'neque', 'labore', 'magnam', 'quaerat', 'est', 'ipsum', 'dolore', 'neque', 'ut', 'dolorem', 'amet', 'dolorem', 'etincidunt', 'dolorem', 'sed', 'consectetur', 'modi', 'amet', 'sit', 'eius', 'dolore', 'quisquam', 'amet', 'sit', 'numquam', 'consectetur', 'non', 'dolorem', 'etincidunt', 'voluptatem', 'dolor', 'tempora', 'sed', 'dolorem', 'quisquam', 'aliquam', 'est', 'magnam', 'est', 'quiquia', 'aliquam', 'labore', 'adipisci', 'quisquam', 'modi', 'dolorem', 'neque', 'quaerat', 'consectetur', 'tempora', 'est', 'neque', 'numquam', 'ut', 'amet', 'porro', 'quisquam', 'magnam', 'sed', 'ipsum', 'porro', 'neque', 'porro', 'velit', 'sit', 'labore', 'dolore', 'non', 'quiquia', 'consectetur', 'aliquam', 'ut', 'consectetur', 'etincidunt', 'dolor', 'aliquam', 'adipisci', 'tempora', 'quaerat', 'consectetur', 'sed', 'voluptatem', 'quiquia', 'neque', 'amet', 'consectetur', 'sed', 'labore', 'dolore', 'numquam', 'est', 'quisquam', 'etincidunt', 'dolor', 'modi', 'est', 'magnam', 'quisquam', 'sit', 'sit', 'adipisci', 'sit', 'velit', 'sit', 'dolorem', 'non', 'labore', 'porro', 'etincidunt', 'velit', 'ipsum', 'etincidunt', 'adipisci', 'sed', 'ipsum', 'magnam', 'eius', 'amet', 'quaerat', 'velit', 'est', 'tempora', 'voluptatem', 'est', 'amet', 'etincidunt', 'magnam', 'amet', 'eius', 'ipsum', 'quiquia', 'quisquam', 'sed', 'dolor', 'non', 'tempora', 'dolore', 'adipisci', 'dolore', 'dolorem', 'quiquia', 'neque', 'porro', 'eius', 'amet', 'voluptatem', 'velit', 'tempora', 'modi', 'labore', 'sit', 'quiquia', 'etincidunt', 'velit', 'temporalabore', 'sit', 'dolorem', 'porro', 'ipsum', 'sed', 'velit', 'dolor', 'voluptatem', 'neque', 'numquam', 'voluptatem', 'sed', 'quiquia', 'consectetur', 'magnam', 'voluptatem', 'sit', 'eius', 'aliquam', 'quaerat', 'sed', 'labore', 'ut', 'adipisci', 'consectetur', 'amet', 'voluptatem', 'ipsum', 'tempora', 'ut', 'magnam', 'modi', 'consectetur', 'amet', 'quisquam', 'voluptatem', 'velit', 'etincidunt', 'sit', 'eius', 'porro', 'numquam', 'sit', 'modi', 'labore', 'porro', 'est', 'velit', 'sit', 'sed', 'dolorem', 'modi', 'eius', 'dolore', 'quaerat', 'est', 'dolorem', 'aliquam', 'sit', 'est', 'ipsum', 'etincidunt', 'aliquam', 'etincidunt', 'sit', 'non', 'dolore', 'numquam', 'labore', 'velit', 'sed', 'voluptatem', 'numquam', 'dolor', 'aliquam', 'dolore', 'tempora', 'eius', 'tempora', 'aliquam', 'amet', 'aliquam', 'amet', 'sit', 'amet', 'quisquam', 'voluptatem', 'velit', 'dolor', 'quaerat', 'eius', 'dolorem', 'voluptatem', 'sit', 'aliquam', 'aliquam', 'dolorem', 'magnam', 'adipisci', 'modi', 'labore', 'magnam', 'quisquam', 'ut', 'neque', 'quiquia', 'consectetur', 'est', 'aliquam', 'sit', 'adipisci', 'quaerat', 'quiquia', 'est', 'ipsum', 'non', 'non', 'voluptatem', 'dolore', 'sed', 'voluptatem', 'sed', 'modi', 'est', 'etincidunt', 'magnam', 'neque', 'eius', 'quiquia', 'tempora', 'dolorem', 'dolor', 'est', 'dolor', 'voluptatem', 'quisquam', 'dolor', 'etincidunt', 'magnam', 'dolore', 'etincidunt', 'est', 'labore', 'eius', 'adipisci', 'dolor', 'quaerat', 'consectetur', 'sed', 'eius', 'quiquia', 'quaerat', 'est', 'magnam', 'sed', 'sed', 'amet', 'numquam', 'voluptatem', 'non', 'sed', 'non', 'labore', 'neque', 'etincidunt', 'neque', 'etincidunt', 'ut', 'porro', 'modi', 'eius', 'aliquam', 'dolorem', 'eius', 'etincidunt', 'neque', 'aliquam', 'modi', 'consectetur', 'ut', 'numquam', 'est', 'dolore', 'neque', 'ut', 'sed', 'ut', 'est', 'amet', 'adipisci', 'quaerat', 'sit', 'adipisci', 'voluptatem', 'consectetur', 'consectetur', 'adipisci', 'voluptatem', 'est', 'ut', 'ut', 'magnam', 'est', 'dolore', 'aliquam', 'sed', 'aliquam', 'neque', 'quaerat', 'amet', 'consectetur', 'consectetur', 'etincidunt', 'quiquia', 'eius', 'sit', 'quaerat', 'etincidunt', 'velit', 'labore', 'tempora', 'non', 'magnam', 'numquam', 'consectetur', 'dolor']\n"
     ]
    }
   ],
   "source": [
    "def tokenise(text):\n",
    "    return text.lower().replace(\".\", \"\").split()\n",
    "\n",
    "with open(\"data/wordcount/sample0.txt\", 'r', encoding='utf-8') as i_file:\n",
    "    content = i_file.read()\n",
    "\n",
    "res_tok = tokenise(content)\n",
    "print(res_tok)"
   ]
  },
  {
   "cell_type": "markdown",
   "metadata": {},
   "source": [
    "**Question 2.2**\n",
    "\n",
    "Ecrire une fonction `combine_words()` qui prend en entrée une liste de mot et renvoie le nombre d'occurences de chaque mot unique rencontré sous forme d'une liste de tuples `(word, nb_word)`. Tester sur le résultat précédent."
   ]
  },
  {
   "cell_type": "code",
   "execution_count": 29,
   "metadata": {},
   "outputs": [
    {
     "name": "stdout",
     "output_type": "stream",
     "text": [
      "[('quaerat', 15), ('eius', 17), ('velit', 16), ('numquam', 13), ('est', 23), ('ipsum', 10), ('adipisci', 16), ('tempora', 13), ('consectetur', 19), ('non', 17), ('quiquia', 18), ('neque', 18), ('sit', 21), ('modi', 13), ('sed', 21), ('amet', 18), ('magnam', 17), ('aliquam', 19), ('labore', 15), ('dolor', 16), ('quisquam', 14), ('ut', 13), ('etincidunt', 20), ('dolore', 13), ('dolorem', 15), ('voluptatem', 18), ('porro', 9), ('temporalabore', 1)]\n"
     ]
    }
   ],
   "source": [
    "def combine_words(word_list):\n",
    "    counts = {}\n",
    "    for w in word_list :\n",
    "        counts[w] = 1 if w not in counts else counts[w] + 1\n",
    "        \n",
    "    return list(counts.items())\n",
    "\n",
    "print(combine_words(res_tok))"
   ]
  },
  {
   "cell_type": "markdown",
   "metadata": {},
   "source": [
    "**Question 2.3**\n",
    "\n",
    "Ecrire une fonction `tokenise_and_combine_words()` qui prend en entrée un nom de fichier texte et qui utilise les deux fonctions précédentes pour fournir en sortie une liste des tuples `(word, nb_word)` indiquant le nombre d'occurences de chaque mot rencontré dans le fichier. Tester sur une des fichiers texte."
   ]
  },
  {
   "cell_type": "code",
   "execution_count": 24,
   "metadata": {},
   "outputs": [
    {
     "data": {
      "text/plain": [
       "[('quaerat', 15), ('eius', 17), ('velit', 16), ('numquam', 13), ('est', 23)]"
      ]
     },
     "execution_count": 24,
     "metadata": {},
     "output_type": "execute_result"
    }
   ],
   "source": [
    "def tokenise_and_combine_words(filename):\n",
    "    with open(filename, 'rt', encoding='utf-8') as ifile:\n",
    "        content = ifile.read()\n",
    "    \n",
    "    return combine_words(tokenise(content))\n",
    "\n",
    "tokenise_and_combine_words('data/wordcount/sample0.txt')[:5]"
   ]
  },
  {
   "cell_type": "markdown",
   "metadata": {},
   "source": [
    "**Question 2.4**\n",
    "\n",
    "Ecrire une instruction utilisant la fonction `map` de python permettant d'obtenir une listes des liste de tuples `(word, nb_word)` obtenues sur chaque fichier texte du corpus (ou plus précisément un itérateur sur cette liste). Afficher le résultat."
   ]
  },
  {
   "cell_type": "code",
   "execution_count": 25,
   "metadata": {},
   "outputs": [],
   "source": [
    "map_res = map(tokenise_and_combine_words, data_in)\n",
    "# print(list(map_res))           # Attention : ligne à commenter si on veut pouvoir utiliser l'itérateur map par la suite\n",
    "                                 # (le fait de créer une liste avec l'itérateur épuise cet itérateur)"
   ]
  },
  {
   "cell_type": "markdown",
   "metadata": {},
   "source": [
    "**Question 2.5**\n",
    "\n",
    "Ecrire une fonction `group_counts()` qui prendra en entrée une liste des listes de tuples `(word, nb_word)` issues des différents processus Map (ou des itérateurs sur ces listes) et qui fournira en sortie une liste de tuples `(word, list_nb_word)` où `list_nb_word` est une liste des occurences du mot `word` dans les différents fichiers textes.\n",
    "*Exemple de sortie de la fonction : `[('numquam', [26, 17, 16]), ('quiquia', [21, 13, 26]), ('ipsum', [19, 14, 19]),... ]`*"
   ]
  },
  {
   "cell_type": "code",
   "execution_count": 26,
   "metadata": {},
   "outputs": [
    {
     "name": "stdout",
     "output_type": "stream",
     "text": [
      "[('quaerat', [15, 22, 8]), ('eius', [17, 18, 13]), ('velit', [16, 15, 15]), ('numquam', [13, 9, 10]), ('est', [23, 29, 24]), ('ipsum', [10, 21, 23]), ('adipisci', [16, 16, 23]), ('tempora', [13, 12, 12]), ('consectetur', [19, 20, 21]), ('non', [17, 11, 16]), ('quiquia', [18, 10, 19]), ('neque', [18, 20, 19]), ('sit', [21, 18, 25]), ('modi', [13, 13, 25]), ('sed', [21, 21, 16]), ('amet', [18, 18, 11]), ('magnam', [17, 12, 19]), ('aliquam', [19, 17, 16]), ('labore', [15, 13, 12]), ('dolor', [16, 20, 15]), ('quisquam', [14, 16, 18]), ('ut', [13, 14, 18]), ('etincidunt', [20, 11, 20]), ('dolore', [13, 13, 12]), ('dolorem', [15, 12, 19]), ('voluptatem', [18, 18, 14]), ('porro', [9, 18, 21]), ('temporalabore', [1]), ('temporaest', [1]), ('dolorneque', [1])]\n"
     ]
    }
   ],
   "source": [
    "def group_counts(list_of_lists):\n",
    "    counts = {}\n",
    "    for l in list_of_lists:\n",
    "        for w,n in l : \n",
    "            counts[w] = [n] if w not in counts else counts[w]+[n]\n",
    "    return list(counts.items())\n",
    "\n",
    "group_res =  group_counts(map_res)\n",
    "print(group_res)"
   ]
  },
  {
   "cell_type": "markdown",
   "metadata": {},
   "source": [
    "**Question 2.6**\n",
    "\n",
    "Ecrire une fonction `reduce_counts()` qui prendra en entrée un tuple `(word, list_nb_word)` et qui utilisera la fonction `functools.reduce()` pour renvoyer un tuple `(word, tot_nb_word)` où `tot_nb_word` est le nombre d'occurences du mot `word` cumulées sur l'ensemble du corpus. Tester sur le premier élément de la liste obtenue à la question précédente."
   ]
  },
  {
   "cell_type": "code",
   "execution_count": 27,
   "metadata": {},
   "outputs": [
    {
     "name": "stdout",
     "output_type": "stream",
     "text": [
      "('quaerat', 45)\n"
     ]
    }
   ],
   "source": [
    "def reduce_counts(word_listnbword):\n",
    "    word, list_nb_word = word_listnbword\n",
    "    return (word, reduce(add, list_nb_word))\n",
    "\n",
    "print(reduce_counts(group_res[0]))"
   ]
  },
  {
   "cell_type": "markdown",
   "metadata": {},
   "source": [
    "**Question 2.7**\n",
    "\n",
    "Ecrire une instruction utilisant la fonction `map()` qui permet d'obtenir une liste de tuples `(word, tot_nb_word)` sur l'ensemble du corpus. Afficher le résultat obtenu par ordre décroissant du nombre d'occurences de mot."
   ]
  },
  {
   "cell_type": "code",
   "execution_count": 28,
   "metadata": {},
   "outputs": [
    {
     "name": "stdout",
     "output_type": "stream",
     "text": [
      "[('est', 76), ('sit', 64), ('consectetur', 60), ('sed', 58), ('neque', 57), ('adipisci', 55), ('ipsum', 54), ('aliquam', 52), ('modi', 51), ('dolor', 51), ('etincidunt', 51), ('voluptatem', 50), ('eius', 48), ('magnam', 48), ('quisquam', 48), ('porro', 48), ('quiquia', 47), ('amet', 47), ('velit', 46), ('dolorem', 46), ('quaerat', 45), ('ut', 45), ('non', 44), ('labore', 40), ('dolore', 38), ('tempora', 37), ('numquam', 32), ('temporalabore', 1), ('temporaest', 1), ('dolorneque', 1)]\n"
     ]
    }
   ],
   "source": [
    "res_mapreduce = map(reduce_counts, group_res)\n",
    "print(sorted(res_mapreduce, key=lambda x : x[1], reverse=True))"
   ]
  }
 ],
 "metadata": {
  "kernelspec": {
   "display_name": "big-data",
   "language": "python",
   "name": "python3"
  },
  "language_info": {
   "codemirror_mode": {
    "name": "ipython",
    "version": 3
   },
   "file_extension": ".py",
   "mimetype": "text/x-python",
   "name": "python",
   "nbconvert_exporter": "python",
   "pygments_lexer": "ipython3",
   "version": "3.9.16"
  },
  "orig_nbformat": 4
 },
 "nbformat": 4,
 "nbformat_minor": 2
}
