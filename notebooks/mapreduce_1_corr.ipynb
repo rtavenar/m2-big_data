{
 "cells": [
  {
   "attachments": {},
   "cell_type": "markdown",
   "metadata": {},
   "source": [
    "# MapReduce 1/2\n",
    "\n",
    "Dans cette séance vous allez utiliser les fonctions `map()` et `functools.reduce()` de Python pour illustrer les concepts du modèle de programmation MapReduce.\n",
    "\n",
    "## Exercice #1 : similarité cosinus avec les fonctions `map` et `functools.reduce`\n",
    "\n",
    "Le but de cet exercice est de comprendre le fonctionnement des fonctions `map` et `functools.reduce` de Python et de les appliquer au calcul de la [similarité cosinus](https://fr.wikipedia.org/wiki/Similarit%C3%A9_cosinus) entre deux vecteurs.\n",
    "\n",
    "### Processus Map\n",
    "\n",
    "**Question 1.1**\n",
    "\n",
    "Ecrire et tester une fonction `carre_liste()` qui prend une liste de nombres en entrée et renvoie la liste des carrés de ces nombres en utilisant la fonction `carre()` fournie et une liste en compréhension. Afficher le résultat obtenu."
   ]
  },
  {
   "cell_type": "code",
   "execution_count": 32,
   "metadata": {},
   "outputs": [
    {
     "name": "stdout",
     "output_type": "stream",
     "text": [
      "[1, 4, 9, 16, 25, 36, 49, 64, 81]\n"
     ]
    }
   ],
   "source": [
    "def carre(x):\n",
    "    return x**2\n",
    "\n",
    "def carre_liste(la_liste):\n",
    "    return [carre(x) for x in la_liste]\n",
    "\n",
    "ma_liste1 = list(range(1,10))\n",
    "resultat_1_1 = carre_liste(ma_liste1)\n",
    "print(resultat_1_1)"
   ]
  },
  {
   "attachments": {},
   "cell_type": "markdown",
   "metadata": {},
   "source": [
    "**Question 1.2**\n",
    "\n",
    "Ecrire une instruction qui fait la même chose en utilisant la fonction `map()` de python. Afficher le résultat obtenu.\n",
    "\n",
    "*Indication : la fonction `map()` renvoie un itérateur et non une liste. On peut cependant obtenir la liste correspondante en applicant un \"cast\" à cet itérateur à l'aide de la fonction `list()`*"
   ]
  },
  {
   "cell_type": "code",
   "execution_count": 33,
   "metadata": {},
   "outputs": [
    {
     "name": "stdout",
     "output_type": "stream",
     "text": [
      "[1, 4, 9, 16, 25, 36, 49, 64, 81]\n"
     ]
    }
   ],
   "source": [
    "resultat_1_2 = map(carre, ma_liste1)   # itérateur\n",
    "\n",
    "liste_carres = list(resultat_1_2)    # liste correspondante\n",
    "print(liste_carres)"
   ]
  },
  {
   "attachments": {},
   "cell_type": "markdown",
   "metadata": {},
   "source": [
    "**Question 1.3**\n",
    "\n",
    "Ecrire une fonction `prod_listes()` qui prend en entrée 2 listes de nombres de même taille et qui renvoie une liste des produits 2 à 2 de ces nombres en utilisant la fonction `produit()` fournie et une liste en compréhension. Afficher le résultat obtenu.\n",
    "\n",
    "*Indication : pour une meilleure implémentation, penser à utiliser la fonction [`zip()`](https://docs.python.org/3/library/functions.html#zip) de Python*"
   ]
  },
  {
   "cell_type": "code",
   "execution_count": 34,
   "metadata": {},
   "outputs": [
    {
     "name": "stdout",
     "output_type": "stream",
     "text": [
      "[9, 16, 21, 24, 25, 24, 21, 16, 9]\n"
     ]
    }
   ],
   "source": [
    "def produit(x,y):\n",
    "    return x*y\n",
    "\n",
    "def prod_listes(liste1, liste2):\n",
    "    return [produit(x,y) for x,y in zip(liste1, liste2)]\n",
    "\n",
    "ma_liste2 = list(range(9,0,-1))\n",
    "\n",
    "resultat_1_3 = prod_listes(ma_liste1, ma_liste2)\n",
    "print(resultat_1_3)"
   ]
  },
  {
   "attachments": {},
   "cell_type": "markdown",
   "metadata": {},
   "source": [
    "**Question 1.4**\n",
    "\n",
    "Ecrire une instruction qui fait la même chose en utilisant la fonction `map()` de python. Afficher le résultat obtenu."
   ]
  },
  {
   "cell_type": "code",
   "execution_count": 35,
   "metadata": {},
   "outputs": [
    {
     "name": "stdout",
     "output_type": "stream",
     "text": [
      "[9, 16, 21, 24, 25, 24, 21, 16, 9]\n"
     ]
    }
   ],
   "source": [
    "resultat_1_4 = map(produit, ma_liste1, ma_liste2)\n",
    "print(list(resultat_1_4))"
   ]
  },
  {
   "attachments": {},
   "cell_type": "markdown",
   "metadata": {},
   "source": [
    "### Processus Map+Reduce\n",
    "\n",
    "**Question 1.5**\n",
    "\n",
    "Ecrire une fonction **recursive** `reduce_liste()` qui prend en premier paramètre le nom d'une fonction d'opération (telle que `addition` fournies ci-dessous, ou `produit` fournies ci-dessus) et en deuxième paramètre une liste de nombres, et qui permet d'appliquer l'opération de façon récursive à l'ensemble des nombres de la liste. \n",
    "\n",
    "Exemple : si `f()` est la fonction d'opération et `x1,x2,x3,x4` les éléments de la liste, l'appel de la fonction récursive sur cette liste doit renvoyer le résultat final suivant :\n",
    "\n",
    "`f(f(f(x1, x2), x3), x4)`\n",
    "\n",
    "On prendra soin de bien identifier le dernier calcul de la récursion (c.a.d celui qui arrête les appels récursifs).\n",
    "\n",
    "Tester cette fonction sur la liste de carrés obtenue à la question 1.2 et afficher le résultat."
   ]
  },
  {
   "cell_type": "code",
   "execution_count": 36,
   "metadata": {},
   "outputs": [
    {
     "name": "stdout",
     "output_type": "stream",
     "text": [
      "285\n"
     ]
    }
   ],
   "source": [
    "from functools import reduce\n",
    "\n",
    "def addition(x,y):\n",
    "    return x+y\n",
    "\n",
    "\n",
    "def reduce_liste(operation, la_liste):\n",
    "    return operation(reduce_liste(operation, la_liste[:-1]), la_liste[-1]) if len(la_liste)> 2 else operation(la_liste[0], la_liste[1])\n",
    "\n",
    "resultat_1_5 = reduce_liste(addition, liste_carres)\n",
    "print(resultat_1_5)"
   ]
  },
  {
   "attachments": {},
   "cell_type": "markdown",
   "metadata": {},
   "source": [
    "**Question 1.6**\n",
    "\n",
    "Ecrire une instruction unique imbriquant les fonctions `map()`, `reduce()` (du module `functools`), `carre()` et `addition()` (fournies ci-dessus) permettant de calculer la somme des carrés d'une liste. Afficher le résultat obtenu."
   ]
  },
  {
   "cell_type": "code",
   "execution_count": 37,
   "metadata": {},
   "outputs": [
    {
     "name": "stdout",
     "output_type": "stream",
     "text": [
      "285\n"
     ]
    }
   ],
   "source": [
    "from functools import reduce\n",
    "\n",
    "resultat = reduce(addition, map(carre, ma_liste1))\n",
    "print(resultat)"
   ]
  },
  {
   "attachments": {},
   "cell_type": "markdown",
   "metadata": {},
   "source": [
    "*Remarque : au lieu de définir nous même la fonction `addition()` on peut passer en premier paramètre à `reduce()` la fonction `add` du module `operator` de Python.*"
   ]
  },
  {
   "attachments": {},
   "cell_type": "markdown",
   "metadata": {},
   "source": [
    "**Question 1.6**\n",
    "\n",
    "Ecrire une instruction unique imbriquant les fonctions `map()`, `reduce()`, `produit()` (fournie ci-dessus) et la fonction `add()` du module `operator` permettant de calculer la somme des produits 2 à 2 des éléments de deux listes de même taille. Afficher le résultat obtenu."
   ]
  },
  {
   "cell_type": "code",
   "execution_count": 38,
   "metadata": {},
   "outputs": [
    {
     "name": "stdout",
     "output_type": "stream",
     "text": [
      "165\n"
     ]
    }
   ],
   "source": [
    "from operator import add\n",
    "\n",
    "resultat = reduce(add, map(produit, ma_liste1, ma_liste2))\n",
    "print(resultat)"
   ]
  },
  {
   "attachments": {},
   "cell_type": "markdown",
   "metadata": {},
   "source": [
    "*Remarque : comme pour l'addition, au lieu de définir la fonction `produit()` on peut utiliser la fonction `mul()` du module `operator`.*"
   ]
  },
  {
   "attachments": {},
   "cell_type": "markdown",
   "metadata": {},
   "source": [
    "**Question 1.7**\n",
    "\n",
    "Ecrire une fonction `sim_cos()` prenant en entrée deux listes de nombres de même taille représentant deux vecteurs, et qui calcule la similarité cosinus entre ces deux vecteurs."
   ]
  },
  {
   "cell_type": "code",
   "execution_count": 39,
   "metadata": {},
   "outputs": [
    {
     "name": "stdout",
     "output_type": "stream",
     "text": [
      "0.5789473684210527\n"
     ]
    }
   ],
   "source": [
    "from math import sqrt\n",
    "from operator import mul\n",
    "\n",
    "def sim_cos(v1, v2):\n",
    "    norm1 = reduce(add, map(carre,v1))\n",
    "    norm2 = reduce(add, map(carre,v2))\n",
    "    prod = reduce(add, map(mul, v1, v2))\n",
    "\n",
    "    return prod/sqrt(norm1*norm2)\n",
    "\n",
    "\n",
    "resultat = sim_cos(ma_liste1, ma_liste2)\n",
    "print(resultat)"
   ]
  },
  {
   "cell_type": "markdown",
   "metadata": {},
   "source": [
    "## Exercice #2 : wordcount avec les fonctions `map` et `functools.reduce`\n",
    "\n",
    "Le but de l'exercice est d'écrire un programme de comptage d'occurences de mots dans un corpus de texte (réparti en plusieurs fichiers) en utilisant les fonctions `map` et `functools.reduce` de Python. Les fichiers de texte seront générés automatiquement grâce au module `lorem` (génération de faux textes en latin).\n",
    "\n",
    "Le prétraitement des textes sera ici très basique : on passera le texte en minuscule et on retirera les points de ponctuattion."
   ]
  },
  {
   "cell_type": "code",
   "execution_count": 40,
   "metadata": {},
   "outputs": [
    {
     "name": "stdout",
     "output_type": "stream",
     "text": [
      "['sample0.txt', 'sample1.txt', 'sample2.txt']\n"
     ]
    }
   ],
   "source": [
    "import lorem\n",
    "\n",
    "data_in = []\n",
    "\n",
    "# création des fichiers texte et de la liste de ces fichiers\n",
    "for i in range(3):\n",
    "    with open(f\"sample{i}.txt\", \"w\", encoding='utf-8') as f:\n",
    "        for j in range(2):\n",
    "            f.write(lorem.text())\n",
    "    data_in.append(f\"sample{i}.txt\")\n",
    "\n",
    "print(data_in)"
   ]
  },
  {
   "cell_type": "markdown",
   "metadata": {},
   "source": [
    "**Question 2.1**\n",
    "\n",
    "Ecrire une fonction `tokenise()` qui prend en entrée un texte, qui pré-traite ce texte et renvoie une liste des mots du texte. Tester sur un des fichiers texte créés."
   ]
  },
  {
   "cell_type": "code",
   "execution_count": 41,
   "metadata": {},
   "outputs": [
    {
     "name": "stdout",
     "output_type": "stream",
     "text": [
      "['quaerat', 'est', 'ipsum', 'non', 'tempora', 'numquam', 'quaerat', 'ipsum', 'dolor', 'adipisci', 'labore', 'numquam', 'dolor', 'dolor', 'sed', 'consectetur', 'aliquam', 'tempora', 'quisquam', 'porro', 'labore', 'labore', 'quisquam', 'quiquia', 'ipsum', 'voluptatem', 'modi', 'etincidunt', 'est', 'quiquia', 'tempora', 'neque', 'consectetur', 'quaerat', 'eius', 'labore', 'adipisci', 'quisquam', 'porro', 'velit', 'labore', 'ut', 'dolor', 'labore', 'sit', 'adipisci', 'amet', 'sed', 'aliquam', 'ut', 'neque', 'amet', 'modi', 'sed', 'quisquam', 'sed', 'est', 'eius', 'numquam', 'est', 'aliquam', 'amet', 'velit', 'quiquia', 'neque', 'dolore', 'adipisci', 'adipisci', 'labore', 'amet', 'etincidunt', 'modi', 'porro', 'numquam', 'tempora', 'dolorem', 'neque', 'non', 'neque', 'adipisci', 'modi', 'ut', 'quaerat', 'labore', 'est', 'quaerat', 'dolorem', 'aliquam', 'dolore', 'numquam', 'dolorem', 'aliquam', 'eius', 'quaerat', 'non', 'ipsum', 'amet', 'quaerat', 'tempora', 'eius', 'non', 'sit', 'ipsum', 'modi', 'quiquia', 'modi', 'adipisci', 'magnam', 'neque', 'dolorem', 'adipisci', 'labore', 'sed', 'ut', 'magnam', 'sit', 'tempora', 'velit', 'quisquam', 'voluptatem', 'dolor', 'est', 'amet', 'est', 'neque', 'quiquia', 'labore', 'velit', 'sit', 'sed', 'dolor', 'consectetur', 'amet', 'dolorem', 'non', 'modi', 'modi', 'amet', 'ipsum', 'quaerat', 'numquam', 'adipisci', 'sit', 'eius', 'dolor', 'aliquam', 'sit', 'ut', 'numquam', 'voluptatem', 'porro', 'tempora', 'tempora', 'voluptatem', 'quaerat', 'neque', 'dolor', 'aliquam', 'modi', 'ipsum', 'sed', 'quiquia', 'dolorem', 'dolor', 'porro', 'est', 'dolore', 'dolore', 'dolorem', 'dolorem', 'quisquam', 'non', 'est', 'etincidunt', 'labore', 'adipisci', 'velit', 'ut', 'sit', 'amet', 'non', 'dolore', 'ipsum', 'velit', 'ut', 'ipsum', 'tempora', 'etincidunt', 'consectetur', 'ipsum', 'sed', 'quaerat', 'neque', 'voluptatem', 'numquam', 'voluptatem', 'etincidunt', 'amet', 'labore', 'etincidunt', 'non', 'porro', 'etincidunt', 'labore', 'non', 'etincidunt', 'velit', 'sed', 'voluptatem', 'sed', 'eius', 'neque', 'labore', 'quaerat', 'porro', 'sit', 'neque', 'etincidunt', 'sed', 'eius', 'ipsum', 'quiquia', 'neque', 'sit', 'consectetur', 'magnam', 'numquam', 'aliquam', 'voluptatem', 'labore', 'magnam', 'dolor', 'quiquia', 'sit', 'dolore', 'eius', 'labore', 'dolore', 'numquam', 'modi', 'amet', 'consectetur', 'dolorem', 'labore', 'numquam', 'sit', 'velit', 'ipsum', 'tempora', 'voluptatem', 'magnam', 'ut', 'ut', 'est', 'quisquam', 'dolore', 'neque', 'aliquam', 'modi', 'aliquam', 'neque', 'labore', 'tempora', 'velit', 'quisquam', 'amet', 'ipsum', 'tempora', 'porro', 'est', 'amet', 'amet', 'modi', 'voluptatem', 'ipsum', 'non', 'labore', 'voluptatem', 'amet', 'dolor', 'amet', 'eius', 'voluptatem', 'temporanumquam', 'quaerat', 'dolor', 'non', 'etincidunt', 'tempora', 'labore', 'dolore', 'amet', 'numquam', 'adipisci', 'dolore', 'voluptatem', 'adipisci', 'quaerat', 'quaerat', 'dolore', 'dolore', 'adipisci', 'aliquam', 'adipisci', 'est', 'aliquam', 'labore', 'dolorem', 'consectetur', 'quaerat', 'dolore', 'numquam', 'sit', 'consectetur', 'amet', 'voluptatem', 'aliquam', 'etincidunt', 'labore', 'ipsum', 'dolore', 'porro', 'voluptatem', 'labore', 'tempora', 'magnam', 'porro', 'porro', 'est', 'quaerat', 'tempora', 'quisquam', 'sit', 'neque', 'consectetur', 'numquam', 'magnam', 'eius', 'velit', 'dolorem', 'sed', 'voluptatem', 'eius', 'adipisci', 'consectetur', 'quiquia', 'magnam', 'quisquam', 'quisquam', 'modi', 'ut', 'aliquam', 'amet', 'dolorem', 'dolore', 'velit', 'quaerat', 'quaerat', 'velit', 'numquam', 'dolor', 'amet', 'adipisci', 'neque', 'magnam', 'quaerat', 'numquam', 'eius', 'ipsum', 'etincidunt', 'voluptatem', 'labore', 'quiquia', 'magnam', 'sit', 'modi', 'est', 'aliquam', 'numquam', 'consectetur', 'adipisci', 'sed', 'tempora', 'quiquia', 'ut', 'ipsum', 'porro', 'quaerat', 'sit', 'modi', 'tempora', 'labore', 'aliquam', 'eius', 'dolor', 'neque', 'adipisci', 'etincidunt', 'aliquam', 'quisquam', 'aliquam', 'quaerat', 'neque', 'etincidunt', 'sit', 'est', 'quaerat', 'consectetur', 'voluptatem', 'numquam', 'aliquam', 'sed', 'dolorem', 'modi', 'voluptatem', 'tempora', 'neque', 'quaerat', 'consectetur', 'adipisci', 'dolore', 'magnam', 'adipisci', 'dolore', 'modi', 'sit', 'porro', 'quisquam', 'dolore', 'sit', 'ipsum', 'non', 'eius', 'modi', 'numquam', 'numquam', 'aliquam', 'labore', 'tempora', 'labore', 'modi', 'eius', 'labore', 'neque', 'quaerat', 'voluptatem', 'etincidunt', 'dolor', 'amet', 'ut', 'modi', 'labore', 'voluptatem', 'dolor', 'adipisci', 'amet', 'voluptatem', 'ut', 'dolore', 'modi', 'adipisci', 'amet', 'amet', 'voluptatem', 'amet', 'labore', 'porro']\n"
     ]
    }
   ],
   "source": [
    "def tokenise(text):\n",
    "    return text.lower().replace(\".\", \"\").split()\n",
    "\n",
    "with open(\"sample0.txt\", 'r', encoding='utf-8') as i_file:\n",
    "    content = i_file.read()\n",
    "\n",
    "res_tok = tokenise(content)\n",
    "print(res_tok)"
   ]
  },
  {
   "cell_type": "markdown",
   "metadata": {},
   "source": [
    "**Question 2.2**\n",
    "\n",
    "Ecrire une fonction `combine_words()` qui prend en entrée une liste de mot et renvoie le nombre d'occurences de chaque mot unique rencontré sous forme d'une liste de tuples `(word, nb_word)`. Tester sur le résultat précédent."
   ]
  },
  {
   "cell_type": "code",
   "execution_count": 48,
   "metadata": {},
   "outputs": [
    {
     "name": "stdout",
     "output_type": "stream",
     "text": [
      "[('quaerat', 24), ('est', 15), ('ipsum', 18), ('non', 12), ('tempora', 19), ('numquam', 20), ('dolor', 16), ('adipisci', 22), ('labore', 30), ('sed', 14), ('consectetur', 13), ('aliquam', 20), ('quisquam', 13), ('porro', 14), ('quiquia', 11), ('voluptatem', 23), ('modi', 21), ('etincidunt', 15), ('neque', 20), ('eius', 15), ('velit', 12), ('ut', 13), ('sit', 18), ('amet', 25), ('dolore', 19), ('dolorem', 13), ('magnam', 11), ('temporanumquam', 1)]\n"
     ]
    }
   ],
   "source": [
    "def combine_words(word_list):\n",
    "    counts = {}\n",
    "    for w in word_list :\n",
    "        counts[w] = 1 if w not in counts else counts[w] + 1\n",
    "        \n",
    "    return list(counts.items())\n",
    "\n",
    "print(combine_words(res_tok))"
   ]
  },
  {
   "cell_type": "markdown",
   "metadata": {},
   "source": [
    "**Question 2.3**\n",
    "\n",
    "Ecrire une fonction `tokenise_and_combine_words()` qui prend en entrée un nom de fichier texte et qui utilise les deux fonctions précédentes pour fournir en sortie une liste des tuples `(word, nb_word)` indiquant le nombre d'occurence de chaque mot rencontré dans le fichier. Tester sur une des fichiers texte."
   ]
  },
  {
   "cell_type": "code",
   "execution_count": 51,
   "metadata": {},
   "outputs": [
    {
     "data": {
      "text/plain": [
       "[('quaerat', 24), ('est', 15), ('ipsum', 18), ('non', 12), ('tempora', 19)]"
      ]
     },
     "execution_count": 51,
     "metadata": {},
     "output_type": "execute_result"
    }
   ],
   "source": [
    "def tokenise_and_combine_words(filename):\n",
    "    with open(filename, 'rt', encoding='utf-8') as ifile:\n",
    "        content = ifile.read()\n",
    "    \n",
    "    return combine_words(tokenise(content))\n",
    "\n",
    "tokenise_and_combine_words('sample0.txt')[:5]"
   ]
  },
  {
   "cell_type": "markdown",
   "metadata": {},
   "source": [
    "**Question 2.4**\n",
    "\n",
    "Ecrire une instruction utilisant la fonction `map` de python permettant d'obtenir une listes des liste de tuples `(word, nb_word)` obtenues sur chaque fichier texte du corpus (ou plus précisément un itérateur sur cette liste). Afficher le résultat."
   ]
  },
  {
   "cell_type": "code",
   "execution_count": 55,
   "metadata": {},
   "outputs": [],
   "source": [
    "map_res = map(tokenise_and_combine_words, data_in)\n",
    "# print(list(map_res))           # Attention : ligne à commenter si on veut pouvoir utiliser l'itérateur map par la suite\n",
    "                                 # (le fait de créer une liste avec l'itérateur épuise cet itérateur)"
   ]
  },
  {
   "cell_type": "markdown",
   "metadata": {},
   "source": [
    "**Question 2.5**\n",
    "\n",
    "Ecrire une fonction `group_counts()` qui prendra en entrée une liste des listes de tuples `(word, nb_word)` issues des différents processus Map (ou des itérateurs sur ces listes) et qui fournira en sortie une liste de tuples `(word, list_nb_word)` où `list_nb_word` est une liste des occurences du mot `word` dans les différents fichiers textes.\n",
    "*Exemple de sortie de la fonction : `[('numquam', [26, 17, 16]), ('quiquia', [21, 13, 26]), ('ipsum', [19, 14, 19]),... ]`*"
   ]
  },
  {
   "cell_type": "code",
   "execution_count": 56,
   "metadata": {},
   "outputs": [
    {
     "name": "stdout",
     "output_type": "stream",
     "text": [
      "[('quaerat', [24, 9, 14]), ('est', [15, 13, 16]), ('ipsum', [18, 16, 16]), ('non', [12, 12, 13]), ('tempora', [19, 16, 13]), ('numquam', [20, 15, 17]), ('dolor', [16, 10, 21]), ('adipisci', [22, 10, 16]), ('labore', [30, 18, 20]), ('sed', [14, 12, 13]), ('consectetur', [13, 15, 12]), ('aliquam', [20, 12, 14]), ('quisquam', [13, 12, 10]), ('porro', [14, 27, 13]), ('quiquia', [11, 21, 15]), ('voluptatem', [23, 12, 26]), ('modi', [21, 18, 19]), ('etincidunt', [15, 18, 12]), ('neque', [20, 16, 17]), ('eius', [15, 14, 23]), ('velit', [12, 14, 15]), ('ut', [13, 13, 14]), ('sit', [18, 3, 5]), ('amet', [25, 11, 19]), ('dolore', [19, 13, 12]), ('dolorem', [13, 10, 16]), ('magnam', [11, 16, 1]), ('temporanumquam', [1]), ('consecteturdolorem', [1]), ('nequeconsectetur', [1])]\n"
     ]
    }
   ],
   "source": [
    "def group_counts(list_of_lists):\n",
    "    counts = {}\n",
    "    for l in list_of_lists:\n",
    "        for w,n in l : \n",
    "            counts[w] = [n] if w not in counts else counts[w]+[n]\n",
    "    return list(counts.items())\n",
    "\n",
    "group_res =  group_counts(map_res)\n",
    "print(group_res)"
   ]
  },
  {
   "cell_type": "markdown",
   "metadata": {},
   "source": [
    "**Question 2.6**\n",
    "\n",
    "Ecrire une fonction `cumulate_counts()` qui prendra en entrée un tuple `(word, list_nb_word)` et qui utilisera la fonction `functools.reduce()` pour renvoyer un tuple `(word, tot_nb_word)` où `tot_nb_word` est le nombre d'occurences du mot `word` cumulées sur l'ensemble du corpus. Tester sur le premier élément de la liste obtenue à la question précédente."
   ]
  },
  {
   "cell_type": "code",
   "execution_count": 57,
   "metadata": {},
   "outputs": [
    {
     "name": "stdout",
     "output_type": "stream",
     "text": [
      "('quaerat', 47)\n"
     ]
    }
   ],
   "source": [
    "def cumulate_counts(word_listnbword):\n",
    "    word, list_nb_word = word_listnbword\n",
    "    return (word, reduce(add, list_nb_word))\n",
    "\n",
    "print(cumulate_counts(group_res[0]))"
   ]
  },
  {
   "cell_type": "markdown",
   "metadata": {},
   "source": [
    "**Question 2.7**\n",
    "\n",
    "Ecrire une instruction utilisant la fonction `map()` qui permet d'obtenir une liste de tuples `(word, tot_nb_word)` sur l'ensemble du corpus. Afficher le résultat obtenu par ordre décroissant du nombre d'occurences de mot."
   ]
  },
  {
   "cell_type": "code",
   "execution_count": 58,
   "metadata": {},
   "outputs": [
    {
     "name": "stdout",
     "output_type": "stream",
     "text": [
      "[('labore', 68), ('voluptatem', 61), ('modi', 58), ('amet', 55), ('porro', 54), ('neque', 53), ('numquam', 52), ('eius', 52), ('ipsum', 50), ('tempora', 48), ('adipisci', 48), ('quaerat', 47), ('dolor', 47), ('quiquia', 47), ('aliquam', 46), ('etincidunt', 45), ('est', 44), ('dolore', 44), ('velit', 41), ('consectetur', 40), ('ut', 40), ('sed', 39), ('dolorem', 39), ('non', 37), ('quisquam', 35), ('magnam', 28), ('sit', 26), ('temporanumquam', 1), ('consecteturdolorem', 1), ('nequeconsectetur', 1)]\n"
     ]
    }
   ],
   "source": [
    "res_reduce = map(cumulate_counts, group_res)\n",
    "print(sorted(res_reduce, key=lambda x : x[1], reverse=True))"
   ]
  }
 ],
 "metadata": {
  "kernelspec": {
   "display_name": "big-data",
   "language": "python",
   "name": "python3"
  },
  "language_info": {
   "codemirror_mode": {
    "name": "ipython",
    "version": 3
   },
   "file_extension": ".py",
   "mimetype": "text/x-python",
   "name": "python",
   "nbconvert_exporter": "python",
   "pygments_lexer": "ipython3",
   "version": "3.9.16"
  },
  "orig_nbformat": 4
 },
 "nbformat": 4,
 "nbformat_minor": 2
}
