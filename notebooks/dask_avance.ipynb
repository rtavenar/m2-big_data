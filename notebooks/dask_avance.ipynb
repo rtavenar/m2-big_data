{
 "cells": [
  {
   "cell_type": "markdown",
   "metadata": {},
   "source": [
    "# `dask` avancé\n",
    "\n",
    "Dans cette séance, vous découvrirez deux collections spécifiquement définies en `dask` : `dask.array` qui est un remplacement aux _numpy arrays_ et `dask.DataFrame` qui est la version `dask` des _dataframes_ pandas.\n",
    "\n",
    "## Partie 1 : `dask.array`\n",
    "\n",
    "La classe `dask.array` implémente un sous-ensemble des fonctionnalités des _numpy arrays_ à l'aide d'algorithmes par blocs, en découpant les tableaux trop grands en sous-tableaux.\n",
    "Cela permet d'effectuer des calculs sur des tableaux plus grand que la mémoire disponible en utilisant tous les coeurs disponibles.\n",
    "Ces calculs sont gérés, en interne, à l'aide de graphes de calcul Dask.\n",
    "\n",
    "**Question.** En combien de blocs est divisé le `dask.array` créé par le code ci-dessous ?"
   ]
  },
  {
   "cell_type": "code",
   "execution_count": null,
   "metadata": {},
   "outputs": [],
   "source": [
    "import numpy as np\n",
    "import dask.array as da\n",
    "\n",
    "a_da = da.ones(10, chunks=5)"
   ]
  },
  {
   "cell_type": "markdown",
   "metadata": {},
   "source": [
    "Ainsi, le code ci-dessous :"
   ]
  },
  {
   "cell_type": "code",
   "execution_count": null,
   "metadata": {},
   "outputs": [],
   "source": [
    "a_da.sum().compute()"
   ]
  },
  {
   "cell_type": "markdown",
   "metadata": {},
   "source": [
    "est équivalent, si l'on se restreignait à utiliser des _numpy arrays_, à :"
   ]
  },
  {
   "cell_type": "code",
   "execution_count": null,
   "metadata": {},
   "outputs": [],
   "source": [
    "a_np = np.ones(10)\n",
    "a_np[:5].sum() + a_np[5:].sum()"
   ]
  },
  {
   "cell_type": "markdown",
   "metadata": {},
   "source": [
    "(sauf que le code numpy implique de pouvoir stocker en mémoire le tableau en question).\n",
    "\n",
    "**Question.** Quelle est la mémoire vive disponible sur votre machine ? Sachant qu'un entier est codé sur 32 bits, soit 4 octets, tentez d'initialiser un vecteur de 1 en numpy tel qu'il ne puisse pas tenir dans la mémoire de votre machine (faites par exemple en sorte que sa taille soit le double de votre RAM). Votre notebook plante-t-il ? Pourquoi ?"
   ]
  },
  {
   "cell_type": "code",
   "execution_count": null,
   "metadata": {},
   "outputs": [],
   "source": [
    "%%time\n"
   ]
  },
  {
   "cell_type": "markdown",
   "metadata": {},
   "source": [
    "**Question.** Faites la même chose en `dask` et comparez les temps d'exécution. Qu'est-ce qui justifie cette différence à votre avis ?"
   ]
  },
  {
   "cell_type": "code",
   "execution_count": null,
   "metadata": {},
   "outputs": [],
   "source": [
    "%%time\n"
   ]
  },
  {
   "cell_type": "markdown",
   "metadata": {},
   "source": [
    "**Question.** Calculez maintenant, en numpy d'une part et en dask d'autre part, la somme de ces vecteurs, et comparez les temps de calcul."
   ]
  },
  {
   "cell_type": "code",
   "execution_count": null,
   "metadata": {},
   "outputs": [],
   "source": [
    "%%time\n"
   ]
  },
  {
   "cell_type": "code",
   "execution_count": null,
   "metadata": {},
   "outputs": [],
   "source": [
    "%%time\n"
   ]
  },
  {
   "cell_type": "markdown",
   "metadata": {},
   "source": [
    "**Question.** Visualisez le graphe Dask de calcul de cette somme. Quelle semble être la stratégie utilisée pour calculer cette somme ?"
   ]
  },
  {
   "cell_type": "code",
   "execution_count": null,
   "metadata": {},
   "outputs": [],
   "source": []
  },
  {
   "cell_type": "markdown",
   "metadata": {},
   "source": [
    "La plupart des fonctions que vous connaissez en numpy sont également disponibles en Dask.\n",
    "\n",
    "**Question.** Définissez une matrice `X` (au format _dask array_) de taille 30 000 x 30 000 d'éléments tirés selon une loi normale centrée réduite (vous utiliserez [`da.random.normal`](https://docs.dask.org/en/stable/generated/dask.array.random.normal.html)). Calculez la moyenne selon l'axe `axis=1` de la somme de `X` et de sa transposée."
   ]
  },
  {
   "cell_type": "code",
   "execution_count": null,
   "metadata": {},
   "outputs": [],
   "source": []
  },
  {
   "cell_type": "markdown",
   "metadata": {},
   "source": [
    "### Influence de la taille des blocs\n",
    "\n",
    "Il est possible de connaître la taille des blocs utilisés à l'aide de :"
   ]
  },
  {
   "cell_type": "code",
   "execution_count": null,
   "metadata": {},
   "outputs": [],
   "source": [
    "X.chunksize"
   ]
  },
  {
   "cell_type": "markdown",
   "metadata": {},
   "source": [
    "Ici, on a, sur chaque dimension, des blocs de taille 4096 (c'est-à-dire qu'ils sont constitués de sous-matrices de taille 4096x4096 sauf pour la dernière ligne/colonne qui peut recevoir des blocs plus petits).\n",
    "\n",
    "On peut demander de changer cette taille avec :"
   ]
  },
  {
   "cell_type": "code",
   "execution_count": null,
   "metadata": {},
   "outputs": [],
   "source": [
    "X = X.rechunk({0: 8192, 1: 8192})"
   ]
  },
  {
   "cell_type": "markdown",
   "metadata": {},
   "source": [
    "**Question.** Évaluer l'influence de la taille des blocs sur l'efficacité du calcul ci-dessus."
   ]
  },
  {
   "cell_type": "code",
   "execution_count": null,
   "metadata": {},
   "outputs": [],
   "source": [
    "X = da.random.normal(0., 1., size=(30000, 30000))\n",
    "\n"
   ]
  },
  {
   "cell_type": "code",
   "execution_count": null,
   "metadata": {},
   "outputs": [],
   "source": [
    "%%time\n",
    "\n"
   ]
  },
  {
   "cell_type": "markdown",
   "metadata": {},
   "source": [
    "## Partie 2 : `dask.DataFrame`\n",
    "\n",
    "Dans cette partie, vous allez manipuler des Data Frames `dask` pour mieux comprendre ce qui les différencie des Data Frames `pandas`.\n",
    "Pour commencer, vous allez travailler sur des données issues du fichier `data/nycflights.tar.gz`.\n",
    "Décompressez cette archive dans votre sous-dossier `data/` de manière à obtenir 10 fichiers CSV dans le dossier `data/nycflights`.\n",
    "\n",
    "**Question.** Que fait le code suivant ?"
   ]
  },
  {
   "cell_type": "code",
   "execution_count": null,
   "metadata": {},
   "outputs": [],
   "source": [
    "import pandas as pd\n",
    "import os\n",
    "\n",
    "filenames = [os.path.join(\"data\", \"nycflights\", fname) \n",
    "             for fname in os.listdir(os.path.join(\"data\", \"nycflights\")) \n",
    "             if fname.endswith(\".csv\")]\n",
    "filenames"
   ]
  },
  {
   "cell_type": "code",
   "execution_count": null,
   "metadata": {},
   "outputs": [],
   "source": [
    "%%time\n",
    "\n",
    "sums = []\n",
    "counts = []\n",
    "for fn in filenames:\n",
    "    # Read in file\n",
    "    df = pd.read_csv(fn, \n",
    "                     parse_dates={\"Date\": [0, 1, 2]},\n",
    "                     dtype={\"TailNum\": str, \"CRSElapsedTime\": float, \"Cancelled\": bool})\n",
    "    \n",
    "    # Groupby origin airport\n",
    "    by_origin = df.groupby('Origin')\n",
    "    \n",
    "    # Sum of all departure delays by origin\n",
    "    total = by_origin.DepDelay.sum()\n",
    "    \n",
    "    # Number of flights by origin\n",
    "    count = by_origin.DepDelay.count()\n",
    "    \n",
    "    # Save the intermediates\n",
    "    sums.append(total)\n",
    "    counts.append(count)\n",
    "\n",
    "# Combine intermediates to get total mean-delay-per-origin\n",
    "total_delays = sum(sums)\n",
    "n_flights = sum(counts)\n",
    "mean = total_delays / n_flights\n",
    "mean"
   ]
  },
  {
   "cell_type": "markdown",
   "metadata": {},
   "source": [
    "**Question.** Parallélisez ce code avec `dask.delayed`. Quel gain, en temps de calcul, obtenez-vous ?"
   ]
  },
  {
   "cell_type": "code",
   "execution_count": null,
   "metadata": {},
   "outputs": [],
   "source": [
    "%%time"
   ]
  },
  {
   "cell_type": "markdown",
   "metadata": {},
   "source": [
    "**Question.** Modifiez ce code pour utiliser un `dask.DataFrame`."
   ]
  },
  {
   "cell_type": "code",
   "execution_count": null,
   "metadata": {},
   "outputs": [],
   "source": [
    "import dask.dataframe as dd"
   ]
  },
  {
   "cell_type": "code",
   "execution_count": null,
   "metadata": {},
   "outputs": [],
   "source": [
    "%%time"
   ]
  },
  {
   "cell_type": "markdown",
   "metadata": {},
   "source": [
    "### Exercices\n",
    "\n",
    "**Question.** Combien y a-t-il de lignes dans ce jeu de données ?"
   ]
  },
  {
   "cell_type": "code",
   "execution_count": null,
   "metadata": {},
   "outputs": [],
   "source": []
  },
  {
   "cell_type": "markdown",
   "metadata": {},
   "source": [
    "**Question.** Au total, combien y a-t-il de vols non annulés (attribut `Cancelled`) ?"
   ]
  },
  {
   "cell_type": "code",
   "execution_count": null,
   "metadata": {},
   "outputs": [],
   "source": []
  },
  {
   "cell_type": "markdown",
   "metadata": {},
   "source": [
    "**Question.** Au total, combien y a-t-il de vols non annulés (attribut `Cancelled`) au départ de chaque aéroport ?"
   ]
  },
  {
   "cell_type": "code",
   "execution_count": null,
   "metadata": {},
   "outputs": [],
   "source": []
  },
  {
   "cell_type": "markdown",
   "metadata": {},
   "source": [
    "**Question.** Quel est le retard moyen (attribut `DepDelay`) au départ de chaque aéroport ?"
   ]
  },
  {
   "cell_type": "code",
   "execution_count": null,
   "metadata": {},
   "outputs": [],
   "source": []
  },
  {
   "cell_type": "markdown",
   "metadata": {},
   "source": [
    "**Question.** Supposons que la colonne `Distance` soit erronnée et que vous deviez ajouter `1` à chaque valeur. Comment feriez-vous ?"
   ]
  },
  {
   "cell_type": "code",
   "execution_count": null,
   "metadata": {},
   "outputs": [],
   "source": []
  },
  {
   "cell_type": "code",
   "execution_count": null,
   "metadata": {},
   "outputs": [],
   "source": []
  },
  {
   "cell_type": "markdown",
   "metadata": {},
   "source": [
    "**Question.** Quelle est la moyenne et l'écart-type du retard pour les vols non annulés en partance de l'aéroport `\"JFK\"` ?"
   ]
  },
  {
   "cell_type": "code",
   "execution_count": null,
   "metadata": {},
   "outputs": [],
   "source": []
  },
  {
   "cell_type": "markdown",
   "metadata": {},
   "source": [
    "Remarquez que pour ces deux calculs, on a besoin de se reposer sur le Data Frame des vols non annulés en partance de `\"JFK\"`. Si l'on a plus de calculs de ce type à effecter, il pourrait être intéressant de demander à Dask de charger effectivement ce sous-ensemble de données en mémoire.\n",
    "\n",
    "**Question.** Étudier la documentation de la fonctionnalité [`persist()`](https://docs.dask.org/en/stable/best-practices.html#persist-when-you-can) et utilisez cette façon de faire."
   ]
  },
  {
   "cell_type": "code",
   "execution_count": null,
   "metadata": {},
   "outputs": [],
   "source": []
  }
 ],
 "metadata": {
  "kernelspec": {
   "display_name": "py3.10_ml",
   "language": "python",
   "name": "python3"
  },
  "language_info": {
   "codemirror_mode": {
    "name": "ipython",
    "version": 3
   },
   "file_extension": ".py",
   "mimetype": "text/x-python",
   "name": "python",
   "nbconvert_exporter": "python",
   "pygments_lexer": "ipython3",
   "version": "3.10.12"
  },
  "orig_nbformat": 4
 },
 "nbformat": 4,
 "nbformat_minor": 2
}
