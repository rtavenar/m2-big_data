{
 "cells": [
  {
   "cell_type": "markdown",
   "metadata": {},
   "source": [
    "# Introduction\n",
    "\n",
    "Dans ce notebook qui accompagne le cours d'introduction, vous verrez quelques illustrations directes des concepts vu en cours (codage de l'information, mémoire, _threads_, processeurs et coeurs, ...).\n",
    "\n",
    "**Attention, certaines manipulations de ce notebook sont susceptibles de faire vaciller votre machine, il est donc recommandé d'enregistrer vos documents ouverts et de fermer le maximum d'applications qui pourraient tourner sur votre machine.**\n",
    "\n",
    "## Partie 1. Codage de l'information\n",
    "\n",
    "**Question.** En Python, quel est le résultat de l'opération `1.2 - 1.0` ? Comment cela s'explique-t-il ?"
   ]
  },
  {
   "cell_type": "code",
   "execution_count": null,
   "metadata": {},
   "outputs": [],
   "source": []
  },
  {
   "cell_type": "markdown",
   "metadata": {},
   "source": [
    "**Question.** Quelle place occuperont en mémoire les données associées au tenseur Python suivant ? Vérifiez à l'aide de `x.nbytes`."
   ]
  },
  {
   "cell_type": "code",
   "execution_count": null,
   "metadata": {},
   "outputs": [],
   "source": [
    "import numpy as np\n",
    "x = np.ones((1000, 1000), dtype=np.float32)"
   ]
  },
  {
   "cell_type": "markdown",
   "metadata": {},
   "source": [
    "**Question.** Même question avec le tenseur suivant :"
   ]
  },
  {
   "cell_type": "code",
   "execution_count": null,
   "metadata": {},
   "outputs": [],
   "source": [
    "np.ones((1000, 1000), dtype=np.float64)"
   ]
  },
  {
   "cell_type": "markdown",
   "metadata": {},
   "source": [
    "## Partie 2. La mémoire\n",
    "\n",
    "**Question.** De quelle quantité de mémoire (RAM) dispose votre ordinateur ?"
   ]
  },
  {
   "cell_type": "markdown",
   "metadata": {},
   "source": [
    "_VOTRE REPONSE ICI_"
   ]
  },
  {
   "cell_type": "markdown",
   "metadata": {},
   "source": [
    "**Question.** À l'aide de la fonction `np.arange`, créez un tenseur `numpy` qui soit d'une taille telle qu'il nécessite un espace mémoire environ égal à 2 fois la RAM disponible sur votre machine. Qu'observez-vous ? Pourquoi ?"
   ]
  },
  {
   "cell_type": "code",
   "execution_count": null,
   "metadata": {},
   "outputs": [],
   "source": []
  },
  {
   "cell_type": "markdown",
   "metadata": {},
   "source": [
    "**Question.** Observez l'espace mémoire occupé par votre programme Python (Gestionnaire des tâches sous Windows, Moniteur d'activité sous MacOS, `top -o MEM` dans un terminal sous Linux). Cela correspond-il aux valeurs prévues ?"
   ]
  },
  {
   "cell_type": "markdown",
   "metadata": {},
   "source": [
    "_VOTRE REPONSE ICI_"
   ]
  },
  {
   "cell_type": "markdown",
   "metadata": {},
   "source": [
    "**Question.** Libérez la mémoire occupée par la variable créée à la cellule précédente. Vérifiez que la mémoire a bien été libérée et que votre programme n'occupe plus maintenant qu'un espace mémoire limité."
   ]
  },
  {
   "cell_type": "code",
   "execution_count": null,
   "metadata": {},
   "outputs": [],
   "source": []
  },
  {
   "cell_type": "markdown",
   "metadata": {},
   "source": [
    "**Question.** Répétez les opérations précédentes avec cette fois un tenseur qui n'occupe que la moitié (environ) de votre RAM. Quelle différence observez-vous ?"
   ]
  },
  {
   "cell_type": "code",
   "execution_count": null,
   "metadata": {},
   "outputs": [],
   "source": []
  },
  {
   "cell_type": "markdown",
   "metadata": {},
   "source": [
    "## Partie 3. Calcul multi-coeurs, Process et Threads\n",
    "\n",
    "**Question.** À l'aide de la commande ci-dessous, visualisez combien de CPU sont \"visibles\" sur votre machine pour un programme Python. Cela correspond-il au nombre de coeurs affiché de votre machine ?"
   ]
  },
  {
   "cell_type": "code",
   "execution_count": null,
   "metadata": {},
   "outputs": [],
   "source": [
    "import os\n",
    "os.cpu_count()"
   ]
  },
  {
   "cell_type": "markdown",
   "metadata": {},
   "source": [
    "**Question.** Dans le code ci-dessous, le `with` permet de créer un thread par élément de la liste pour exécuter les calculs induits par `add_one` de manière indépendante sur chaque élément. Pourquoi utilise-t-on un `ThreadPoolExecutor` plutôt qu'un `ProcessPoolExecutor` (qui existe aussi) ?"
   ]
  },
  {
   "cell_type": "code",
   "execution_count": null,
   "metadata": {},
   "outputs": [],
   "source": [
    "from concurrent.futures import ThreadPoolExecutor\n",
    "\n",
    "def add_one(x):\n",
    "    return x + 1\n",
    "\n",
    "ma_liste = [1, 5, 7]\n",
    "\n",
    "with ThreadPoolExecutor() as executor:\n",
    "    results = executor.map(add_one, ma_liste)\n",
    "\n",
    "for r in results:\n",
    "    print(r)\n"
   ]
  },
  {
   "cell_type": "markdown",
   "metadata": {},
   "source": [
    "**Question.** Regardez le code ci-dessous. Que fait la fonction `add_one_and_freeze` ?"
   ]
  },
  {
   "cell_type": "code",
   "execution_count": null,
   "metadata": {},
   "outputs": [],
   "source": [
    "import time\n",
    "\n",
    "def freeze(t) :\n",
    "    st = time.time()\n",
    "    et = st\n",
    "    while et - st < t:\n",
    "        et = time.time()\n",
    "\n",
    "def add_one_and_freeze(x):\n",
    "    freeze(1)\n",
    "    return x + 1"
   ]
  },
  {
   "cell_type": "markdown",
   "metadata": {},
   "source": [
    "**Question.** Sur votre machine, combien de temps, au minimum, prendra l'exécution du code ci-dessous ?"
   ]
  },
  {
   "cell_type": "code",
   "execution_count": null,
   "metadata": {},
   "outputs": [],
   "source": [
    "%%time\n",
    "\n",
    "n = 50\n",
    "ma_liste = list(range(n))\n",
    "\n",
    "with ThreadPoolExecutor(max_workers=2) as executor:\n",
    "    results = executor.map(add_one_and_freeze, ma_liste)\n",
    "\n",
    "for r in results:\n",
    "    print(r)"
   ]
  },
  {
   "cell_type": "markdown",
   "metadata": {},
   "source": [
    "**Question.** Est-il pertinent d'augmenter `max_workers` qui définit le nombre de threads qui seront créés pour traiter toutes les opérations à effectuer ? Jusqu'à quelle valeur ? Testez."
   ]
  },
  {
   "cell_type": "code",
   "execution_count": null,
   "metadata": {},
   "outputs": [],
   "source": []
  }
 ],
 "metadata": {
  "kernelspec": {
   "display_name": "py3.10_ml",
   "language": "python",
   "name": "python3"
  },
  "language_info": {
   "codemirror_mode": {
    "name": "ipython",
    "version": 3
   },
   "file_extension": ".py",
   "mimetype": "text/x-python",
   "name": "python",
   "nbconvert_exporter": "python",
   "pygments_lexer": "ipython3",
   "version": "3.10.12"
  },
  "orig_nbformat": 4
 },
 "nbformat": 4,
 "nbformat_minor": 2
}
