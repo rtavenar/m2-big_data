{
 "cells": [
  {
   "cell_type": "markdown",
   "metadata": {},
   "source": [
    "# Traitements parallèles et MapReduce avec `dask`\n",
    "\n",
    "Dans cette séance vous allez utiliser le module `dask` pour effectuer des traitements parallèles dans le cadre du modèle MapReduce.\n",
    "\n",
    "## Exercice #1 : fonction de type Map avec `dask`\n",
    "\n",
    "Le module `dask` ne fournit pas de fonction de type `map` utilisable directement sur les structures de données itérables de base de Python (le module fournit cependant ce type de fonction pour des types de données propres au module tel que les *Dask Bags* ou les *Dask Dataframes*).\n",
    "\n",
    "Le but de l'exercice est de créer et tester une fonction `dask_map()` qui soit interchangeable avec la fonction `map()` de Python mais qui permette d'avoir une parallélisation des calculs. \n",
    "\n",
    "*Remarque : pour mettre en évidence l'avantage des calculs parallèles, pour cet exercice certaines fonction de traitement sont rendues volontairement lentes.*\n",
    "\n",
    "**Question 1.1**\n",
    "\n",
    "Proposer une fonction `dask_map()` qui, dans son utilisation la plus simple, prend en premier argument le nom d'une fonction, en second argument un itérable et qui applique la fonction à chaque élément de l'itérable. La fonction renverra une liste de résultats, similaire à l'itérateur retourné par la fonction `map()`.\n",
    "\n",
    "Les calculs indépendants devront se faire en parallèle grâce aux fonctionnalités du module `dask`."
   ]
  },
  {
   "cell_type": "code",
   "execution_count": 86,
   "metadata": {},
   "outputs": [],
   "source": [
    "import dask\n",
    "\n",
    "def dask_map(f, iterable):\n",
    "    f_delayed = dask.delayed(f)\n",
    "    return dask.delayed([f_delayed(x) for x in iterable]).compute()\n"
   ]
  },
  {
   "cell_type": "markdown",
   "metadata": {},
   "source": [
    "**Question 1.2**\n",
    "\n",
    "Tester votre fonction sur le calcul \"lent\" de la norme d'un vecteur en utilisant la fonction `carre_slow()` fournie ci-dessous. Afficher les temps de calcul avec `%%time` et comparer avec l'utilisation de la fonction `map()` (en utilisant également `carre_slow()`)."
   ]
  },
  {
   "cell_type": "code",
   "execution_count": 99,
   "metadata": {},
   "outputs": [],
   "source": [
    "import time\n",
    "from math import sqrt\n",
    "from operator import add\n",
    "from functools import reduce\n",
    "\n",
    "def freeze(t):\n",
    "    st = time.time()\n",
    "    et = st\n",
    "    while et - st < t:\n",
    "        et = time.time()\n",
    "\n",
    "def carre_slow(x1):\n",
    "    freeze(1)\n",
    "    return x1**2\n",
    "\n",
    "vecteur1 = [1, 2, 3, 4]"
   ]
  },
  {
   "cell_type": "code",
   "execution_count": 90,
   "metadata": {},
   "outputs": [
    {
     "name": "stdout",
     "output_type": "stream",
     "text": [
      "5.477225575051661\n",
      "CPU times: total: 1.17 s\n",
      "Wall time: 1.18 s\n"
     ]
    }
   ],
   "source": [
    "%%time\n",
    "# code pour tester avec dask_map()\n",
    "norm1_dask = sqrt(reduce(add, dask_map(carre_slow, vecteur1)))\n",
    "print(norm1_dask)"
   ]
  },
  {
   "cell_type": "code",
   "execution_count": 91,
   "metadata": {},
   "outputs": [
    {
     "name": "stdout",
     "output_type": "stream",
     "text": [
      "5.477225575051661\n",
      "CPU times: total: 3.98 s\n",
      "Wall time: 4 s\n"
     ]
    }
   ],
   "source": [
    "%%time\n",
    "# code pour tester avec map()\n",
    "res_map = sqrt(reduce(add, map(carre_slow, vecteur1)))\n",
    "print(res_map)\n"
   ]
  },
  {
   "cell_type": "markdown",
   "metadata": {},
   "source": [
    "**Question 1.3** \n",
    "\n",
    "Modifier la fonction `dask_map()` pour pouvoir également gérer le cas ou l'on fournit une liste d'itérables séparés par des virgules (en nombre quelconque) après le nom de la fonction (la fonction doit alors avoir plusieurs arguments d'entrée). Dans ce cas, la fonction fournie est appliquée à chaque groupe d'éléments pris position par position dans les différents itérables, comme le fait la fonction `map()`.\n",
    "\n",
    "*Indication 1 : on rappelle que l'on peut récupérer tout ou partie des arguments passés à une fonction sous forme d'un tuple en utilisant l'opérateur \"splat\" (ou \"étoile\" : `*` ) dans la définition de la fonction.*\n",
    "\n",
    "*Tester le code ci-dessous :*"
   ]
  },
  {
   "cell_type": "code",
   "execution_count": 92,
   "metadata": {},
   "outputs": [
    {
     "name": "stdout",
     "output_type": "stream",
     "text": [
      "x=1\n",
      "args=([2, 3], (4, 5))\n"
     ]
    }
   ],
   "source": [
    "def ma_fonction(x, *args):\n",
    "    print(f\"x={x}\")\n",
    "    print(f\"args={args}\")\n",
    "\n",
    "ma_fonction(1, [2,3], (4,5))"
   ]
  },
  {
   "cell_type": "markdown",
   "metadata": {},
   "source": [
    "*Indication 2 : d'autre part, on rappelle que l'on peut décompacter (\"unpack\") les éléments d'un itérable en utilisant le même opérateur `*` devant le nom de l'itérable. Cela permet notamment de fournir les éléments de l'itérable comme arguments individuels d'une fonction lors de son appel.*\n",
    "\n",
    "*Tester le code ci-dessous :*"
   ]
  },
  {
   "cell_type": "code",
   "execution_count": 93,
   "metadata": {},
   "outputs": [
    {
     "name": "stdout",
     "output_type": "stream",
     "text": [
      "x=1\n",
      "ma_liste=[2, 3]\n",
      "mon_tuple=(4, 5)\n"
     ]
    }
   ],
   "source": [
    "def ma_fonction2(x, ma_liste, mon_tuple):\n",
    "    print(f\"x={x}\")\n",
    "    print(f\"ma_liste={ma_liste}\")\n",
    "    print(f\"mon_tuple={mon_tuple}\")\n",
    "\n",
    "param = [1, [2,3], (4,5)]\n",
    "\n",
    "ma_fonction2(*param)\n"
   ]
  },
  {
   "cell_type": "code",
   "execution_count": 95,
   "metadata": {},
   "outputs": [],
   "source": [
    "# cellule pour le code de votre nouvelle fonction dask_map()\n",
    "def dask_map(*args):\n",
    "    f, iterables = args[0], args[1:]\n",
    "    f_delayed = dask.delayed(f)\n",
    "    return dask.delayed([f_delayed(*x) for x in zip(*iterables)]).compute()"
   ]
  },
  {
   "cell_type": "markdown",
   "metadata": {},
   "source": [
    "**Question 1.4**\n",
    "\n",
    "Tester cette nouvelle fonction `dask_map()` sur le calcul \"lent\" du produit scalaire de deux vecteurs en utilisant la fonction `produit_slow()` fournie ci-dessous. Afficher les temps de calcul avec `%%time` et comparer avec l'utilisation de la fonction `map()` (en utilisant également `produit_slow()`)."
   ]
  },
  {
   "cell_type": "code",
   "execution_count": 100,
   "metadata": {},
   "outputs": [],
   "source": [
    "def produit_slow(x,y):\n",
    "    freeze(1)\n",
    "    return x*y\n",
    "\n",
    "vecteur2 = [4, 3, 2, 1]"
   ]
  },
  {
   "cell_type": "code",
   "execution_count": 101,
   "metadata": {},
   "outputs": [
    {
     "name": "stdout",
     "output_type": "stream",
     "text": [
      "20\n",
      "CPU times: total: 1.06 s\n",
      "Wall time: 1.06 s\n"
     ]
    }
   ],
   "source": [
    "%%time\n",
    "# code pour tester avec dask_map()\n",
    "prod_dask = reduce(add, dask_map(produit_slow, vecteur1, vecteur2))\n",
    "print(prod_dask)"
   ]
  },
  {
   "cell_type": "code",
   "execution_count": 102,
   "metadata": {},
   "outputs": [
    {
     "name": "stdout",
     "output_type": "stream",
     "text": [
      "20\n",
      "CPU times: total: 4.02 s\n",
      "Wall time: 4.01 s\n"
     ]
    }
   ],
   "source": [
    "%%time\n",
    "# code pour tester avec map()\n",
    "prod_map = reduce(add, map(produit_slow, vecteur1, vecteur2))\n",
    "print(prod_map)"
   ]
  },
  {
   "cell_type": "markdown",
   "metadata": {},
   "source": [
    "**Question 1.5**\n",
    "\n",
    "Ecrire une fonction `sim_cos_dask_map()` qui calcule et renvoie la similarité cosinus entre deux vecteurs en utilisant des processus MapReduce impliquant les fonctions `dask_map()`, `reduce()`, `carre_slow()`et `produit_slow()`."
   ]
  },
  {
   "cell_type": "code",
   "execution_count": 103,
   "metadata": {},
   "outputs": [],
   "source": [
    "def sim_cos_dask_map(v1, v2):\n",
    " \n",
    "    norm1 = reduce(add, dask_map(carre_slow,v1))\n",
    "    norm2 = reduce(add, dask_map(carre_slow,v2))\n",
    "    prod = reduce(add, dask_map(produit_slow, v1, v2))\n",
    "\n",
    "    return prod/sqrt(norm1*norm2)"
   ]
  },
  {
   "cell_type": "markdown",
   "metadata": {},
   "source": [
    "**Question 1.6**\n",
    "\n",
    "Tester cette fonction `sim_cos_dask_map()` sur les vecteurs `vecteur1` et `vecteur2` en affichant les temps de calcul avec `%%time` et comparer aux temps de calcul obtenus avec la fonction `sim_cos_map()` fournie ci-dessous qui utilise la fonction classique `map()`."
   ]
  },
  {
   "cell_type": "code",
   "execution_count": 104,
   "metadata": {},
   "outputs": [],
   "source": [
    "def sim_cos_map(v1, v2):\n",
    "    norm1 = reduce(add, map(carre_slow,v1))\n",
    "    norm2 = reduce(add, map(carre_slow,v2))\n",
    "    prod = reduce(add, map(produit_slow, v1, v2))\n",
    "\n",
    "    return prod/sqrt(norm1*norm2)"
   ]
  },
  {
   "cell_type": "code",
   "execution_count": 105,
   "metadata": {},
   "outputs": [
    {
     "name": "stdout",
     "output_type": "stream",
     "text": [
      "CPU times: total: 3.33 s\n",
      "Wall time: 3.34 s\n"
     ]
    },
    {
     "data": {
      "text/plain": [
       "0.6666666666666666"
      ]
     },
     "execution_count": 105,
     "metadata": {},
     "output_type": "execute_result"
    }
   ],
   "source": [
    "%%time\n",
    "# code pour le test de sim_cos_dask_map()\n",
    "sim_cos_dask_map(vecteur1,vecteur2)"
   ]
  },
  {
   "cell_type": "code",
   "execution_count": 106,
   "metadata": {},
   "outputs": [
    {
     "name": "stdout",
     "output_type": "stream",
     "text": [
      "CPU times: total: 12 s\n",
      "Wall time: 12 s\n"
     ]
    },
    {
     "data": {
      "text/plain": [
       "0.6666666666666666"
      ]
     },
     "execution_count": 106,
     "metadata": {},
     "output_type": "execute_result"
    }
   ],
   "source": [
    "%%time\n",
    "# code pour le test de sim_cos_dask_map()\n",
    "sim_cos_map(vecteur1,vecteur2)"
   ]
  },
  {
   "cell_type": "markdown",
   "metadata": {},
   "source": [
    "**Question 1.7**\n",
    "\n",
    "Expliquez pourquoi l'implémentation du calcul de la similarité cosinus proposée dans `sim_cos_dask_map()` n'est pas optimale vis-à-vis des fonctionnalités de parallélisation et d'ordonnacement des calculs de  `dask`.\n",
    "\n",
    "Proposer une nouvelle implémentation de `dask_map()` (à renommer) et de `sim_cos_dask_map()` (à renommer également) qui soient optimales. Tester et comparer les temps de calcul des deux implémentations."
   ]
  },
  {
   "cell_type": "code",
   "execution_count": 107,
   "metadata": {},
   "outputs": [],
   "source": [
    "def dask_map_delayed(*args):\n",
    "    f, iterables = args[0], args[1:]\n",
    "    f_delayed = dask.delayed(f)\n",
    "    return dask.delayed([f_delayed(*x) for x in zip(*iterables)])\n",
    "\n",
    "\n",
    "def sim_cos_dask_delayed(v1, v2):\n",
    "    reduce_delayed = dask.delayed(reduce)\n",
    "    sqrt_delayed = dask.delayed(sqrt)\n",
    "    norm1_delayed = reduce_delayed(add, dask_map_delayed(carre_slow,v1))\n",
    "    norm2_delayed = reduce_delayed(add, dask_map_delayed(carre_slow,v2))\n",
    "    prod_delayed = reduce_delayed(add, dask_map_delayed(produit_slow, v1, v2))\n",
    "    res_delayed = prod_delayed/sqrt_delayed(norm1_delayed*norm2_delayed)\n",
    "    return res_delayed.compute()\n"
   ]
  },
  {
   "cell_type": "code",
   "execution_count": 108,
   "metadata": {},
   "outputs": [
    {
     "name": "stdout",
     "output_type": "stream",
     "text": [
      "CPU times: total: 1.92 s\n",
      "Wall time: 1.92 s\n"
     ]
    },
    {
     "data": {
      "text/plain": [
       "0.6666666666666666"
      ]
     },
     "execution_count": 108,
     "metadata": {},
     "output_type": "execute_result"
    }
   ],
   "source": [
    "%%time\n",
    "\n",
    "sim_cos_dask_delayed(vecteur1,vecteur2)"
   ]
  },
  {
   "cell_type": "markdown",
   "metadata": {},
   "source": [
    "## Exercice #2 : wordcount en MapReduce parallélisé\n",
    "\n",
    "Reprendre l'exercice du wordcount qui utilise la fonction générique `map_reduce()` mais cete fois-ci en parallélisant les calculs des étapes de type Map grâce à la fonction `dask_map()` écrite précédemment. On ajoutera les instructions nécessaires pour ralentir artificiellement les fonctions impliquées dans les étapes Map (par exemple : 2 secondes d'attente pour le `mapper_word()` et 0.5 seconde d'attente pour le `reducer_word()`). Utiliser les fichiers d'entrée `sample0.txt`, `sample1.txt` et `sample2.txt` générés lors de l'exercice précédent sur wordcount.\n",
    "\n",
    "Pour pouvoir facilement comparer le gain de temps apporté par la parallélisation des calculs, on pourra ajouter à la fonction `map_reduce()` un paramètre booléen `parallelise` (valeur par défaut à `False`) permettant de basculer entre l'utilisation de la fonction `map()` classique (i.e. sans parallélisation) et de la fonction `dask_map()` parallélisant les cacluls.\n",
    "\n",
    "Les codes de l'exercie de base du wordcount en MapReduce vous sont fournis ci-dessous (à modifier pour l'exercice)."
   ]
  },
  {
   "cell_type": "code",
   "execution_count": null,
   "metadata": {},
   "outputs": [],
   "source": [
    "from itertools import groupby\n",
    "\n",
    "def partitionner(list_of_list):\n",
    "    list_of_tuples = sorted([(cle, val) for l in list_of_list for (cle, val) in l], key=lambda x : x[0])\n",
    "    list_int = []\n",
    "    for cle, group in groupby(list_of_tuples, key=lambda x : x[0]):\n",
    "        list_int.append((cle, [g[1] for g in group]))\n",
    "    return list_int\n",
    "\n",
    "def map_reduce(data, mapper, reducer, parallelise=False):\n",
    "    my_map = map\n",
    "    if parallelise:\n",
    "        my_map = dask_map\n",
    "    list_of_list_inter = my_map(mapper, data)\n",
    "    list_inter = partitionner(list_of_list_inter)\n",
    "    list_red = my_map(reducer, list_inter)\n",
    "\n",
    "    return [(cle, val) for l in list_red for (cle, val) in l]"
   ]
  },
  {
   "cell_type": "code",
   "execution_count": 117,
   "metadata": {},
   "outputs": [],
   "source": [
    "def tokenise(text):\n",
    "    return text.lower().replace(\".\", \"\").split()\n",
    "\n",
    "import lorem\n",
    "\n",
    "data_wordcount = [\"sample0.txt\",\"sample1.txt\", \"sample2.txt\"]\n",
    "\n",
    "\n",
    "def mapper_words(cle_val):\n",
    "    freeze(2)\n",
    "    filename = cle_val[1]\n",
    "    with open(filename, 'rt', encoding='utf-8') as ifile:\n",
    "        content = ifile.read()\n",
    "    return [(w,1) for w in tokenise(content)]\n",
    "\n",
    "def reducer_words(cle_val):\n",
    "    freeze(0.5)\n",
    "    return [(cle_val[0], len(cle_val[1]))]\n",
    "\n",
    "data_mr_wordcount = list(enumerate(data_wordcount))\n"
   ]
  },
  {
   "cell_type": "code",
   "execution_count": 119,
   "metadata": {},
   "outputs": [
    {
     "name": "stdout",
     "output_type": "stream",
     "text": [
      "[('labore', 68), ('voluptatem', 61), ('modi', 58), ('amet', 55), ('porro', 54), ('neque', 53), ('eius', 52), ('numquam', 52), ('ipsum', 50), ('adipisci', 48), ('tempora', 48), ('dolor', 47), ('quaerat', 47), ('quiquia', 47), ('aliquam', 46), ('etincidunt', 45), ('dolore', 44), ('est', 44), ('velit', 41), ('consectetur', 40), ('ut', 40), ('dolorem', 39), ('sed', 39), ('non', 37), ('quisquam', 35), ('magnam', 28), ('sit', 26), ('consecteturdolorem', 1), ('nequeconsectetur', 1), ('temporanumquam', 1)]\n",
      "CPU times: total: 21.1 s\n",
      "Wall time: 21.1 s\n"
     ]
    }
   ],
   "source": [
    "%%time\n",
    "print(sorted(map_reduce(data_mr_wordcount, mapper_words, reducer_words,parallelise = False),key=lambda x:x[1], reverse=True))"
   ]
  },
  {
   "cell_type": "markdown",
   "metadata": {},
   "source": [
    "## Exercice #3 : PageRank en MapReduce parallélisé\n",
    "\n",
    "Reprendre l'exercice du PageRank en utilisant la fonction générique `map_reduce()` modifiée lors de l'exercice 2 ci-dessus. Ajouter un paramètre `parallelise` à la fonction `mr_pagerank()` qui sera transmis dircetement à la fonction `map_reduce()` pour pouvoir basculer d'un traitement sans parallélisation (par défaut) à un traitement avec parallélisation.\n",
    "\n",
    "On ajoutera les instructions nécessaires pour ralentir artificiellement les fonctions impliquées dans les étapes Map (par exemple : 0.1 secondes d'attente pour le `pr_mapper` et 0.1 seconde d'attente pour le `pr_reducer`). Utiliser les fichier `graph_web0.txt` à `graph_web5.txt` du graphe réparti fournis lors de l'exercice précédent sur PageRank..\n",
    "\n",
    "Sachant que le graphe complet utilisé comporte 61 noeuds et en se limitant à 10 itérations de l'algorithme *power iteration*, prévoir un ordre de grandeur du temps nécessaire au calcul des PageRank dans le cas non parallélisé.\n",
    "Tester et comparer les temps de traitement des deux implémentation en utilisant `%%time`.\n",
    "\n",
    "*[Votre réponse ici]()*\n",
    "\n",
    "*--> 10 x (61x0.1  +  61x0.1) = 122 secondes (~ 2 minutes)*\n",
    "\n",
    "Le code de l'exercie précédent du PageRank en MapReduce vous est fourni ci-dessous (à modifier pour l'exercice)."
   ]
  },
  {
   "cell_type": "code",
   "execution_count": 80,
   "metadata": {},
   "outputs": [],
   "source": [
    "def get_nodes_and_successors(filename):\n",
    "    out_list = []\n",
    "    with open(filename, 'rt', encoding=\"utf-8\") as i_file:\n",
    "        for line in i_file.readlines():\n",
    "            line = line.strip().split()\n",
    "            out_list.append((line[0], line[1:]))\n",
    "    return out_list\n",
    "\n",
    "def pr_mapper(my_tuple, alpha, N):\n",
    "    freeze(0.1)\n",
    "    (node, successors), pr = my_tuple\n",
    "    nbs = len(successors)\n",
    "    outlist = []\n",
    "    outlist.append((node, (1 - alpha)/(alpha*N))) # pour traiter le cas des noeuds sans prédécesseur (question 4.12)\n",
    "    contrib = pr/nbs\n",
    "    for s in successors:\n",
    "        outlist.append((s,contrib))\n",
    "    return outlist\n",
    "\n",
    "def pr_reducer(tuple, alpha):\n",
    "    freeze(0.1)\n",
    "    node, lst_pr = tuple\n",
    "    pr = alpha*reduce(add, lst_pr)  # formule qui prend en compte le traitement spécial des noeuds sans prédécesseur (question 4.12)\n",
    "    return [(node, pr)]\n",
    "\n",
    "\n",
    "def mr_pagerank(data_mr, alpha=0.9, max_iter=100, parallelise=False):\n",
    "    nodes_and_successors  = {x[0]:x[1] for l in map(get_nodes_and_successors, data_mr) for x in l}\n",
    "    N = len(nodes_and_successors)\n",
    "    R = [((node, successors), 1/N) for node,successors in nodes_and_successors.items()]\n",
    "    my_pr_mapper = lambda x : pr_mapper(x, alpha, N)\n",
    "    my_pr_reducer = lambda x : pr_reducer(x, alpha)\n",
    "    for i in range(max_iter):\n",
    "        print(f'iteration {i}')\n",
    "        mr_res = map_reduce(R, my_pr_mapper, my_pr_reducer, parallelise=parallelise)\n",
    "        R = [((node, nodes_and_successors[node]), pr) for node, pr in mr_res]\n",
    "\n",
    "    return mr_res\n",
    "\n",
    "data_mr = [f\"graph_web_{i}.txt\" for i in range(6)]"
   ]
  },
  {
   "cell_type": "code",
   "execution_count": 83,
   "metadata": {},
   "outputs": [
    {
     "name": "stdout",
     "output_type": "stream",
     "text": [
      "iteration 0\n",
      "iteration 1\n",
      "iteration 2\n",
      "iteration 3\n",
      "iteration 4\n",
      "iteration 5\n",
      "iteration 6\n",
      "iteration 7\n",
      "iteration 8\n",
      "iteration 9\n",
      "[('PAGE_20', 0.04345946128024342), ('PAGE_01', 0.039154034134838554), ('PAGE_39', 0.039039074303924046), ('PAGE_52', 0.035192725114315655), ('PAGE_06', 0.03176441412309123), ('PAGE_10', 0.031511640152138864), ('PAGE_42', 0.03105228751230894), ('PAGE_37', 0.030036167960026387), ('PAGE_16', 0.030010298413175734), ('PAGE_38', 0.02616859598522506), ('PAGE_30', 0.024913164017164317), ('PAGE_60', 0.023506291127890742), ('PAGE_32', 0.02307078315084029), ('PAGE_45', 0.022554318776542563), ('PAGE_24', 0.02253524161091848), ('PAGE_40', 0.021929739570579816), ('PAGE_50', 0.021225351812112356), ('PAGE_05', 0.021138169846874034), ('PAGE_29', 0.021134255899218773), ('PAGE_12', 0.02029488214060633), ('PAGE_11', 0.01970598020472508), ('PAGE_25', 0.017816287636312406), ('PAGE_07', 0.01740435596969446), ('PAGE_08', 0.0160255227845255), ('PAGE_55', 0.015781064233683383), ('PAGE_59', 0.01507519710104395), ('PAGE_44', 0.014361074369576976), ('PAGE_02', 0.014311123275999569), ('PAGE_13', 0.014237123889224605), ('PAGE_49', 0.013490624091415071), ('PAGE_17', 0.013421138944082658), ('PAGE_41', 0.013408641607350254), ('PAGE_48', 0.013357677156969353), ('PAGE_46', 0.01290165250487156), ('PAGE_43', 0.01270510310367322), ('PAGE_53', 0.012670851683080613), ('PAGE_19', 0.012578527607978524), ('PAGE_56', 0.012379420669171151), ('PAGE_54', 0.012185125559361262), ('PAGE_18', 0.012094923564738144), ('PAGE_14', 0.011674743098566814), ('PAGE_35', 0.011004539205539421), ('PAGE_31', 0.010451952078362674), ('PAGE_58', 0.010386311985957214), ('PAGE_36', 0.009772452064314837), ('PAGE_47', 0.009654235456657076), ('PAGE_04', 0.009529130114348082), ('PAGE_33', 0.00938091820466466), ('PAGE_09', 0.008815440115831559), ('PAGE_34', 0.008387489389864524), ('PAGE_03', 0.0077816611004203375), ('PAGE_26', 0.007043197483652877), ('PAGE_57', 0.00684813866828735), ('PAGE_27', 0.006037034522335958), ('PAGE_22', 0.006014785976481981), ('PAGE_21', 0.006007218441609403), ('PAGE_51', 0.004501869240134533), ('PAGE_15', 0.0035516379312809866), ('PAGE_23', 0.003068101515466187), ('PAGE_28', 0.0028474862544151307), ('PAGE_61', 0.0016393442622950815)]\n",
      "CPU times: total: 37.1 s\n",
      "Wall time: 37.3 s\n"
     ]
    }
   ],
   "source": [
    "%%time\n",
    "print(sorted(mr_pagerank(data_mr, alpha=0.9, max_iter=10, parallelise=True), key=lambda x: x[1], reverse=True))"
   ]
  }
 ],
 "metadata": {
  "kernelspec": {
   "display_name": "big-data",
   "language": "python",
   "name": "python3"
  },
  "language_info": {
   "codemirror_mode": {
    "name": "ipython",
    "version": 3
   },
   "file_extension": ".py",
   "mimetype": "text/x-python",
   "name": "python",
   "nbconvert_exporter": "python",
   "pygments_lexer": "ipython3",
   "version": "3.9.16"
  },
  "orig_nbformat": 4
 },
 "nbformat": 4,
 "nbformat_minor": 2
}
