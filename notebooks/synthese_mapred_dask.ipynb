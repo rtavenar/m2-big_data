{
 "cells": [
  {
   "cell_type": "markdown",
   "metadata": {},
   "source": [
    "# Synthèse Dask — Optimiser un pipeline et implémenter un Map/Reduce\n",
    "\n",
    "## Objectifs pédagogiques\n",
    "- Réviser les principes de base de Dask (`delayed`, calcul paresseux, `compute`, graphe de tâches).\n",
    "- Identifier et corriger les erreurs classiques de parallélisation.\n",
    "- Mettre en œuvre une logique **Map → Reduce** en Dask.\n",
    "- Visualiser et interpréter le graphe de calcul distribué."
   ]
  },
  {
   "cell_type": "markdown",
   "metadata": {},
   "source": [
    "## Contexte\n",
    "\n",
    "Un collègue a tenté de paralléliser le traitement d’un ensemble de fichiers contenant des nombres (un par ligne) pour calculer la **moyenne globale** de tous les fichiers.\n",
    "\n",
    "Malheureusement, son script **ne tire pas parti de Dask** : il exécute les tâches séquentiellement et brise le graphe de calcul.\n",
    "\n",
    "Vous devez :\n",
    "1. Identifier les erreurs de conception ;\n",
    "2. Réécrire le pipeline pour profiter du parallélisme de Dask ;\n",
    "3. Étendre la solution avec une logique **Map/Reduce** claire."
   ]
  },
  {
   "cell_type": "markdown",
   "metadata": {},
   "source": [
    "## Code de départ (non optimal)\n",
    "\n",
    "Voici le code initial fourni par votre collègue :"
   ]
  },
  {
   "cell_type": "code",
   "execution_count": null,
   "metadata": {},
   "outputs": [],
   "source": [
    "from dask import delayed\n",
    "\n",
    "def read_file(filename):\n",
    "    with open(filename, 'r') as f:\n",
    "        numbers = [(idx, float(line.strip())) for idx, line in enumerate(f.readlines())]\n",
    "    return numbers\n",
    "\n",
    "def sum_len(key_value_pairs):\n",
    "    return sum([v for k, v in key_value_pairs]), len(key_value_pairs)\n",
    "\n",
    "filenames = [\"data/moyenne/1.txt\", \"data/moyenne/2.txt\", \"data/moyenne/3.txt\"]\n",
    "\n",
    "sum_len_vals = []\n",
    "for f in filenames:\n",
    "    numbers = delayed(read_file)(f).compute()\n",
    "    sum_len_vals.append(sum_len(numbers))\n",
    "\n",
    "global_mean = sum([s for s, n in sum_len_vals]) / sum([n for s, n in sum_len_vals])\n",
    "print(\"Moyenne globale :\", global_mean)"
   ]
  },
  {
   "cell_type": "markdown",
   "id": "6acc0a1c",
   "metadata": {},
   "source": [
    "**Question :** Créez des fichiers `\"data/moyenne/1.txt\"`, `\"data/moyenne/2.txt\"`, `\"data/moyenne/3.txt\"` contenant des nombres aléatoires pour tester le code ci-dessus."
   ]
  },
  {
   "cell_type": "markdown",
   "metadata": {},
   "source": [
    "## Analyse et correction du code\n",
    "\n",
    "- Quel est le problème principal avec ce code ?\n",
    "- Modifiez le dans le cadre ci-dessous pour qu'il utilise correctement Dask et parallélise les opérations."
   ]
  },
  {
   "cell_type": "code",
   "execution_count": null,
   "metadata": {},
   "outputs": [],
   "source": []
  },
  {
   "cell_type": "markdown",
   "metadata": {},
   "source": [
    "## Version Map/Reduce\n",
    "\n",
    "On cherche maintenant à coder ce traitement dans le formalisme Map-Reduce.\n",
    "\n",
    "**Question :** Comment découper le problème en étapes Map et Reduce ?"
   ]
  },
  {
   "cell_type": "markdown",
   "id": "123d2fc8",
   "metadata": {},
   "source": [
    "*VOTRE REPONSE ICI*"
   ]
  },
  {
   "cell_type": "markdown",
   "id": "16609c5c",
   "metadata": {},
   "source": [
    "**Question :** Implémentez cette logique Map/Reduce en Dask dans le cadre ci-dessous."
   ]
  },
  {
   "cell_type": "code",
   "execution_count": null,
   "metadata": {},
   "outputs": [],
   "source": []
  }
 ],
 "metadata": {
  "kernelspec": {
   "display_name": "Python 3",
   "language": "python",
   "name": "python3"
  },
  "language_info": {
   "name": "python",
   "version": "3.x"
  }
 },
 "nbformat": 4,
 "nbformat_minor": 5
}
