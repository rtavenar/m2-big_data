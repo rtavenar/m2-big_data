{
  "cells": [
    {
      "cell_type": "markdown",
      "metadata": {
        "id": "Y-PtZLsYdZD0"
      },
      "source": [
        "# Installation de Hadoop\n",
        "\n",
        "#### Question #1\n",
        "\n",
        "A l'aide de la commande [`wget`](https://www.gnu.org/software/wget/manual/wget.html) télécharger dans le répertoire courant l'archive compressée de la dernière version des sources d'[Hadoop](https://hadoop.apache.org/)"
      ]
    },
    {
      "cell_type": "code",
      "execution_count": null,
      "metadata": {
        "colab": {
          "base_uri": "https://localhost:8080/"
        },
        "id": "wg_8iPX5c_Vu",
        "outputId": "d34f7ab1-cddb-44c9-857e-dc924c9df8ba"
      },
      "outputs": [],
      "source": [
        "!"
      ]
    },
    {
      "cell_type": "markdown",
      "metadata": {
        "id": "iGxCU2CWfLMx"
      },
      "source": [
        "#### Question #2\n",
        "\n",
        "En utilisant la commande [`tar`](https://www.gnu.org/software/tar/manual/tar.html) décompresser et extraire le contenu de cette archive dans le répertoire courant."
      ]
    },
    {
      "cell_type": "code",
      "execution_count": null,
      "metadata": {
        "colab": {
          "base_uri": "https://localhost:8080/"
        },
        "id": "8tyFMH16g_RI",
        "outputId": "0213bd12-550a-4538-b68d-ada974417bf6"
      },
      "outputs": [],
      "source": [
        "!"
      ]
    },
    {
      "cell_type": "markdown",
      "metadata": {
        "id": "EvhEl-j-hLiL"
      },
      "source": [
        "# Mise en place de Java\n",
        "L'utilisation de Hadoop nécessite d'avoir accès à Java. Une installation de Java existe par défaut sur les machines virtuelles fournies par Google Colab mais il est nécessaire d'indiquer le répertoire d'installation de Java dans une varible d'environnement `JAVA_HOME`.\n",
        "\n",
        "#### Question #3\n",
        "Chercher sur le web une commande Unix permettant d'obtenir le répertoire d'installation de Java sur une machine Linux."
      ]
    },
    {
      "cell_type": "code",
      "execution_count": null,
      "metadata": {
        "colab": {
          "base_uri": "https://localhost:8080/"
        },
        "id": "sYhXalJwilwL",
        "outputId": "1ad06cd2-30b9-4a0f-cf6d-b667d031bbba"
      },
      "outputs": [],
      "source": [
        "!"
      ]
    },
    {
      "cell_type": "markdown",
      "metadata": {
        "id": "atfWpmEfkCQz"
      },
      "source": [
        "#### Question #4\n",
        "A l'aide du module `os` de Python, affecter à la variable d'environnement `JAVA_HOME` la valeur du chemin trouvé à la question précédente."
      ]
    },
    {
      "cell_type": "code",
      "execution_count": null,
      "metadata": {
        "id": "2I8yUhfikkyS"
      },
      "outputs": [],
      "source": []
    },
    {
      "cell_type": "markdown",
      "metadata": {
        "id": "XqRjZXrHkt3i"
      },
      "source": [
        "# Test de Hadoop et utilisation de HDFS\n",
        "\n",
        "#### Question #5\n",
        "A l'aide du module `os` de Python ajouter le répertoire des exécuables binaires de Hadoop à la variable d'environnement `PATH`.\n",
        "\n"
      ]
    },
    {
      "cell_type": "code",
      "execution_count": null,
      "metadata": {
        "id": "k0Eo7pKDdetO"
      },
      "outputs": [],
      "source": []
    },
    {
      "cell_type": "markdown",
      "metadata": {
        "id": "Ir7LQ1v0dG2g"
      },
      "source": [
        "#### Question #6\n",
        "Tester le fonctionnement du binaire exécutable `hadoop` en affichant son aide (option `--help`)"
      ]
    },
    {
      "cell_type": "code",
      "execution_count": null,
      "metadata": {
        "colab": {
          "base_uri": "https://localhost:8080/"
        },
        "id": "O1y8ISU9shwF",
        "outputId": "cf6f54d1-9fbf-4f6c-af54-b94cc5305f82"
      },
      "outputs": [],
      "source": [
        "!"
      ]
    },
    {
      "cell_type": "markdown",
      "metadata": {
        "id": "-BpjXSllscr2"
      },
      "source": [
        "#### Question #7\n",
        "A l'aide de la commande `wget` télécharger dans le dossier courant les données météo journalières correspondant à la ville de Buffalo pour les années 2020, 2021 et 2022 (trois fichiers) depuis le site du [National Center for Environmental Information](https://www.ncei.noaa.gov/access/metadata/landing-page/bin/iso?id=gov.noaa.ncdc:C00546)"
      ]
    },
    {
      "cell_type": "code",
      "execution_count": null,
      "metadata": {
        "colab": {
          "base_uri": "https://localhost:8080/"
        },
        "id": "Mkxf97r1m_-V",
        "outputId": "0ad4d529-a12f-4a0b-dbd3-aca6fea8095e"
      },
      "outputs": [],
      "source": [
        "!"
      ]
    },
    {
      "cell_type": "markdown",
      "metadata": {
        "id": "p-OsM9BcnUC-"
      },
      "source": [
        "#### Question #8\n",
        "\n",
        "En utilisant Hadoop, créer sur le HDFS un répertoire nommé `/hdfs`"
      ]
    },
    {
      "cell_type": "code",
      "execution_count": null,
      "metadata": {
        "id": "8am8MbdOnfl4"
      },
      "outputs": [],
      "source": [
        "!"
      ]
    },
    {
      "cell_type": "markdown",
      "metadata": {
        "id": "cMB6exlqnkeh"
      },
      "source": [
        "#### Question #9\n",
        "En utilisant Hadoop, copier les fichiers textes (extension `.txt`) depuis le répertoire courant du système local vers le répertoire `/hdfs` du HDFS."
      ]
    },
    {
      "cell_type": "code",
      "execution_count": null,
      "metadata": {
        "id": "StInyQywpNvL"
      },
      "outputs": [],
      "source": [
        "!"
      ]
    },
    {
      "cell_type": "markdown",
      "metadata": {
        "id": "CZJIozkupUxn"
      },
      "source": [
        "#### Question #10\n",
        "En utilisant Hadoop, créer un sous répertoire `input` dans le répertoire `/hdfs` du HDFS puis déplacer les fichiers textes depuis `/hdfs` dans ce nouveau répertoire."
      ]
    },
    {
      "cell_type": "code",
      "execution_count": null,
      "metadata": {
        "id": "_Lau0u4Vpqm-"
      },
      "outputs": [],
      "source": [
        "!"
      ]
    },
    {
      "cell_type": "code",
      "execution_count": null,
      "metadata": {
        "id": "wwBTIFrUqPUA"
      },
      "outputs": [],
      "source": [
        "!"
      ]
    },
    {
      "cell_type": "markdown",
      "metadata": {
        "id": "-PtSdM2cqcN0"
      },
      "source": [
        "# MapReduce avec Hadoop Streaming\n",
        "Le but de cette partie est d'utiliser MapReduce sur Hadoop pour obtenir la valeur maximale de température **par mois** sur les trois années 2020, 2021 et 2022 dans la ville de Buffalo (données contenues dans les trois fichiers téléchargés précédemment).\n",
        "\n",
        "#### Question #11\n",
        "Tester le binaire exécutable `mapred streaming` en affichant son aide."
      ]
    },
    {
      "cell_type": "code",
      "execution_count": null,
      "metadata": {
        "colab": {
          "base_uri": "https://localhost:8080/"
        },
        "id": "2ZVcaB_yrmFl",
        "outputId": "1c2bd1c8-8dec-40b6-c550-672833686407"
      },
      "outputs": [],
      "source": [
        "!"
      ]
    },
    {
      "cell_type": "markdown",
      "metadata": {
        "id": "_14mlf7DrnTG"
      },
      "source": [
        "#### Question #12\n",
        "Dans le répertoire courant, créer deux nouveaux fichiers `mapper.py` et `reducer.py` et ouvrir ces fichiers dans l'éditeur de Colab en double cliquant dessus.\n",
        "\n",
        "Vous insérerez la ligne suivante  au début de ces fichiers pour permettre leur exécution :\n",
        "\n",
        "`#!/usr/bin/env python`\n"
      ]
    },
    {
      "cell_type": "markdown",
      "metadata": {
        "id": "1p7uPTdsr_IC"
      },
      "source": [
        "#### Question #13\n",
        "Ecrire un programme `mapper.py` permettant de découper chaque ligne récupérée sur l'entrée standard `stdin` (lignes des fichiers de données représentant des données météo journalières), et d'en extraire le mois et la température max journalière. La date est fournie en colonne 2 des fichiers et la température max en colonne 6.\n",
        "\n",
        "Le mois servira de clé intermédiaire et la température de valeur intermédiaire de sortie du `mapper`. Ces deux éléments seront imprimés sur la sortie standard séparés par une tabulation grâce à la fonction `print()`.\n",
        "\n",
        "L'entrée standard `stdin` pourra être récupérée grâce au module `sys`de Python."
      ]
    },
    {
      "cell_type": "markdown",
      "metadata": {
        "id": "a1bIJNp3wpfu"
      },
      "source": [
        "#### Question #14\n",
        "\n",
        "Ecrire un programme `reducer.py` qui récupère les clés (mois) et valeurs (température max journalière) intermédiaires (issues des processus `mapper`) sur l'entrée standard `stdin` et qui calcule le maximum de température par mois. Le mois et la température max par mois seront imprimés sur la sortie standard comme clé et valeur de sortie du processus MapReduce.\n",
        "\n",
        "*Indication : utiliser le fait que le `reducer` reçoive les paires de clé et valeur intermédiaires triés par clé.*"
      ]
    },
    {
      "cell_type": "markdown",
      "metadata": {
        "id": "1dP-sGf-aVgO"
      },
      "source": [
        "#### Question #15\n",
        "\n",
        "Vérifier que vous avez les droits d'exécution sur les fichiers `mapper.py` et `reducer.py` et les ajouter si ce n'est pas le cas."
      ]
    },
    {
      "cell_type": "code",
      "execution_count": null,
      "metadata": {
        "colab": {
          "base_uri": "https://localhost:8080/"
        },
        "id": "d8IZ_7Zoaj3m",
        "outputId": "98093896-f1f6-4c83-8a51-592cd1df2d91"
      },
      "outputs": [],
      "source": [
        "!"
      ]
    },
    {
      "cell_type": "markdown",
      "metadata": {
        "id": "qhjnS7xjaueW"
      },
      "source": [
        "#### Question #16\n",
        "Pour tester votre programme `mapper.py` écrire une commande Unix permettant d'afficher le contenu des fichiers d'extension `.txt` (téléchargés dans le répertoir courant du système local) sur la sortie standard et de passer ce contenu sur l'entrée standard du programme `mapper.py`."
      ]
    },
    {
      "cell_type": "code",
      "execution_count": null,
      "metadata": {
        "colab": {
          "base_uri": "https://localhost:8080/"
        },
        "id": "8TxqfK9MbS8L",
        "outputId": "d37fd58d-62eb-4bc3-fb5f-2433abe5fe64"
      },
      "outputs": [],
      "source": [
        "!"
      ]
    },
    {
      "cell_type": "markdown",
      "metadata": {
        "id": "73g0fB8LbbmM"
      },
      "source": [
        "#### Question #17\n",
        "Pour tester votre programme `reducer.py` écrire une commande Unix qui permet d'enchainer les traitements du `mapper` et du `reducer`.\n",
        "\n",
        "*Indication : on pourra utiliser la commande [`sort`](https://www.gnu.org/software/coreutils/manual/html_node/sort-invocation.html) de Unix.*"
      ]
    },
    {
      "cell_type": "code",
      "execution_count": null,
      "metadata": {
        "colab": {
          "base_uri": "https://localhost:8080/"
        },
        "id": "O_RKZPgjcFHS",
        "outputId": "c79e953f-47a5-4683-c800-40d9182f1403"
      },
      "outputs": [],
      "source": [
        "!"
      ]
    },
    {
      "cell_type": "markdown",
      "metadata": {
        "id": "Q08PabLscFwR"
      },
      "source": [
        "#### Question #18\n",
        "\n",
        "Ecrire la ligne de commande utilisant Hadoop Streaming permettant de lancer le traitement MapReduce sur Hadoop en utilisant les programmes `mapper.py` et `reducer.py`. Le résultat sera écrit dans le répertoire `/hdfs/output` du HDFS."
      ]
    },
    {
      "cell_type": "code",
      "execution_count": null,
      "metadata": {
        "colab": {
          "base_uri": "https://localhost:8080/"
        },
        "id": "HhVeA-b1t5Y4",
        "outputId": "2998d100-c83f-45d8-dc80-becc6aad50fe"
      },
      "outputs": [],
      "source": [
        "!"
      ]
    },
    {
      "cell_type": "markdown",
      "metadata": {
        "id": "EMKjzkqkcrvp"
      },
      "source": [
        "#### Question #19\n",
        "En utilisant Hadoop, visualiser le contenu du répertoire `/hdfs/output`"
      ]
    },
    {
      "cell_type": "code",
      "execution_count": null,
      "metadata": {
        "colab": {
          "base_uri": "https://localhost:8080/"
        },
        "id": "C_RjIozAc3kk",
        "outputId": "d1d6b23b-46b1-41b3-958d-5c9b6dae5501"
      },
      "outputs": [],
      "source": [
        "!"
      ]
    },
    {
      "cell_type": "markdown",
      "metadata": {
        "id": "o_CJ5jDRc4XX"
      },
      "source": [
        "#### Question #20\n",
        "En utilisant Hadoop, afficher le contenu du fichier résultat du MapReduce."
      ]
    },
    {
      "cell_type": "code",
      "execution_count": null,
      "metadata": {
        "colab": {
          "base_uri": "https://localhost:8080/"
        },
        "id": "G4ZCrGn7dGRa",
        "outputId": "1b2895c1-c139-459b-d700-94ef2673b206"
      },
      "outputs": [],
      "source": [
        "!"
      ]
    },
    {
      "cell_type": "markdown",
      "metadata": {
        "id": "0ovHti6-dIAW"
      },
      "source": [
        "#### Question #21\n",
        "En utilisant Hadoop, transférer ce fichier résultat depuis le HDFS sur le système local (dans le répertoire courant)"
      ]
    },
    {
      "cell_type": "code",
      "execution_count": null,
      "metadata": {
        "id": "9dCFPOn9dUYa"
      },
      "outputs": [],
      "source": [
        "!"
      ]
    }
  ],
  "metadata": {
    "colab": {
      "provenance": []
    },
    "kernelspec": {
      "display_name": "Python 3",
      "name": "python3"
    },
    "language_info": {
      "name": "python"
    }
  },
  "nbformat": 4,
  "nbformat_minor": 0
}
