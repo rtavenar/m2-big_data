{
 "cells": [
  {
   "cell_type": "markdown",
   "metadata": {
    "cell_id": "00000-c21b7f89-338a-46c1-8612-630cc9354351",
    "deepnote_cell_type": "markdown",
    "output_cleared": false,
    "slideshow": {
     "slide_type": "slide"
    }
   },
   "source": [
    "# Calculs asynchrones\n",
    "\n",
    "Dans cette séance, vous utiliserez le module `dask` qui fournit une API simple pour paralléliser des calculs même dans le cas où le cadre Map-Reduce ne s'applique pas."
   ]
  },
  {
   "cell_type": "markdown",
   "metadata": {
    "cell_id": "00001-72f2fc06-2deb-4760-90ed-888e27d44924",
    "deepnote_cell_type": "markdown",
    "output_cleared": false,
    "slideshow": {
     "slide_type": "fragment"
    }
   },
   "source": [
    "**Question.** Implémentez une fonction `slowadd` qui prend en entrée deux nombres et en retourne la somme, après avoir attendu une seconde (se fait via la fonction `sleep` du module `time`). Utilisez cette fonction pour calculer la somme $(3+7)$ et vérifiez que le calcul prend environ une seconde à s'exécuter. N'utilisez pas `dask` pour le moment."
   ]
  },
  {
   "cell_type": "code",
   "execution_count": null,
   "metadata": {
    "cell_id": "00002-bd38e863-8f90-471a-92c2-1c121975878b",
    "deepnote_cell_type": "code",
    "execution_millis": 994,
    "execution_start": 1604927565265,
    "output_cleared": false,
    "slideshow": {
     "slide_type": "slide"
    },
    "source_hash": "7d554a00"
   },
   "outputs": [],
   "source": [
    "%%time\n",
    "from time import sleep\n",
    "\n"
   ]
  },
  {
   "cell_type": "markdown",
   "metadata": {},
   "source": [
    "**Question.** Répétez l'opération en rendant votre appel à la fonction `slowadd` asynchrone à l'aide de [`dask.delayed`](https://docs.dask.org/en/stable/delayed-api.html#dask.delayed.delayed). Combien de temps prendra le calcul cette fois-ci ? Vérifiez."
   ]
  },
  {
   "cell_type": "code",
   "execution_count": null,
   "metadata": {
    "cell_id": "00003-aa511393-f934-42fe-8a1f-9ae67a6b7aa4",
    "deepnote_cell_type": "code",
    "execution_millis": 1016,
    "execution_start": 1604927568104,
    "output_cleared": false,
    "slideshow": {
     "slide_type": "fragment"
    },
    "source_hash": "ffc83e6b"
   },
   "outputs": [],
   "source": [
    "%%time\n",
    "import dask\n",
    "\n"
   ]
  },
  {
   "cell_type": "markdown",
   "metadata": {},
   "source": [
    "**Question.** Supposons que l'on dispose d'une liste `li = [1, 7, 9, 2]` et que l'on souhaite utiliser `slowadd` pour calculer $(3+x)$ où $x$ prend successivement chacune des valeurs de la liste `li`. Combien de temps prendra ce calcul si l'on ne met pas en place de stratégie de calcul parallèle ? Vérifiez."
   ]
  },
  {
   "cell_type": "code",
   "execution_count": null,
   "metadata": {},
   "outputs": [],
   "source": [
    "%%time\n",
    "li = [1, 7, 9, 2]\n",
    "\n"
   ]
  },
  {
   "cell_type": "markdown",
   "metadata": {},
   "source": [
    "**Question.** Reprenez maintenant le code ci-dessus utilisant `dask.delayed` pour permettre l'exécution des calculs de la question précédente en parallèle. Combien de temps prendra le calcul cette fois ? Vérifiez."
   ]
  },
  {
   "cell_type": "code",
   "execution_count": null,
   "metadata": {},
   "outputs": [],
   "source": [
    "%%time\n",
    "li = [1, 7, 9, 2]\n",
    "\n"
   ]
  },
  {
   "cell_type": "markdown",
   "metadata": {},
   "source": [
    "## Exercice\n",
    "\n",
    "Jetez un oeil au code ci-dessous. On aimerait le rendre asynchrone en retardant l'exécution de certaines fonctions, mais pas toutes.\n",
    "Dans cet exemple, on itère sur une liste d'entiers. \n",
    "Si l'entier courant est pair, alors on souhaite appeler la fonction `half`, sinon, on veut appeler `odd_process`. \n",
    "\n",
    "Quelle(s) fonction faut-il décorer avec `dask.delayed` pour atteindre un temps d'exécution le plus court possible ? Quel devrait être le temps d'exécution ? Vérifiez."
   ]
  },
  {
   "cell_type": "code",
   "execution_count": null,
   "metadata": {},
   "outputs": [],
   "source": [
    "import dask.delayed\n",
    "\n",
    "def half(x):\n",
    "    sleep(1)\n",
    "    return x // 2\n",
    "\n",
    "def odd_process(x):\n",
    "    sleep(1)\n",
    "    return 3*x+1\n",
    "\n",
    "def is_even(x):\n",
    "    return not x % 2\n",
    "\n",
    "data = list(range(8))\n",
    "\n",
    "result = []\n",
    "for x in data:\n",
    "    if is_even(x):\n",
    "        result.append(half(x))\n",
    "    else:\n",
    "        result.append(odd_process(x))\n",
    "\n",
    "total = sum(result)"
   ]
  },
  {
   "cell_type": "code",
   "execution_count": null,
   "metadata": {},
   "outputs": [],
   "source": [
    "%%time\n",
    "# Votre implémentation ici"
   ]
  },
  {
   "cell_type": "markdown",
   "metadata": {},
   "source": [
    "**Question.** Visualisez le graphe de calcul et faites le lien avec les calculs effectués."
   ]
  },
  {
   "cell_type": "code",
   "execution_count": null,
   "metadata": {},
   "outputs": [],
   "source": []
  },
  {
   "cell_type": "markdown",
   "metadata": {},
   "source": [
    "## Bonnes pratiques\n",
    "\n",
    "Dans la suite, nous verrons non pas des nouvelles fonctionnalités de `dask` mais plutôt des bonnes pratiques relatives à son utilisation.\n",
    "\n",
    "### 1. Appeler `delayed` sur une fonction, pas sur sa valeur de retour\n",
    "\n",
    "**Question.** Jetez un oeil aux deux morceaux de code suivants. Quelle différence voyez-vous ? Pourquoi cette différence est importante ? Quel temps de calcul aurons nous pour chacune des deux variantes ?"
   ]
  },
  {
   "cell_type": "code",
   "execution_count": null,
   "metadata": {},
   "outputs": [],
   "source": [
    "%%time\n",
    "\n",
    "def slowadd(a, b):\n",
    "    sleep(1)\n",
    "    return a + b\n",
    "\n",
    "li = [1, 7, 9, 2]\n",
    "\n",
    "l = [dask.delayed(slowadd(3, x)) for x in li]\n",
    "sum(l).compute()"
   ]
  },
  {
   "cell_type": "code",
   "execution_count": null,
   "metadata": {},
   "outputs": [],
   "source": [
    "%%time\n",
    "\n",
    "def slowadd(a, b):\n",
    "    sleep(1)\n",
    "    return a + b\n",
    "\n",
    "li = [1, 7, 9, 2]\n",
    "\n",
    "l = [dask.delayed(slowadd)(3, x) for x in li]\n",
    "sum(l).compute()"
   ]
  },
  {
   "cell_type": "markdown",
   "metadata": {},
   "source": [
    "### 2. Attendre d'avoir beaucoup de calculs avant de les lancer\n",
    "\n",
    "Pour améliorer le parallélisme, il est préférable de lancer de nombreux calculs à la fois plutôt que de lancer les calculs un à un.\n",
    "\n",
    "**Question.** Parmi les deux implémentations suivantes, laquelle est la plus souhaitable ?"
   ]
  },
  {
   "cell_type": "code",
   "execution_count": null,
   "metadata": {},
   "outputs": [],
   "source": [
    "results = []\n",
    "\n",
    "for x in li:\n",
    "    y = dask.delayed(slowadd)(3, x)\n",
    "    results.append(y.compute())\n",
    "\n",
    "results"
   ]
  },
  {
   "cell_type": "code",
   "execution_count": null,
   "metadata": {},
   "outputs": [],
   "source": [
    "results = []\n",
    "\n",
    "for x in li:\n",
    "    y = dask.delayed(slowadd)(3, x)\n",
    "    results.append(y)\n",
    "\n",
    "dask.delayed(results).compute()"
   ]
  },
  {
   "cell_type": "markdown",
   "metadata": {},
   "source": [
    "### 3. Multiplier les tâches...\n",
    "\n",
    "Le principe de fonctionnement de `dask.delayed` est de permettre de paralléliser plusieurs appels de fonctions `delayed`.\n",
    "\n",
    "**Question.** En conséquence, quelle(s) fonction(s) faut-il décorer d'un `dask.delayed` dans le code ci-dessous pour obtenir des gains dûs à la parallélisation ?\n",
    "* Uniquement la fonction `truc` ?\n",
    "* Toutes les fonctions `machin`, `chose` et `bidule` ?"
   ]
  },
  {
   "cell_type": "code",
   "execution_count": null,
   "metadata": {},
   "outputs": [],
   "source": [
    "def machin():\n",
    "    sleep(1)\n",
    "    return 12\n",
    "\n",
    "def chose():\n",
    "    sleep(1)\n",
    "    return 13\n",
    "\n",
    "def bidule():\n",
    "    sleep(1)\n",
    "    return 23\n",
    "\n",
    "def truc(x):\n",
    "    s = 0\n",
    "    for i in range(x):\n",
    "        s += 3 * machin() + 2 * chose() + bidule()\n",
    "    return s\n",
    "\n",
    "truc(5)"
   ]
  },
  {
   "cell_type": "markdown",
   "metadata": {},
   "source": [
    "### 4. ... mais pas trop quand même\n",
    "\n",
    "À chaque création de tâche `delayed` va correspondre un petit délai supplémentaire. Il faut donc éviter de découper trop finement vos jobs. Un bon moyen pour faire cela est d'utiliser les objets `dask` (ici un `dask.array` dans lesquels `dask` fera les calculs par lots, aussi appelés _chunks_).\n",
    "\n",
    "On évitera donc :\n",
    "\n",
    "```python\n",
    "results = []\n",
    "for x in range(10000000):\n",
    "    y = dask.delayed(slowadd)(3, x)\n",
    "    results.append(y)\n",
    "```\n",
    "\n",
    "Et on préférera :"
   ]
  },
  {
   "cell_type": "code",
   "execution_count": null,
   "metadata": {},
   "outputs": [],
   "source": [
    "%%time\n",
    "\n",
    "import dask.array as da\n",
    "\n",
    "b = da.arange(10000000, chunks=1000)\n",
    "b = b.map_blocks(lambda x: slowadd(3, x))\n",
    "b[:10].compute()"
   ]
  }
 ],
 "metadata": {
  "deepnote_execution_queue": [],
  "deepnote_notebook_id": "b910fa80-efb8-4641-99b8-a67a363a6c65",
  "kernelspec": {
   "display_name": "py3.10_ml",
   "language": "python",
   "name": "python3"
  },
  "language_info": {
   "codemirror_mode": {
    "name": "ipython",
    "version": 3
   },
   "file_extension": ".py",
   "mimetype": "text/x-python",
   "name": "python",
   "nbconvert_exporter": "python",
   "pygments_lexer": "ipython3",
   "version": "3.10.12"
  }
 },
 "nbformat": 4,
 "nbformat_minor": 4
}
