{
 "cells": [
  {
   "cell_type": "markdown",
   "metadata": {},
   "source": [
    "# Synthèse Dask — Optimiser un pipeline et implémenter un Map/Reduce\n",
    "\n",
    "## Objectifs pédagogiques\n",
    "- Réviser les principes de base de Dask (`delayed`, calcul paresseux, `compute`, graphe de tâches).\n",
    "- Identifier et corriger les erreurs classiques de parallélisation.\n",
    "- Mettre en œuvre une logique **Map → Reduce** en Dask.\n",
    "- Visualiser et interpréter le graphe de calcul distribué."
   ]
  },
  {
   "cell_type": "markdown",
   "metadata": {},
   "source": [
    "## Contexte\n",
    "\n",
    "Un collègue a tenté de paralléliser le traitement d’un ensemble de fichiers contenant des nombres (un par ligne) pour calculer la **moyenne globale** de tous les fichiers.\n",
    "\n",
    "Malheureusement, son script **ne tire pas parti de Dask** : il exécute les tâches séquentiellement et brise le graphe de calcul.\n",
    "\n",
    "Vous devez :\n",
    "1. Identifier les erreurs de conception ;\n",
    "2. Réécrire le pipeline pour profiter du parallélisme de Dask ;\n",
    "3. Étendre la solution avec une logique **Map/Reduce** claire."
   ]
  },
  {
   "cell_type": "markdown",
   "metadata": {},
   "source": [
    "## Code de départ (non optimal)\n",
    "\n",
    "Voici le code initial fourni par votre collègue :"
   ]
  },
  {
   "cell_type": "code",
   "execution_count": 5,
   "metadata": {},
   "outputs": [
    {
     "name": "stdout",
     "output_type": "stream",
     "text": [
      "Moyenne globale : 4418314755.416667\n"
     ]
    }
   ],
   "source": [
    "from dask import delayed\n",
    "\n",
    "def read_file(filename):\n",
    "    with open(filename, 'r') as f:\n",
    "        numbers = [float(line.strip()) for line in f.readlines()]\n",
    "    return numbers\n",
    "\n",
    "def sum_len(numbers):\n",
    "    return sum(numbers), len(numbers)\n",
    "\n",
    "filenames = [\"data/moyenne/1.txt\", \"data/moyenne/2.txt\", \"data/moyenne/3.txt\"]\n",
    "\n",
    "sum_len_vals = []\n",
    "for f in filenames:\n",
    "    numbers = delayed(read_file)(f).compute()\n",
    "    sum_len_vals.append(sum_len(numbers))\n",
    "\n",
    "global_mean = sum([s for s, n in sum_len_vals]) / sum([n for s, n in sum_len_vals])\n",
    "print(\"Moyenne globale :\", global_mean)"
   ]
  },
  {
   "cell_type": "markdown",
   "id": "6acc0a1c",
   "metadata": {},
   "source": [
    "**Question :** Créez des fichiers `\"data/moyenne/1.txt\"`, `\"data/moyenne/2.txt\"`, `\"data/moyenne/3.txt\"` contenant des nombres aléatoires pour tester le code ci-dessus."
   ]
  },
  {
   "cell_type": "markdown",
   "metadata": {},
   "source": [
    "## Analyse et correction du code\n",
    "\n",
    "- Quel est le problème principal avec ce code ?\n",
    "- Modifiez le dans le cadre ci-dessous pour qu'il utilise correctement Dask et parallélise les opérations."
   ]
  },
  {
   "cell_type": "code",
   "execution_count": 6,
   "metadata": {},
   "outputs": [
    {
     "name": "stdout",
     "output_type": "stream",
     "text": [
      "Moyenne globale (pipeline) : 4418314755.416667\n"
     ]
    }
   ],
   "source": [
    "from dask import delayed\n",
    "\n",
    "def read_file(filename):\n",
    "    with open(filename, 'r') as f:\n",
    "        numbers = [float(line.strip()) for line in f.readlines()]\n",
    "    return numbers\n",
    "\n",
    "def sum_len(numbers):\n",
    "    return sum(numbers), len(numbers)\n",
    "\n",
    "filenames = [\"data/moyenne/1.txt\", \"data/moyenne/2.txt\", \"data/moyenne/3.txt\"]\n",
    "\n",
    "sum_len_vals = []\n",
    "for f in filenames:\n",
    "    numbers = delayed(read_file)(f)\n",
    "    sum_len_vals.append(delayed(sum_len)(numbers))\n",
    "\n",
    "global_mean = sum(map(lambda t: t[0], sum_len_vals)) / sum(map(lambda t: t[1], sum_len_vals))\n",
    "\n",
    "result = global_mean.compute()\n",
    "print(\"Moyenne globale (pipeline) :\", result)"
   ]
  },
  {
   "cell_type": "markdown",
   "metadata": {},
   "source": [
    "## Version Map/Reduce\n",
    "\n",
    "On cherche maintenant à coder ce traitement dans le formalisme Map-Reduce.\n",
    "\n",
    "**Question :** Comment découper le problème en étapes Map et Reduce ?"
   ]
  },
  {
   "cell_type": "markdown",
   "id": "123d2fc8",
   "metadata": {},
   "source": [
    "Voici une proposition de découpage :\n",
    "\n",
    "- **Map** : lire chaque fichier et calculer une somme partielle et un compte.\n",
    "- **Reduce** : combiner les résultats partiels pour obtenir la somme et le compte globaux.\n",
    "- **Finalisation** : calculer la moyenne globale."
   ]
  },
  {
   "cell_type": "markdown",
   "id": "16609c5c",
   "metadata": {},
   "source": [
    "**Question :** Implémentez cette logique Map/Reduce en Dask dans le cadre ci-dessous."
   ]
  },
  {
   "cell_type": "code",
   "execution_count": null,
   "id": "a58f2fec",
   "metadata": {},
   "outputs": [
    {
     "name": "stdout",
     "output_type": "stream",
     "text": [
      "Clé: 0 Moyenne (map-only delayed): 4418314755.416667\n"
     ]
    }
   ],
   "source": [
    "from dask import delayed\n",
    "from functools import reduce\n",
    "from collections import defaultdict\n",
    "\n",
    "def partial_sum(filename):\n",
    "    with open(filename, 'r') as f:\n",
    "        numbers = [float(line.strip()) for line in f.readlines()]\n",
    "    return (0, (sum(numbers), len(numbers)))\n",
    "\n",
    "filenames = [\"data/moyenne/1.txt\", \"data/moyenne/2.txt\", \"data/moyenne/3.txt\"]\n",
    "\n",
    "# Seules les MAP sont différées\n",
    "mapped = [delayed(partial_sum)(f) for f in filenames]\n",
    "\n",
    "# On force le compute ici : on récupère la liste de paires (key, (sum,count))\n",
    "pairs = list(map(lambda t: t.compute(), mapped))\n",
    "\n",
    "# Partitionnement et réduction exécutés immédiatement (séquentiel)\n",
    "partitions = {}\n",
    "for k, v in pairs:\n",
    "    partitions[k] = partitions.get(k, []) + [v]\n",
    "\n",
    "def combine(p1, p2):\n",
    "    s1, n1 = p1\n",
    "    s2, n2 = p2\n",
    "    return s1 + s2, n1 + n2\n",
    "\n",
    "results = {}\n",
    "for k, vals in partitions.items():\n",
    "    total = reduce(combine, vals)\n",
    "    s, n = total\n",
    "    results[k] = s / n\n",
    "\n",
    "for k, mean in results.items():\n",
    "    print(\"Clé:\", k, \"Moyenne (map-only delayed):\", mean)"
   ]
  }
 ],
 "metadata": {
  "kernelspec": {
   "display_name": "py3.10_ml (3.10.16)",
   "language": "python",
   "name": "python3"
  },
  "language_info": {
   "codemirror_mode": {
    "name": "ipython",
    "version": 3
   },
   "file_extension": ".py",
   "mimetype": "text/x-python",
   "name": "python",
   "nbconvert_exporter": "python",
   "pygments_lexer": "ipython3",
   "version": "3.10.16"
  }
 },
 "nbformat": 4,
 "nbformat_minor": 5
}
