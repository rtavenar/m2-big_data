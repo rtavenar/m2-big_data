{
 "cells": [
  {
   "attachments": {},
   "cell_type": "markdown",
   "metadata": {},
   "source": [
    "# MapReduce 1/2\n",
    "\n",
    "Dans cette séance vous allez utiliser les fonctions [`map()`](https://docs.python.org/fr/3/library/functions.html#map) et [`functools.reduce()`](https://docs.python.org/fr/3/library/functools.html#functools.reduce) de Python pour illustrer les concepts du modèle de programmation MapReduce.\n",
    "\n",
    "## Exercice #1 : similarité cosinus avec les fonctions `map` et `functools.reduce`\n",
    "\n",
    "Le but de cet exercice est de comprendre le fonctionnement des fonctions `map` et `functools.reduce` de Python et de les appliquer au calcul de la [similarité cosinus](https://fr.wikipedia.org/wiki/Similarit%C3%A9_cosinus) entre deux vecteurs.\n",
    "\n",
    "### Processus Map\n",
    "\n",
    "**Question 1.1**\n",
    "\n",
    "Ecrire et tester une fonction `carre_liste()` qui prend une liste de nombres en entrée et renvoie la liste des carrés de ces nombres en utilisant la fonction `carre()` fournie et une liste en compréhension. Afficher le résultat obtenu."
   ]
  },
  {
   "cell_type": "code",
   "execution_count": null,
   "metadata": {},
   "outputs": [],
   "source": [
    "def carre(x):\n",
    "    return x**2\n",
    "    \n",
    "# code de votre fonction carre_liste"
   ]
  },
  {
   "attachments": {},
   "cell_type": "markdown",
   "metadata": {},
   "source": [
    "**Question 1.2**\n",
    "\n",
    "Ecrire une instruction qui fait la même chose en utilisant la fonction `map()` de python. Afficher le résultat obtenu.\n",
    "\n",
    "*Indication : la fonction `map()` renvoie un itérateur et non une liste. On peut cependant obtenir la liste correspondante en applicant un \"cast\" à cet itérateur à l'aide de la fonction `list()`*"
   ]
  },
  {
   "cell_type": "code",
   "execution_count": null,
   "metadata": {},
   "outputs": [],
   "source": []
  },
  {
   "attachments": {},
   "cell_type": "markdown",
   "metadata": {},
   "source": [
    "**Question 1.3**\n",
    "\n",
    "Ecrire une fonction `prod_listes()` qui prend en entrée 2 listes de nombres de même taille et qui renvoie une liste des produits 2 à 2 de ces nombres en utilisant la fonction `produit()` fournie et une liste en compréhension. Afficher le résultat obtenu.\n",
    "\n",
    "*Indication : pour une meilleure implémentation, penser à utiliser la fonction [`zip()`](https://docs.python.org/3/library/functions.html#zip) de Python*"
   ]
  },
  {
   "cell_type": "code",
   "execution_count": null,
   "metadata": {},
   "outputs": [],
   "source": [
    "def produit(x,y):\n",
    "    return x*y\n",
    "\n",
    "# code de votre fonction prod_liste()"
   ]
  },
  {
   "attachments": {},
   "cell_type": "markdown",
   "metadata": {},
   "source": [
    "**Question 1.4**\n",
    "\n",
    "Ecrire une instruction qui fait la même chose en utilisant la fonction `map()` de python. Afficher le résultat obtenu."
   ]
  },
  {
   "cell_type": "code",
   "execution_count": null,
   "metadata": {},
   "outputs": [],
   "source": []
  },
  {
   "attachments": {},
   "cell_type": "markdown",
   "metadata": {},
   "source": [
    "### Processus Map+Reduce\n",
    "\n",
    "**Question 1.5**\n",
    "\n",
    "Ecrire une fonction **recursive** `reduce_liste()` qui prend en premier paramètre le nom d'une fonction d'opération (telle que `addition` fournies ci-dessous, ou `produit` fournies ci-dessus) et en deuxième paramètre une liste de nombres, et qui permet d'appliquer l'opération de façon récursive à l'ensemble des nombres de la liste. \n",
    "\n",
    "Exemple : si `f()` est la fonction d'opération et `x1,x2,x3,x4` les éléments de la liste, l'appel de la fonction récursive sur cette liste doit renvoyer le résultat final suivant :\n",
    "\n",
    "`f(f(f(x1, x2), x3), x4)`\n",
    "\n",
    "On prendra soin de bien identifier le dernier calcul de la récursion (c.a.d celui qui arrête les appels récursifs).\n",
    "\n",
    "Tester cette fonction sur la liste de carrés obtenue à la question 1.2 et afficher le résultat."
   ]
  },
  {
   "cell_type": "code",
   "execution_count": null,
   "metadata": {},
   "outputs": [],
   "source": [
    "def addition(x,y):\n",
    "    return x+y\n"
   ]
  },
  {
   "attachments": {},
   "cell_type": "markdown",
   "metadata": {},
   "source": [
    "**Question 1.6**\n",
    "\n",
    "Ecrire une instruction unique imbriquant les fonctions `map()`, `reduce()` (du module `functools`), `carre()` et `addition()` (fournies ci-dessus) permettant de calculer la somme des carrés d'une liste. Afficher le résultat obtenu."
   ]
  },
  {
   "cell_type": "code",
   "execution_count": null,
   "metadata": {},
   "outputs": [],
   "source": [
    "from functools import reduce\n"
   ]
  },
  {
   "attachments": {},
   "cell_type": "markdown",
   "metadata": {},
   "source": [
    "*Remarque : au lieu de définir nous même la fonction `addition()` on peut passer en premier paramètre à `reduce()` la fonction `add` du module `operator` de Python.*"
   ]
  },
  {
   "attachments": {},
   "cell_type": "markdown",
   "metadata": {},
   "source": [
    "**Question 1.6**\n",
    "\n",
    "Ecrire une instruction unique imbriquant les fonctions `map()`, `reduce()`, `produit()` (fournie ci-dessus) et la fonction `add()` du module `operator` permettant de calculer la somme des produits 2 à 2 des éléments de deux listes de même taille. Afficher le résultat obtenu."
   ]
  },
  {
   "cell_type": "code",
   "execution_count": null,
   "metadata": {},
   "outputs": [],
   "source": [
    "from operator import add\n"
   ]
  },
  {
   "attachments": {},
   "cell_type": "markdown",
   "metadata": {},
   "source": [
    "*Remarque : comme pour l'addition, au lieu de définir la fonction `produit()` on peut utiliser la fonction `mul()` du module `operator`.*"
   ]
  },
  {
   "attachments": {},
   "cell_type": "markdown",
   "metadata": {},
   "source": [
    "**Question 1.7**\n",
    "\n",
    "Ecrire une fonction `sim_cos()` prenant en entrée deux listes de nombres de même taille représentant deux vecteurs, et qui calcule la similarité cosinus entre ces deux vecteurs."
   ]
  },
  {
   "cell_type": "code",
   "execution_count": null,
   "metadata": {},
   "outputs": [],
   "source": [
    "from math import sqrt\n",
    "from operator import mul\n"
   ]
  },
  {
   "cell_type": "markdown",
   "metadata": {},
   "source": [
    "## Exercice #2 : wordcount avec les fonctions `map` et `functools.reduce`\n",
    "\n",
    "Le but de l'exercice est d'écrire un programme de comptage d'occurences de mots dans un corpus de texte (réparti en plusieurs fichiers) en utilisant les fonctions `map` et `functools.reduce` de Python. Les fichiers de texte seront générés automatiquement grâce au module `lorem` (génération de faux textes en latin).\n",
    "\n",
    "Le prétraitement des textes sera ici très basique : on passera le texte en minuscule et on retirera les points de ponctuattion."
   ]
  },
  {
   "cell_type": "code",
   "execution_count": null,
   "metadata": {},
   "outputs": [],
   "source": [
    "import lorem\n",
    "\n",
    "data_in = []\n",
    "\n",
    "# création des fichiers texte et de la liste de ces fichiers\n",
    "for i in range(3):\n",
    "    with open(f\"data/wordcount/sample{i}.txt\", \"w\", encoding='utf-8') as f:\n",
    "        for j in range(2):\n",
    "            f.write(lorem.text())\n",
    "    data_in.append(f\"data/wordcount/sample{i}.txt\")\n",
    "\n",
    "print(data_in)"
   ]
  },
  {
   "cell_type": "markdown",
   "metadata": {},
   "source": [
    "**Question 2.1**\n",
    "\n",
    "Ecrire une fonction `tokenise()` qui prend en entrée un texte, qui pré-traite ce texte et renvoie une liste des mots du texte. Tester sur un des fichiers texte créés."
   ]
  },
  {
   "cell_type": "code",
   "execution_count": null,
   "metadata": {},
   "outputs": [],
   "source": []
  },
  {
   "cell_type": "markdown",
   "metadata": {},
   "source": [
    "**Question 2.2**\n",
    "\n",
    "Ecrire une fonction `combine_words()` qui prend en entrée une liste de mot et renvoie le nombre d'occurences de chaque mot unique rencontré sous forme d'une liste de tuples `(word, nb_word)`. Tester sur le résultat précédent."
   ]
  },
  {
   "cell_type": "code",
   "execution_count": null,
   "metadata": {},
   "outputs": [],
   "source": []
  },
  {
   "cell_type": "markdown",
   "metadata": {},
   "source": [
    "**Question 2.3**\n",
    "\n",
    "Ecrire une fonction `tokenise_and_combine_words()` qui prend en entrée un nom de fichier texte et qui utilise les deux fonctions précédentes pour fournir en sortie une liste des tuples `(word, nb_word)` indiquant le nombre d'occurences de chaque mot rencontré dans le fichier. Tester sur un des fichiers texte."
   ]
  },
  {
   "cell_type": "code",
   "execution_count": null,
   "metadata": {},
   "outputs": [],
   "source": []
  },
  {
   "cell_type": "markdown",
   "metadata": {},
   "source": [
    "**Question 2.4**\n",
    "\n",
    "Ecrire une instruction utilisant la fonction `map` de python permettant d'obtenir une listes des liste de tuples `(word, nb_word)` obtenues sur chaque fichier texte du corpus (ou plus précisément un itérateur sur cette liste). Afficher le résultat."
   ]
  },
  {
   "cell_type": "code",
   "execution_count": 25,
   "metadata": {},
   "outputs": [],
   "source": []
  },
  {
   "cell_type": "markdown",
   "metadata": {},
   "source": [
    "**Question 2.5**\n",
    "\n",
    "Ecrire une fonction `group_counts()` qui prendra en entrée une liste des listes de tuples `(word, nb_word)` issues des différents processus Map (ou des itérateurs sur ces listes) et qui fournira en sortie une liste de tuples `(word, list_nb_word)` où `list_nb_word` est une liste des occurences du mot `word` dans les différents fichiers textes.\n",
    "*Exemple de sortie de la fonction : `[('numquam', [26, 17, 16]), ('quiquia', [21, 13, 26]), ('ipsum', [19, 14, 19]),... ]`*"
   ]
  },
  {
   "cell_type": "code",
   "execution_count": null,
   "metadata": {},
   "outputs": [],
   "source": []
  },
  {
   "cell_type": "markdown",
   "metadata": {},
   "source": [
    "**Question 2.6**\n",
    "\n",
    "Ecrire une fonction `reduce_counts()` qui prendra en entrée un tuple `(word, list_nb_word)` et qui utilisera la fonction `functools.reduce()` pour renvoyer un tuple `(word, tot_nb_word)` où `tot_nb_word` est le nombre d'occurences du mot `word` cumulées sur l'ensemble du corpus. Tester sur le premier élément de la liste obtenue à la question précédente."
   ]
  },
  {
   "cell_type": "code",
   "execution_count": null,
   "metadata": {},
   "outputs": [],
   "source": []
  },
  {
   "cell_type": "markdown",
   "metadata": {},
   "source": [
    "**Question 2.7**\n",
    "\n",
    "Ecrire une instruction utilisant la fonction `map()` qui permet d'obtenir une liste de tuples `(word, tot_nb_word)` sur l'ensemble du corpus. Afficher le résultat obtenu par ordre décroissant du nombre d'occurences de mot."
   ]
  },
  {
   "cell_type": "code",
   "execution_count": null,
   "metadata": {},
   "outputs": [],
   "source": []
  }
 ],
 "metadata": {
  "kernelspec": {
   "display_name": "big-data",
   "language": "python",
   "name": "python3"
  },
  "language_info": {
   "codemirror_mode": {
    "name": "ipython",
    "version": 3
   },
   "file_extension": ".py",
   "mimetype": "text/x-python",
   "name": "python",
   "nbconvert_exporter": "python",
   "pygments_lexer": "ipython3",
   "version": "3.9.16"
  },
  "orig_nbformat": 4
 },
 "nbformat": 4,
 "nbformat_minor": 2
}
