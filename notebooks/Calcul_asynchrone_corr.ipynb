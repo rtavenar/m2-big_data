{
 "cells": [
  {
   "cell_type": "markdown",
   "metadata": {
    "cell_id": "00000-c21b7f89-338a-46c1-8612-630cc9354351",
    "deepnote_cell_type": "markdown",
    "output_cleared": false,
    "slideshow": {
     "slide_type": "slide"
    }
   },
   "source": [
    "# Calculs asynchrones\n",
    "\n",
    "Dans cette séance, vous utiliserez le module `concurrent.futures` qui fournit une API simple pour paralléliser des calculs même dans le cas où le cadre Map-Reduce ne s'applique pas."
   ]
  },
  {
   "cell_type": "markdown",
   "metadata": {
    "cell_id": "00001-72f2fc06-2deb-4760-90ed-888e27d44924",
    "deepnote_cell_type": "markdown",
    "output_cleared": false,
    "slideshow": {
     "slide_type": "fragment"
    }
   },
   "source": [
    "## `Executor.submit`\n",
    "\n",
    "La méthode `submit` lance un calcul dans un nouveau _thread_ (ou _process_, selon le type d'`Executor` choisi). Cette méthode retour un objet `Future` qui recevra le résultat. Pour collecter ce résultat, on fait appel à la méthode `.result()` de cet objet `Future`, qui retournera le résultat, une fois disponible.\n",
    "\n",
    "**Question.** Implémentez une fonction `slowadd` qui prend en entrée deux nombres et en retourne la somme, après avoir attendu une seconde. Utilisez cette fonction pour calculer la somme $(3+7)$ et vérifiez que le calcul prend environ une seconde à s'exécuter."
   ]
  },
  {
   "cell_type": "code",
   "execution_count": 3,
   "metadata": {
    "cell_id": "00002-bd38e863-8f90-471a-92c2-1c121975878b",
    "deepnote_cell_type": "code",
    "execution_millis": 994,
    "execution_start": 1604927565265,
    "output_cleared": false,
    "slideshow": {
     "slide_type": "slide"
    },
    "source_hash": "7d554a00"
   },
   "outputs": [
    {
     "name": "stdout",
     "output_type": "stream",
     "text": [
      "CPU times: user 836 µs, sys: 1.38 ms, total: 2.22 ms\n",
      "Wall time: 1 s\n"
     ]
    },
    {
     "data": {
      "text/plain": [
       "10"
      ]
     },
     "execution_count": 3,
     "metadata": {},
     "output_type": "execute_result"
    }
   ],
   "source": [
    "%%time\n",
    "from time import sleep\n",
    "\n",
    "def slowadd(a, b, delay=1):\n",
    "    sleep(delay)\n",
    "    return a + b\n",
    "\n",
    "slowadd(3, 7)"
   ]
  },
  {
   "cell_type": "markdown",
   "metadata": {},
   "source": [
    "**Question.** Répétez l'opération en encapsulant votre appel à la fonction `slowadd` dans un [`ThreadPoolExecutor.submit`](https://docs.python.org/3/library/concurrent.futures.html#concurrent.futures.Executor.submit). Combien de temps prendra le calcul cette fois-ci ? Changer le paramètre `max_workers` aura-t-il un effet ici ? Vérifiez."
   ]
  },
  {
   "cell_type": "code",
   "execution_count": 4,
   "metadata": {
    "cell_id": "00003-aa511393-f934-42fe-8a1f-9ae67a6b7aa4",
    "deepnote_cell_type": "code",
    "execution_millis": 1016,
    "execution_start": 1604927568104,
    "output_cleared": false,
    "slideshow": {
     "slide_type": "fragment"
    },
    "source_hash": "ffc83e6b"
   },
   "outputs": [
    {
     "name": "stdout",
     "output_type": "stream",
     "text": [
      "10\n",
      "CPU times: user 1.88 ms, sys: 1.53 ms, total: 3.41 ms\n",
      "Wall time: 1 s\n"
     ]
    }
   ],
   "source": [
    "%%time\n",
    "from concurrent.futures import ThreadPoolExecutor\n",
    "\n",
    "with ThreadPoolExecutor(max_workers=1) as e:\n",
    "    future = e.submit(slowadd, 3, 7)\n",
    "    print(future.result())\n"
   ]
  },
  {
   "cell_type": "markdown",
   "metadata": {},
   "source": [
    "**Question.** Supposons que l'on dispose d'une liste `li = [1, 7, 9, 2]` et que l'on souhaite utiliser `slowadd` pour calculer $(3+x)$ où $x$ prend successivement chacune des valeurs de la liste `li`. Combien de temps prendra ce calcul si l'on ne met pas en place de stratégie de calcul parallèle ? Vérifiez."
   ]
  },
  {
   "cell_type": "code",
   "execution_count": 5,
   "metadata": {},
   "outputs": [
    {
     "name": "stdout",
     "output_type": "stream",
     "text": [
      "[4, 10, 12, 5]\n",
      "CPU times: user 1.26 ms, sys: 1.56 ms, total: 2.83 ms\n",
      "Wall time: 4.01 s\n"
     ]
    }
   ],
   "source": [
    "%%time\n",
    "li = [1, 7, 9, 2]\n",
    "\n",
    "print([slowadd(3, x) for x in li])"
   ]
  },
  {
   "cell_type": "markdown",
   "metadata": {},
   "source": [
    "**Question.** Reprenez maintenant le code ci-dessus utilisant un `ThreadPoolExecutor` pour permettre l'exécution des calculs de la question précédente en parallèle. À quelle valeur minimale faut-il fixer `max_workers` ? Combien de temps prendra le calcul cette fois ? Vérifiez."
   ]
  },
  {
   "cell_type": "code",
   "execution_count": 6,
   "metadata": {},
   "outputs": [
    {
     "name": "stdout",
     "output_type": "stream",
     "text": [
      "[4, 10, 12, 5]\n",
      "CPU times: user 2.67 ms, sys: 2.8 ms, total: 5.47 ms\n",
      "Wall time: 1.01 s\n"
     ]
    }
   ],
   "source": [
    "%%time\n",
    "with ThreadPoolExecutor(max_workers=len(li)) as e:\n",
    "    futures = [e.submit(slowadd, 3, x) for x in li]\n",
    "    results = [f.result() for f in futures]\n",
    "    print(results)"
   ]
  },
  {
   "cell_type": "markdown",
   "metadata": {},
   "source": [
    "## Exercice de synthèse\n",
    "\n",
    "Dans cet exercice, on suppose qu'on a à notre disposition un ensemble de vecteurs $(x_0, \\dots, x_{n-1})$ de $\\mathbb{R}^p$ et que l'on veut calculer leurs distances deux à deux et stocker ces distances dans une matrice $A$ de taille $n\\times n$ telle que :\n",
    "\n",
    "$$A_{i, j} = d(x_i, x_j)^2$$\n",
    "\n",
    "On prendra pour distance $d(\\cdot, \\cdot)$ la distance Euclidienne, et l'on utilisera le fait que pour cette distance, on a :\n",
    "\n",
    "$$d(a, b)^2 = \\|a\\|^2 + \\|b\\|^2 - 2 \\left\\langle a, b \\right\\rangle$$\n",
    "\n",
    "**Question.** Calculez la matrice $A$ obtenue pour le jeu de données Olivetti Faces obtenu comme suit :"
   ]
  },
  {
   "cell_type": "code",
   "execution_count": 7,
   "metadata": {},
   "outputs": [],
   "source": [
    "from sklearn.datasets import fetch_olivetti_faces\n",
    "\n",
    "X, _ = fetch_olivetti_faces(return_X_y=True)"
   ]
  },
  {
   "cell_type": "markdown",
   "metadata": {},
   "source": [
    "Pour calculer cette matrice, vous prendrez soin :\n",
    "* d'utiliser l'astuce décrite ci-dessus\n",
    "* de ne pas calculer plusieurs fois les termes de normes au carré"
   ]
  },
  {
   "cell_type": "code",
   "execution_count": 19,
   "metadata": {},
   "outputs": [
    {
     "name": "stdout",
     "output_type": "stream",
     "text": [
      "CPU times: user 3.08 s, sys: 1.31 s, total: 4.4 s\n",
      "Wall time: 3.6 s\n"
     ]
    }
   ],
   "source": [
    "%%time\n",
    "import numpy as np\n",
    "\n",
    "with ThreadPoolExecutor(max_workers=5) as e:\n",
    "    A = [[0. for _ in range(len(X))] for _ in range(len(X))]\n",
    "    normes_au_carre = [e.submit(np.dot, x, x) for x in X]\n",
    "    produits_scalaires = [[e.submit(np.dot, X[i], X[j]) for j in range(len(X))] for i in range(len(X))]\n",
    "    for i in range(len(X)):\n",
    "        for j in range(len(X)):\n",
    "            A[i][j] = normes_au_carre[i].result() + normes_au_carre[j].result() - 2 * produits_scalaires[i][j].result()"
   ]
  },
  {
   "cell_type": "markdown",
   "metadata": {},
   "source": [
    "**Question.** Comparez l'efficacité de votre implémentation avec celle de la fonction [`cdist`](https://docs.scipy.org/doc/scipy/reference/generated/scipy.spatial.distance.cdist.html) de `scipy`."
   ]
  },
  {
   "cell_type": "code",
   "execution_count": 16,
   "metadata": {},
   "outputs": [
    {
     "name": "stdout",
     "output_type": "stream",
     "text": [
      "CPU times: user 168 ms, sys: 4.54 ms, total: 173 ms\n",
      "Wall time: 171 ms\n"
     ]
    }
   ],
   "source": [
    "%%time\n",
    "from scipy.spatial.distance import cdist\n",
    "\n",
    "A = cdist(X, X, metric=\"sqeuclidean\")"
   ]
  },
  {
   "cell_type": "markdown",
   "metadata": {},
   "source": [
    "## Exercice de synthèse #2\n",
    "\n",
    "**TODO** : exercice avec des téléchargements mais pas un simple map-reduce pour illustrer un cas où c'est utile"
   ]
  }
 ],
 "metadata": {
  "deepnote_execution_queue": [],
  "deepnote_notebook_id": "b910fa80-efb8-4641-99b8-a67a363a6c65",
  "kernelspec": {
   "display_name": "py3.10_ml",
   "language": "python",
   "name": "python3"
  },
  "language_info": {
   "codemirror_mode": {
    "name": "ipython",
    "version": 3
   },
   "file_extension": ".py",
   "mimetype": "text/x-python",
   "name": "python",
   "nbconvert_exporter": "python",
   "pygments_lexer": "ipython3",
   "version": "3.10.12"
  }
 },
 "nbformat": 4,
 "nbformat_minor": 4
}
